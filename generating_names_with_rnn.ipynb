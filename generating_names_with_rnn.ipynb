{
  "nbformat": 4,
  "nbformat_minor": 0,
  "metadata": {
    "colab": {
      "provenance": []
    },
    "kernelspec": {
      "display_name": "Python 3",
      "language": "python",
      "name": "python3"
    },
    "language_info": {
      "codemirror_mode": {
        "name": "ipython",
        "version": 3
      },
      "file_extension": ".py",
      "mimetype": "text/x-python",
      "name": "python",
      "nbconvert_exporter": "python",
      "pygments_lexer": "ipython3",
      "version": "3.8.5"
    }
  },
  "cells": [
    {
      "cell_type": "markdown",
      "metadata": {
        "id": "ffuHOST6CsLm"
      },
      "source": [
        "# Generating names with recurrent neural networks\n",
        "\n",
        "In this programming assignment you'll find yourself delving into the heart (and other intestines) of recurrent neural networks on a class of toy problems.\n",
        "\n",
        "Struggle to find a name for the variable? Let's see how you'll come up with a name for your son/daughter. Surely no human has expertize over what is a good child name, so let us train RNN instead."
      ]
    },
    {
      "cell_type": "code",
      "metadata": {
        "id": "WulV-Skdzc8Y",
        "colab": {
          "base_uri": "https://localhost:8080/"
        },
        "outputId": "113e0c57-3d44-4e90-8558-847e0364f416"
      },
      "source": [
        "%%bash\n",
        "\n",
        "shred -u setup_colab.py\n",
        "\n",
        "wget https://raw.githubusercontent.com/hse-aml/intro-to-dl-pytorch/main/utils/setup_colab.py -O setup_colab.py"
      ],
      "execution_count": null,
      "outputs": [
        {
          "output_type": "stream",
          "text": [
            "shred: setup_colab.py: failed to open for writing: No such file or directory\n",
            "--2021-04-17 09:18:14--  https://raw.githubusercontent.com/hse-aml/intro-to-dl-pytorch/main/utils/setup_colab.py\n",
            "Resolving raw.githubusercontent.com (raw.githubusercontent.com)... 185.199.111.133, 185.199.110.133, 185.199.108.133, ...\n",
            "Connecting to raw.githubusercontent.com (raw.githubusercontent.com)|185.199.111.133|:443... connected.\n",
            "HTTP request sent, awaiting response... 200 OK\n",
            "Length: 1649 (1.6K) [text/plain]\n",
            "Saving to: ‘setup_colab.py’\n",
            "\n",
            "     0K .                                                     100% 15.7M=0s\n",
            "\n",
            "2021-04-17 09:18:14 (15.7 MB/s) - ‘setup_colab.py’ saved [1649/1649]\n",
            "\n"
          ],
          "name": "stderr"
        }
      ]
    },
    {
      "cell_type": "code",
      "metadata": {
        "id": "NBDyjj2ezc8Y"
      },
      "source": [
        "import setup_colab\n",
        "\n",
        "setup_colab.setup_week05()"
      ],
      "execution_count": null,
      "outputs": []
    },
    {
      "cell_type": "code",
      "metadata": {
        "id": "dloEnPemCsLt"
      },
      "source": [
        "import numpy as np\n",
        "import matplotlib.pyplot as plt"
      ],
      "execution_count": null,
      "outputs": []
    },
    {
      "cell_type": "markdown",
      "metadata": {
        "id": "zOVCrUnHQmJT"
      },
      "source": [
        "### Fill in your Coursera token and email\n",
        "To successfully submit your answers to our grader, please fill in your Coursera submission token and email."
      ]
    },
    {
      "cell_type": "code",
      "metadata": {
        "id": "UAeDUQxwQnUa"
      },
      "source": [
        "import grading\n",
        "\n",
        "grader = grading.Grader(\n",
        "    assignment_key=\"cULEpp2NEeemQBKZKgu93A\",\n",
        "    all_parts=[\"pttMO\", \"uly0D\", \"mf20L\", \"zwTu9\"]\n",
        ")"
      ],
      "execution_count": null,
      "outputs": []
    },
    {
      "cell_type": "code",
      "metadata": {
        "id": "hnklRR5-QnXO"
      },
      "source": [
        "# token expires every 30 min\n",
        "COURSERA_TOKEN = \"hVbjJKdZ79SRLmwB\"\n",
        "COURSERA_EMAIL = \"y.zvorykina@gmail.com\""
      ],
      "execution_count": null,
      "outputs": []
    },
    {
      "cell_type": "markdown",
      "metadata": {
        "id": "mTT2uW5xCsLu"
      },
      "source": [
        "# Load data\n",
        "The dataset contains ~8k names from different cultures, all in latin transcript.\n",
        "\n",
        "This notebook has been designed so as to allow you to quickly swap names for something similar: deep learning article titles, IKEA furniture, pokemon names, etc."
      ]
    },
    {
      "cell_type": "code",
      "metadata": {
        "ExecuteTime": {
          "end_time": "2018-08-13T20:26:42.701832Z",
          "start_time": "2018-08-13T20:26:42.697766Z"
        },
        "id": "dhFyOX6PCsLv"
      },
      "source": [
        "start_token = \" \"  # so that the network knows that we're generating a first token\n",
        "\n",
        "# this is the token for padding,\n",
        "# we will add fake pad token at the end of names\n",
        "# to make them of equal size for further batching\n",
        "pad_token = \"#\"\n",
        "\n",
        "with open(\"names.txt\") as f:\n",
        "    names = f.read()[:-1].split('\\n')\n",
        "    names = [start_token + name for name in names]"
      ],
      "execution_count": null,
      "outputs": []
    },
    {
      "cell_type": "code",
      "metadata": {
        "ExecuteTime": {
          "end_time": "2018-08-13T20:26:42.707885Z",
          "start_time": "2018-08-13T20:26:42.703302Z"
        },
        "id": "Kf43mc6CCsLv",
        "colab": {
          "base_uri": "https://localhost:8080/"
        },
        "outputId": "9e1e5f9e-1e54-40fe-d2d9-2ce0e4afebfd"
      },
      "source": [
        "print('number of samples:', len(names))\n",
        "for x in names[::1000]:\n",
        "    print(x)"
      ],
      "execution_count": null,
      "outputs": [
        {
          "output_type": "stream",
          "text": [
            "number of samples: 7944\n",
            " Abagael\n",
            " Claresta\n",
            " Glory\n",
            " Liliane\n",
            " Prissie\n",
            " Geeta\n",
            " Giovanne\n",
            " Piggy\n"
          ],
          "name": "stdout"
        }
      ]
    },
    {
      "cell_type": "code",
      "metadata": {
        "id": "Wd5CaSanGnSn"
      },
      "source": [
        "sets=[]\n",
        "for x in names:\n",
        "  a=list(x)\n",
        "  b=set(a)\n",
        "  sets.append([ch for ch in a])\n"
      ],
      "execution_count": null,
      "outputs": []
    },
    {
      "cell_type": "code",
      "metadata": {
        "id": "8caft4RqH6kv"
      },
      "source": [
        "result = {x for l in sets for x in l}"
      ],
      "execution_count": null,
      "outputs": []
    },
    {
      "cell_type": "code",
      "metadata": {
        "id": "y2-LDPzk0JvW"
      },
      "source": [
        "result.add('#')"
      ],
      "execution_count": null,
      "outputs": []
    },
    {
      "cell_type": "code",
      "metadata": {
        "colab": {
          "base_uri": "https://localhost:8080/"
        },
        "id": "XGbNfTdt0Zt3",
        "outputId": "746a782f-5ba0-4ea2-ddcc-f6e544d66742"
      },
      "source": [
        "result=list(result)\n",
        "result"
      ],
      "execution_count": null,
      "outputs": [
        {
          "output_type": "execute_result",
          "data": {
            "text/plain": [
              "['z',\n",
              " 'U',\n",
              " 'b',\n",
              " 't',\n",
              " 'W',\n",
              " 'N',\n",
              " 'Y',\n",
              " 'E',\n",
              " 'v',\n",
              " ' ',\n",
              " 'G',\n",
              " 'o',\n",
              " 'r',\n",
              " 'T',\n",
              " 'I',\n",
              " 's',\n",
              " 'H',\n",
              " 'h',\n",
              " 'm',\n",
              " 'R',\n",
              " 'F',\n",
              " 'y',\n",
              " 'n',\n",
              " '#',\n",
              " 'd',\n",
              " 'k',\n",
              " 'x',\n",
              " 'M',\n",
              " 'S',\n",
              " 'Q',\n",
              " 'K',\n",
              " 'a',\n",
              " 'j',\n",
              " 'f',\n",
              " 'u',\n",
              " 'p',\n",
              " 'C',\n",
              " 'D',\n",
              " 'g',\n",
              " 'w',\n",
              " 'Z',\n",
              " 'e',\n",
              " 'l',\n",
              " 'i',\n",
              " 'q',\n",
              " 'J',\n",
              " 'B',\n",
              " 'O',\n",
              " \"'\",\n",
              " 'P',\n",
              " '-',\n",
              " 'A',\n",
              " 'X',\n",
              " 'c',\n",
              " 'L',\n",
              " 'V']"
            ]
          },
          "metadata": {
            "tags": []
          },
          "execution_count": 10
        }
      ]
    },
    {
      "cell_type": "code",
      "metadata": {
        "ExecuteTime": {
          "end_time": "2018-08-13T20:26:42.857411Z",
          "start_time": "2018-08-13T20:26:42.709371Z"
        },
        "id": "72rNxCG9CsLv",
        "colab": {
          "base_uri": "https://localhost:8080/",
          "height": 298
        },
        "outputId": "cb39896b-005c-4908-ac3a-27489af41d2c"
      },
      "source": [
        "MAX_LENGTH = max(map(len, names))\n",
        "print(\"max length:\", MAX_LENGTH)\n",
        "\n",
        "plt.title('Sequence length distribution')\n",
        "plt.hist(list(map(len, names)), bins=25);"
      ],
      "execution_count": null,
      "outputs": [
        {
          "output_type": "stream",
          "text": [
            "max length: 16\n"
          ],
          "name": "stdout"
        },
        {
          "output_type": "display_data",
          "data": {
            "image/png": "[encoded data removed]",
            "text/plain": [
              "<Figure size 432x288 with 1 Axes>"
            ]
          },
          "metadata": {
            "tags": [],
            "needs_background": "light"
          }
        }
      ]
    },
    {
      "cell_type": "markdown",
      "metadata": {
        "id": "T3VEZIuHCsLv"
      },
      "source": [
        "# Text processing\n",
        "\n",
        "First we need to collect a \"vocabulary\" of all unique tokens i.e. unique characters. We can then encode inputs as a sequence of character ids."
      ]
    },
    {
      "cell_type": "code",
      "metadata": {
        "ExecuteTime": {
          "end_time": "2018-08-13T20:26:42.864592Z",
          "start_time": "2018-08-13T20:26:42.858725Z"
        },
        "id": "CLCx5pkcCsLw",
        "colab": {
          "base_uri": "https://localhost:8080/"
        },
        "outputId": "2b06ec7b-be69-486f-c1b6-c1b27f9f586c"
      },
      "source": [
        "tokens = result ### YOUR CODE HERE: all unique characters in the dataset ###\n",
        "\n",
        "num_tokens = len(tokens)\n",
        "print ('num_tokens = ', num_tokens)\n",
        "\n",
        "assert 50 < num_tokens < 60, \"Names should contain within 50 and 60 unique tokens depending on encoding\""
      ],
      "execution_count": null,
      "outputs": [
        {
          "output_type": "stream",
          "text": [
            "num_tokens =  56\n"
          ],
          "name": "stdout"
        }
      ]
    },
    {
      "cell_type": "code",
      "metadata": {
        "id": "yckkYuOUIx1Z"
      },
      "source": [
        "index_to_list = dict()\n",
        "for elem in list(result):\n",
        "  list_res=list(result)\n",
        "  a=list_res.index(elem)\n",
        "  index_to_list[elem]=a"
      ],
      "execution_count": null,
      "outputs": []
    },
    {
      "cell_type": "code",
      "metadata": {
        "colab": {
          "base_uri": "https://localhost:8080/"
        },
        "id": "hSZ9mDwkJifb",
        "outputId": "a43d2444-e946-4937-c0bd-93dd421652b1"
      },
      "source": [
        "index_to_list"
      ],
      "execution_count": null,
      "outputs": [
        {
          "output_type": "execute_result",
          "data": {
            "text/plain": [
              "{' ': 9,\n",
              " '#': 23,\n",
              " \"'\": 48,\n",
              " '-': 50,\n",
              " 'A': 51,\n",
              " 'B': 46,\n",
              " 'C': 36,\n",
              " 'D': 37,\n",
              " 'E': 7,\n",
              " 'F': 20,\n",
              " 'G': 10,\n",
              " 'H': 16,\n",
              " 'I': 14,\n",
              " 'J': 45,\n",
              " 'K': 30,\n",
              " 'L': 54,\n",
              " 'M': 27,\n",
              " 'N': 5,\n",
              " 'O': 47,\n",
              " 'P': 49,\n",
              " 'Q': 29,\n",
              " 'R': 19,\n",
              " 'S': 28,\n",
              " 'T': 13,\n",
              " 'U': 1,\n",
              " 'V': 55,\n",
              " 'W': 4,\n",
              " 'X': 52,\n",
              " 'Y': 6,\n",
              " 'Z': 40,\n",
              " 'a': 31,\n",
              " 'b': 2,\n",
              " 'c': 53,\n",
              " 'd': 24,\n",
              " 'e': 41,\n",
              " 'f': 33,\n",
              " 'g': 38,\n",
              " 'h': 17,\n",
              " 'i': 43,\n",
              " 'j': 32,\n",
              " 'k': 25,\n",
              " 'l': 42,\n",
              " 'm': 18,\n",
              " 'n': 22,\n",
              " 'o': 11,\n",
              " 'p': 35,\n",
              " 'q': 44,\n",
              " 'r': 12,\n",
              " 's': 15,\n",
              " 't': 3,\n",
              " 'u': 34,\n",
              " 'v': 8,\n",
              " 'w': 39,\n",
              " 'x': 26,\n",
              " 'y': 21,\n",
              " 'z': 0}"
            ]
          },
          "metadata": {
            "tags": []
          },
          "execution_count": 14
        }
      ]
    },
    {
      "cell_type": "markdown",
      "metadata": {
        "id": "61QZczNkCsLw"
      },
      "source": [
        "### Cast everything from symbols into identifiers\n",
        "\n",
        "Instead of symbols we'll feed our recurrent neural network with ids of characters from our dictionary.\n",
        "\n",
        "To create such dictionary, let's assign `token_to_id`"
      ]
    },
    {
      "cell_type": "code",
      "metadata": {
        "ExecuteTime": {
          "end_time": "2018-08-13T20:26:42.870330Z",
          "start_time": "2018-08-13T20:26:42.866135Z"
        },
        "id": "9AxRKAp0CsLx"
      },
      "source": [
        "token_to_id = index_to_list  ### YOUR CODE HERE: create a dictionary of {symbol -> its  index in tokens}\n",
        "\n",
        "assert len(tokens) == len(token_to_id), \"dictionaries must have same size\""
      ],
      "execution_count": null,
      "outputs": []
    },
    {
      "cell_type": "code",
      "metadata": {
        "ExecuteTime": {
          "end_time": "2018-08-13T20:26:42.875943Z",
          "start_time": "2018-08-13T20:26:42.871834Z"
        },
        "id": "vJ4tU0V-CsLx"
      },
      "source": [
        "def to_matrix(lines, max_len=None, pad=token_to_id[pad_token], dtype='int32', batch_first = True):\n",
        "\n",
        "    \"\"\"Casts a list of names into rnn-digestable matrix\"\"\"\n",
        "\n",
        "    max_len = max_len or max(map(len, lines))\n",
        "    lines_ix = np.zeros([len(lines), max_len], dtype) + pad\n",
        "\n",
        "    for i in range(len(lines)):\n",
        "        line_ix = [token_to_id[c] for c in lines[i]]\n",
        "        lines_ix[i, :len(line_ix)] = line_ix\n",
        "\n",
        "    if not batch_first: # convert [batch, time] into [time, batch]\n",
        "        lines_ix = np.transpose(lines_ix)\n",
        "\n",
        "    return lines_ix"
      ],
      "execution_count": null,
      "outputs": []
    },
    {
      "cell_type": "code",
      "metadata": {
        "ExecuteTime": {
          "end_time": "2018-08-13T20:26:42.883107Z",
          "start_time": "2018-08-13T20:26:42.877186Z"
        },
        "id": "kyBkrX0BCsLx",
        "colab": {
          "base_uri": "https://localhost:8080/"
        },
        "outputId": "eeea2567-17fa-48eb-e0bc-56faadb53b2b"
      },
      "source": [
        "# Example: cast 4 random names to padded matrices (so that we can easily batch them)\n",
        "print('\\n'.join(names[::2000]))\n",
        "print(to_matrix(names[::2000]))"
      ],
      "execution_count": null,
      "outputs": [
        {
          "output_type": "stream",
          "text": [
            " Abagael\n",
            " Glory\n",
            " Prissie\n",
            " Giovanne\n",
            "[[ 9 51  2 31 38 31 41 42 23]\n",
            " [ 9 10 42 11 12 21 23 23 23]\n",
            " [ 9 49 12 43 15 15 43 41 23]\n",
            " [ 9 10 43 11  8 31 22 22 41]]\n"
          ],
          "name": "stdout"
        }
      ]
    },
    {
      "cell_type": "markdown",
      "metadata": {
        "id": "rn0in_1ICsLx"
      },
      "source": [
        "# Defining a recurrent neural network\n",
        "\n",
        "We can rewrite recurrent neural network as a consecutive application of dense layer to input $x_t$ and previous rnn state $h_t$. This is exactly what we're gonna do now.\n",
        "<img src=\"https://github.com/hse-aml/intro-to-dl-pytorch/blob/main/week05/images/rnn.png?raw=1\" width=600>\n",
        "\n",
        "Since we're training a language model, there should also be:\n",
        "* An embedding layer that converts character id x_t to a vector.\n",
        "* An output layer that predicts probabilities of next phoneme based on h_t+1"
      ]
    },
    {
      "cell_type": "code",
      "metadata": {
        "id": "Fq_BI6hpUPqS"
      },
      "source": [
        "import torch, torch.nn as nn\n",
        "import torch.nn.functional as F"
      ],
      "execution_count": null,
      "outputs": []
    },
    {
      "cell_type": "code",
      "metadata": {
        "ExecuteTime": {
          "end_time": "2018-08-13T20:26:44.044903Z",
          "start_time": "2018-08-13T20:26:44.041084Z"
        },
        "id": "Yq0HH3UfCsLy"
      },
      "source": [
        "class CharRNNCell(nn.Module):\n",
        "    \"\"\"\n",
        "    Implement the scheme above as torch module\n",
        "    \"\"\"\n",
        "\n",
        "    def __init__(self, num_tokens=len(tokens), embedding_size=16, rnn_num_units=64):\n",
        "        super().__init__()\n",
        "        self.num_units = rnn_num_units\n",
        "\n",
        "        self.embedding = nn.Embedding(num_tokens, embedding_size)\n",
        "        self.rnn_update = nn.Linear(embedding_size + rnn_num_units, rnn_num_units)\n",
        "        self.rnn_to_logits = nn.Linear(rnn_num_units, num_tokens)\n",
        "\n",
        "    def forward(self, x, h_prev):\n",
        "        \"\"\"\n",
        "        This method computes h_next(x, h_prev) and log P(x_next | h_next)\n",
        "        We'll call it repeatedly to produce the whole sequence.\n",
        "\n",
        "        :param x: batch of character ids, int64[batch_size]\n",
        "        :param h_prev: previous rnn hidden states, float32 matrix [batch, rnn_num_units]\n",
        "        \"\"\"\n",
        "        # get vector embedding of x\n",
        "        x_emb = self.embedding(x) ### YOUR CODE HERE ###\n",
        "        # compute next hidden state using self.rnn_update\n",
        "        # hint: use torch.cat(..., dim=...) for concatenation\n",
        "\n",
        "        # h_next = self.rnn_update(torch.cat(rnn_num_units+embedding_size), dim=x) ### YOUR CODE HERE ###\n",
        "        h_next = self.rnn_update(torch.cat((x_emb, h_prev), dim=1))\n",
        "        h_next = F.tanh(h_next)\n",
        "\n",
        "        assert h_next.size() == h_prev.size()\n",
        "\n",
        "        #compute logits for next character probs\n",
        "        logits = self.rnn_to_logits(h_next) ### YOUR CODE HERE ###\n",
        "\n",
        "        return h_next, logits\n",
        "\n",
        "    def initial_state(self, batch_size):\n",
        "        \"\"\" return rnn state before it processes first input (aka h0) \"\"\"\n",
        "        return torch.zeros(batch_size, self.num_units)"
      ],
      "execution_count": null,
      "outputs": []
    },
    {
      "cell_type": "markdown",
      "metadata": {
        "id": "RukLWQHqCsLy"
      },
      "source": [
        "# RNN: loop\n",
        "\n",
        "Once `rnn_one_step` is ready, let's apply it in a loop over name characters to get predictions -- we will generate names character by character starting with start_token:\n",
        "\n",
        "<img src=\"https://github.com/hse-aml/intro-to-dl-pytorch/blob/main/week05/images/char-nn.png?raw=1\" width=600>"
      ]
    },
    {
      "cell_type": "code",
      "metadata": {
        "ExecuteTime": {
          "end_time": "2018-08-13T20:26:44.342948Z",
          "start_time": "2018-08-13T20:26:44.056136Z"
        },
        "id": "JetmBlR3CsLy"
      },
      "source": [
        "def rnn_loop(char_rnn, batch_ix):\n",
        "    \"\"\"\n",
        "    Computes logits_seq(next_character) for all time-steps in batch_ix\n",
        "    :param batch_ix: an int32 matrix of shape [batch, time], output of to_matrix(lines)\n",
        "    \"\"\"\n",
        "    batch_size, max_length = batch_ix.size()\n",
        "    hid_state = char_rnn.initial_state(batch_size)\n",
        "    logits_seq = []\n",
        "\n",
        "    for x_t in batch_ix.transpose(0,1):\n",
        "        hid_state, logits = char_rnn(x_t, hid_state)  # <-- here we call your one-step code\n",
        "        logits_seq.append(logits)\n",
        "\n",
        "    return torch.stack(logits_seq, dim=1)"
      ],
      "execution_count": null,
      "outputs": []
    },
    {
      "cell_type": "markdown",
      "metadata": {
        "id": "EQmar3Z6vzWA"
      },
      "source": [
        "Check that the output of rnn_loop has the right format:"
      ]
    },
    {
      "cell_type": "code",
      "metadata": {
        "id": "pq_nvp_hCsLz",
        "colab": {
          "base_uri": "https://localhost:8080/"
        },
        "outputId": "e50f4842-f6d7-44c9-c6c4-ef758c5035a4"
      },
      "source": [
        "batch_ix = to_matrix(names[:5])\n",
        "batch_ix = torch.tensor(batch_ix, dtype=torch.int64)\n",
        "\n",
        "logits_seq = rnn_loop(CharRNNCell(), batch_ix)"
      ],
      "execution_count": null,
      "outputs": [
        {
          "output_type": "stream",
          "text": [
            "/usr/local/lib/python3.7/dist-packages/torch/nn/functional.py:1698: UserWarning: nn.functional.tanh is deprecated. Use torch.tanh instead.\n",
            "  warnings.warn(\"nn.functional.tanh is deprecated. Use torch.tanh instead.\")\n"
          ],
          "name": "stderr"
        }
      ]
    },
    {
      "cell_type": "code",
      "metadata": {
        "id": "sIE8z_NPvdJs"
      },
      "source": [
        "## GRADED PART, DO NOT CHANGE!\n",
        "grader.set_answer(\"mf20L\", tuple(logits_seq.size()))"
      ],
      "execution_count": null,
      "outputs": []
    },
    {
      "cell_type": "markdown",
      "metadata": {
        "id": "xs6EJtCyCsL0"
      },
      "source": [
        "## Training\n",
        "We train our char-rnn exactly the same way we train any deep learning model, the only difference is that this time we sample strings.\n",
        "\n",
        "To compute the loss in a vectorized manner, we can take `batch_ix[:, 1:]` -- a matrix of token ids shifted 1 step to the left so i-th element is acutally the \"next token\" for i-th prediction."
      ]
    },
    {
      "cell_type": "code",
      "metadata": {
        "id": "n9MFAe_bCsL1"
      },
      "source": [
        "from IPython.display import clear_output\n",
        "from random import sample\n",
        "\n",
        "DEVICE = torch.device('cpu')  # you can change to `cuda`\n",
        "\n",
        "char_rnn = CharRNNCell().to(DEVICE)\n",
        "opt = torch.optim.Adam(char_rnn.parameters())\n",
        "criterion = nn.CrossEntropyLoss()\n",
        "history = []"
      ],
      "execution_count": null,
      "outputs": []
    },
    {
      "cell_type": "code",
      "metadata": {
        "id": "NfylXTtzCsL1",
        "colab": {
          "base_uri": "https://localhost:8080/",
          "height": 265
        },
        "outputId": "96595c05-b3ce-48b7-fec7-1d97419c53fc"
      },
      "source": [
        "for i in range(1000):\n",
        "    # for simplisity we will\n",
        "    batch_ix = to_matrix(sample(names, 32))\n",
        "    batch_ix = torch.tensor(batch_ix, dtype=torch.int64).to(DEVICE)\n",
        "\n",
        "    # do forward pass\n",
        "    logits_seq = rnn_loop(char_rnn, batch_ix)\n",
        "\n",
        "    # make shifted versions of batch and predictions to compute the loss\n",
        "    predictions_logits = logits_seq[:, :-1]\n",
        "    actual_next_tokens = batch_ix[:, 1:]\n",
        "\n",
        "    # compute loss\n",
        "    loss = -torch.mean(torch.gather(predictions_logits, dim=2, index=actual_next_tokens[:,:,None])) ### YOUR CODE HERE ###\n",
        "\n",
        "    # train with backprop\n",
        "    ### YOUR CODE HERE ###\n",
        "\n",
        "\n",
        "    # train with backprop\n",
        "    loss.backward()\n",
        "    opt.step()\n",
        "    opt.zero_grad()\n",
        "\n",
        "    # visualizing training process\n",
        "    history.append(loss.data.numpy())\n",
        "    if (i + 1) % 100 == 0:\n",
        "        clear_output(True)\n",
        "        plt.plot(history,label='loss')\n",
        "        plt.legend()\n",
        "        plt.show()\n",
        "\n",
        "assert np.mean(history[:10]) > np.mean(history[-10:]), \"RNN didn't converge.\""
      ],
      "execution_count": null,
      "outputs": [
        {
          "output_type": "display_data",
          "data": {
            "image/png": "[encoded data removed]",
            "text/plain": [
              "<Figure size 432x288 with 1 Axes>"
            ]
          },
          "metadata": {
            "tags": [],
            "needs_background": "light"
          }
        }
      ]
    },
    {
      "cell_type": "code",
      "metadata": {
        "id": "_HVv8Wjn6EHm"
      },
      "source": [
        "## GRADED PART, DO NOT CHANGE!\n",
        "grader.set_answer(\"zwTu9\", int(np.mean(history[:10]) > np.mean(history[-10:])))"
      ],
      "execution_count": null,
      "outputs": []
    },
    {
      "cell_type": "markdown",
      "metadata": {
        "id": "Y5-v3rfx4TSp"
      },
      "source": [
        "Here we computed loss over all symbols including pad tokens at the end of each name. In practice it would be better to exclude all pad tokens except one for each sequence. We need our model to be able to generate one pad token at the end of the sequence to mark the end of the sequence, but there is no need to generate all next pad tokens (we use them just for\n",
        "convenient data representation).\n",
        "\n",
        "Parameter ignore_index of CrossEntropyLoss allows to do so.\n",
        "\n"
      ]
    },
    {
      "cell_type": "markdown",
      "metadata": {
        "id": "MVXLPYYECsL1"
      },
      "source": [
        "## RNN: sampling\n",
        "Once we've trained our network a bit, let's get to actually generating stuff. All we need is the single rnn step function you have defined in char_rnn.forward."
      ]
    },
    {
      "cell_type": "code",
      "metadata": {
        "id": "FwI8hhSxCsL1"
      },
      "source": [
        "def generate_sample(char_rnn, seed_phrase=' ', max_length=MAX_LENGTH, temperature=1.0):\n",
        "    '''\n",
        "    The function generates text given a start phrase.\n",
        "    :param seed_phrase: prefix characters. The RNN is asked to continue the phrase\n",
        "    :param max_length: maximum output length, including seed_phrase\n",
        "    :param temperature: coefficient for sampling.  Higher temperature produces more chaotic outputs,\n",
        "                        smaller temperature converges to the single most likely output\n",
        "    '''\n",
        "\n",
        "    x_sequence = [token_to_id[token] for token in seed_phrase]\n",
        "    x_sequence = torch.tensor([x_sequence], dtype=torch.int64)\n",
        "    hid_state = char_rnn.initial_state(batch_size=1)\n",
        "\n",
        "    #feed the seed phrase, if any\n",
        "    for i in range(len(seed_phrase) - 1):\n",
        "        hid_state, _ = char_rnn(x_sequence[:, i], hid_state)\n",
        "\n",
        "    #start generating\n",
        "    for _ in range(max_length - len(seed_phrase)):\n",
        "        hid_state, logits_next = char_rnn(x_sequence[:, -1], hid_state)\n",
        "        p_next = F.softmax(logits_next / temperature, dim=-1).data.numpy()[0]\n",
        "\n",
        "        # sample next token and push it back into x_sequence\n",
        "        next_ix = np.random.choice(num_tokens,p=p_next)\n",
        "        next_ix = torch.tensor([[next_ix]], dtype=torch.int64)\n",
        "        x_sequence = torch.cat([x_sequence, next_ix], dim=1)\n",
        "\n",
        "    return ''.join([tokens[ix] for ix in x_sequence.data.numpy()[0]])"
      ],
      "execution_count": null,
      "outputs": []
    },
    {
      "cell_type": "code",
      "metadata": {
        "id": "vHdkvurmCsL2",
        "colab": {
          "base_uri": "https://localhost:8080/"
        },
        "outputId": "389e7069-5592-4654-b150-35164d9db120"
      },
      "source": [
        "for _ in range(10):\n",
        "    print(generate_sample(char_rnn, max_length=6))"
      ],
      "execution_count": null,
      "outputs": [
        {
          "output_type": "stream",
          "text": [
            " Mraen\n",
            " Meena\n",
            " Ateen\n",
            " Meeee\n",
            " Milen\n",
            " Meene\n",
            " Maeie\n",
            " Ceran\n",
            " Minee\n",
            " Aaeee\n"
          ],
          "name": "stdout"
        },
        {
          "output_type": "stream",
          "text": [
            "/usr/local/lib/python3.7/dist-packages/torch/nn/functional.py:1698: UserWarning: nn.functional.tanh is deprecated. Use torch.tanh instead.\n",
            "  warnings.warn(\"nn.functional.tanh is deprecated. Use torch.tanh instead.\")\n"
          ],
          "name": "stderr"
        }
      ]
    },
    {
      "cell_type": "code",
      "metadata": {
        "id": "2RnK9FZACsL2",
        "colab": {
          "base_uri": "https://localhost:8080/"
        },
        "outputId": "56b4319d-7c24-41e5-ecd8-86427075e91d"
      },
      "source": [
        "for _ in range(10):\n",
        "    print(generate_sample(char_rnn, seed_phrase=' Trump'))"
      ],
      "execution_count": null,
      "outputs": [
        {
          "output_type": "stream",
          "text": [
            " Trumpneeaeeeery\n",
            " Trumpnniearraee\n",
            " Trumpeeeaeaeeee\n",
            " Trumpeeeeeaeeie\n",
            " Trumpeeeneaeeee\n",
            " Trumpeileaieeee\n",
            " Trumpleeennaeee\n",
            " Trumpeeeeeenaee\n",
            " Trumpaeeeeeeene\n",
            " Trumpeeeeeeerne\n"
          ],
          "name": "stdout"
        },
        {
          "output_type": "stream",
          "text": [
            "/usr/local/lib/python3.7/dist-packages/torch/nn/functional.py:1698: UserWarning: nn.functional.tanh is deprecated. Use torch.tanh instead.\n",
            "  warnings.warn(\"nn.functional.tanh is deprecated. Use torch.tanh instead.\")\n"
          ],
          "name": "stderr"
        }
      ]
    },
    {
      "cell_type": "markdown",
      "metadata": {
        "id": "FbukAsjoCsL8"
      },
      "source": [
        "## More hight-level implementation\n",
        "What we just did is a manual low-level implementation of RNN. While it's cool, we guess you won't like the idea of re-writing it from scratch on every occasion.\n",
        "\n",
        "As you might have guessed, torch has a solution for this. To be more specific, there are two options:\n",
        "\n",
        "`nn.RNNCell(emb_size, rnn_num_units)` - implements a single step of RNN just like you did. Basically concat-linear-tanh\n",
        "`nn.RNN(emb_size, rnn_num_units)` - implements the whole rnn_loop for you.\n",
        "There's also `nn.LSTMCell` vs `nn.LSTM`, `nn.GRUCell` vs `nn.GRU`, etc. etc.\n",
        "\n",
        "In this example we'll rewrite the char_rnn and rnn_loop using high-level rnn API."
      ]
    },
    {
      "cell_type": "code",
      "metadata": {
        "id": "UacxOUHMCsL9"
      },
      "source": [
        "class CharRNNLoop(nn.Module):\n",
        "    def __init__(self, num_tokens=num_tokens, emb_size=16, rnn_num_units=64):\n",
        "        super(self.__class__, self).__init__()\n",
        "        self.emb = nn.Embedding(num_tokens, emb_size)\n",
        "        self.rnn = nn.RNN(emb_size, rnn_num_units, batch_first=True)\n",
        "        self.hid_to_logits = nn.Linear(rnn_num_units, num_tokens)\n",
        "\n",
        "    def forward(self, x):\n",
        "        \"\"\"\n",
        "        Computes log P(next_character) for all time-steps in x\n",
        "        :param x: an int32 matrix of shape [batch, time], output of to_matrix(lines)\n",
        "        :output next_logp: a float32 tensor [batch, time, dictionary_size]\n",
        "        \"\"\"\n",
        "        ### YOUR CODE HERE ###\n",
        "        h_seq, _ = self.rnn(self.emb(x))\n",
        "        next_logits = self.hid_to_logits(h_seq)\n",
        "        next_logp = F.log_softmax(next_logits, dim=-1)\n",
        "        return next_logp\n"
      ],
      "execution_count": null,
      "outputs": []
    },
    {
      "cell_type": "markdown",
      "metadata": {
        "id": "jouqgGYkCG3z"
      },
      "source": [
        "Train the model using the same training code and check that it works very similar to our hand-written RNN."
      ]
    },
    {
      "cell_type": "code",
      "metadata": {
        "id": "NMQSqcfRBPLD"
      },
      "source": [
        "model = CharRNNLoop().to(DEVICE)\n",
        "opt = torch.optim.Adam(model.parameters())\n",
        "history_high = [] # put the history in this variable for grading"
      ],
      "execution_count": null,
      "outputs": []
    },
    {
      "cell_type": "code",
      "metadata": {
        "id": "RiK3feiNBdTk",
        "colab": {
          "base_uri": "https://localhost:8080/",
          "height": 231
        },
        "outputId": "a9270be2-8dee-4b6c-e780-bdb6f275fc07"
      },
      "source": [
        "### YOUR CODE HERE ###\n",
        "for i in range(1000):\n",
        "    MAX_LENGTH = max(map(len, names))\n",
        "    # for simplisity we will\n",
        "    #batch_ix = to_matrix(sample(names, 32))\n",
        "    batch_ix = to_matrix(sample(names, 32), token_to_id, max_len=MAX_LENGTH)\n",
        "    batch_ix = torch.tensor(batch_ix, dtype=torch.int64).to(DEVICE)\n",
        "\n",
        "    # do forward pass\n",
        "    logits_seq = rnn_loop(char_rnn, batch_ix)\n",
        "\n",
        "    # make shifted versions of batch and predictions to compute the loss\n",
        "    predictions_logits = logits_seq[:, :-1]\n",
        "    actual_next_tokens = batch_ix[:, 1:]\n",
        "\n",
        "    # compute loss\n",
        "    loss = -torch.mean(torch.gather(predictions_logits, dim=2, index=actual_next_tokens[:,:,None])) ### YOUR CODE HERE ###\n",
        "\n",
        "    # train with backprop\n",
        "    ### YOUR CODE HERE ###\n",
        "\n",
        "\n",
        "    # train with backprop\n",
        "    loss.backward()\n",
        "    opt.step()\n",
        "    opt.zero_grad()\n",
        "\n",
        "    # visualizing training process\n",
        "    history_high.append(loss.data.numpy())\n",
        "    if (i + 1) % 100 == 0:\n",
        "        clear_output(True)\n",
        "        plt.plot(history_high,label='loss')\n",
        "        plt.legend()\n",
        "        plt.show()\n",
        "\n",
        "\n",
        "assert np.mean(history_high[:10]) > np.mean(history_high[-10:]), \"RNN didn't converge.\"\n",
        "\n",
        "\n",
        "\n",
        "\n",
        ""
      ],
      "execution_count": null,
      "outputs": [
        {
          "output_type": "error",
          "ename": "TypeError",
          "evalue": "ignored",
          "traceback": [
            "\u001b[0;31m---------------------------------------------------------------------------\u001b[0m",
            "\u001b[0;31mTypeError\u001b[0m                                 Traceback (most recent call last)",
            "\u001b[0;32m<ipython-input-39-39a33f430f8c>\u001b[0m in \u001b[0;36m<module>\u001b[0;34m()\u001b[0m\n\u001b[1;32m      4\u001b[0m     \u001b[0;31m# for simplisity we will\u001b[0m\u001b[0;34m\u001b[0m\u001b[0;34m\u001b[0m\u001b[0;34m\u001b[0m\u001b[0m\n\u001b[1;32m      5\u001b[0m     \u001b[0;31m#batch_ix = to_matrix(sample(names, 32))\u001b[0m\u001b[0;34m\u001b[0m\u001b[0;34m\u001b[0m\u001b[0;34m\u001b[0m\u001b[0m\n\u001b[0;32m----> 6\u001b[0;31m     \u001b[0mbatch_ix\u001b[0m \u001b[0;34m=\u001b[0m \u001b[0mto_matrix\u001b[0m\u001b[0;34m(\u001b[0m\u001b[0msample\u001b[0m\u001b[0;34m(\u001b[0m\u001b[0mnames\u001b[0m\u001b[0;34m,\u001b[0m \u001b[0;36m32\u001b[0m\u001b[0;34m)\u001b[0m\u001b[0;34m,\u001b[0m \u001b[0mtoken_to_id\u001b[0m\u001b[0;34m,\u001b[0m \u001b[0mmax_len\u001b[0m\u001b[0;34m=\u001b[0m\u001b[0mMAX_LENGTH\u001b[0m\u001b[0;34m)\u001b[0m\u001b[0;34m\u001b[0m\u001b[0;34m\u001b[0m\u001b[0m\n\u001b[0m\u001b[1;32m      7\u001b[0m     \u001b[0mbatch_ix\u001b[0m \u001b[0;34m=\u001b[0m \u001b[0mtorch\u001b[0m\u001b[0;34m.\u001b[0m\u001b[0mtensor\u001b[0m\u001b[0;34m(\u001b[0m\u001b[0mbatch_ix\u001b[0m\u001b[0;34m,\u001b[0m \u001b[0mdtype\u001b[0m\u001b[0;34m=\u001b[0m\u001b[0mtorch\u001b[0m\u001b[0;34m.\u001b[0m\u001b[0mint64\u001b[0m\u001b[0;34m)\u001b[0m\u001b[0;34m.\u001b[0m\u001b[0mto\u001b[0m\u001b[0;34m(\u001b[0m\u001b[0mDEVICE\u001b[0m\u001b[0;34m)\u001b[0m\u001b[0;34m\u001b[0m\u001b[0;34m\u001b[0m\u001b[0m\n\u001b[1;32m      8\u001b[0m \u001b[0;34m\u001b[0m\u001b[0m\n",
            "\u001b[0;31mTypeError\u001b[0m: to_matrix() got multiple values for argument 'max_len'"
          ]
        }
      ]
    },
    {
      "cell_type": "code",
      "metadata": {
        "id": "HpWe48ahB0VE",
        "colab": {
          "base_uri": "https://localhost:8080/"
        },
        "outputId": "4031393b-1029-49ac-ddc2-d638bf4c9b39"
      },
      "source": [
        "## GRADED PART, DO NOT CHANGE!\n",
        "grader.set_answer(\"pttMO\", int(np.mean(history_high[:10]) > np.mean(history_high[-10:])))\n",
        "grader.set_answer(\"uly0D\", len(set([generate_sample(char_rnn, ' Sad') for _ in range(25)])))"
      ],
      "execution_count": null,
      "outputs": [
        {
          "output_type": "stream",
          "text": [
            "/usr/local/lib/python3.7/dist-packages/torch/nn/functional.py:1698: UserWarning: nn.functional.tanh is deprecated. Use torch.tanh instead.\n",
            "  warnings.warn(\"nn.functional.tanh is deprecated. Use torch.tanh instead.\")\n"
          ],
          "name": "stderr"
        }
      ]
    },
    {
      "cell_type": "code",
      "metadata": {
        "id": "HOFdJpvqzc8i",
        "colab": {
          "base_uri": "https://localhost:8080/",
          "height": 163
        },
        "outputId": "70fe223d-ba0e-49cd-cdce-ab3bf2496d52"
      },
      "source": [
        "grader.submit(COURSERA_EMAIL, COURSERA_TOKEN)"
      ],
      "execution_count": null,
      "outputs": [
        {
          "output_type": "error",
          "ename": "NameError",
          "evalue": "ignored",
          "traceback": [
            "\u001b[0;31m---------------------------------------------------------------------------\u001b[0m",
            "\u001b[0;31mNameError\u001b[0m                                 Traceback (most recent call last)",
            "\u001b[0;32m<ipython-input-41-ea0d94fbe27a>\u001b[0m in \u001b[0;36m<module>\u001b[0;34m()\u001b[0m\n\u001b[0;32m----> 1\u001b[0;31m \u001b[0mgrader\u001b[0m\u001b[0;34m.\u001b[0m\u001b[0msubmit\u001b[0m\u001b[0;34m(\u001b[0m\u001b[0mCOURSERA_EMAIL\u001b[0m\u001b[0;34m,\u001b[0m \u001b[0mCOURSERA_TOKEN\u001b[0m\u001b[0;34m)\u001b[0m\u001b[0;34m\u001b[0m\u001b[0;34m\u001b[0m\u001b[0m\n\u001b[0m",
            "\u001b[0;31mNameError\u001b[0m: name 'COURSERA_EMAIL' is not defined"
          ]
        }
      ]
    },
    {
      "cell_type": "markdown",
      "metadata": {
        "id": "HnOnFHU-CsL9"
      },
      "source": [
        "Here's another example with LSTM"
      ]
    },
    {
      "cell_type": "code",
      "metadata": {
        "id": "j3sn0jpUCsL9"
      },
      "source": [
        "import torch, torch.nn as nn\n",
        "import torch.nn.functional as F\n",
        "\n",
        "\n",
        "class CharLSTMCell(nn.Module):\n",
        "    \"\"\"\n",
        "    Implements something like CharRNNCell, but with LSTM\n",
        "    \"\"\"\n",
        "    def __init__(self, num_tokens=len(tokens), embedding_size=16, rnn_num_units=64):\n",
        "        super().__init__()\n",
        "\n",
        "        self.num_units = rnn_num_units\n",
        "        self.emb = nn.Embedding(num_tokens, embedding_size)\n",
        "        self.lstm = nn.LSTMCell(embedding_size, rnn_num_units)\n",
        "        self.rnn_to_logits = nn.Linear(rnn_num_units, num_tokens)\n",
        "\n",
        "    def forward(self, x, prev_state):\n",
        "        (prev_h, prev_c) = prev_state\n",
        "        (next_h, next_c) = self.lstm(self.emb(x), (prev_h, prev_c))\n",
        "        logits = self.rnn_to_logits(next_h)\n",
        "\n",
        "        return (next_h, next_c), logits\n",
        "\n",
        "    def initial_state(self, batch_size):\n",
        "        \"\"\" LSTM has two state variables, cell and hid \"\"\"\n",
        "        return torch.zeros(batch_size, self.num_units), torch.zeros(batch_size, self.num_units)\n",
        "\n",
        "char_lstm = CharLSTMCell()"
      ],
      "execution_count": null,
      "outputs": []
    },
    {
      "cell_type": "code",
      "metadata": {
        "colab": {
          "base_uri": "https://localhost:8080/"
        },
        "id": "TG6Q7CAY9-Ej",
        "outputId": "e4d81a7d-e87c-4144-8409-d60c40268c78"
      },
      "source": [
        "for _ in range(10):\n",
        "    print(generate_sample(char_lstm, seed_phrase=' Trump'))"
      ],
      "execution_count": null,
      "outputs": [
        {
          "output_type": "stream",
          "text": [
            " TrumpeH-XYpLU'D\n",
            " TrumpCwynsYRbnW\n",
            " TrumpnzHvdzLykk\n",
            " TrumpAtcYlXp Pv\n",
            " TrumpJWrDy'rheU\n",
            " TrumpyjiP#TJxBA\n",
            " Trump-gJFcOqDEC\n",
            " TrumpeGVDivqIK#\n",
            " TrumpdSCHxOzrVa\n",
            " TrumpeDIP'u#Ume\n"
          ],
          "name": "stdout"
        }
      ]
    },
    {
      "cell_type": "markdown",
      "metadata": {
        "id": "pMRUeIzNCsL8"
      },
      "source": [
        "# Try it out!\n",
        "\n",
        "__Disclaimer:__ This part of assignment is entirely optional. You won't receive bonus points for it. However, it's a fun thing to do. Please share your results on course forums.\n",
        "\n",
        "You've just implemented a recurrent language model that can be tasked with generating any kind of sequence, so there's plenty of data you can try it on:\n",
        "\n",
        "* Novels/poems/songs of your favorite author\n",
        "* News titles/clickbait titles\n",
        "* Source code of Linux or Tensorflow\n",
        "* Molecules in [smiles](https://en.wikipedia.org/wiki/Simplified_molecular-input_line-entry_system) format\n",
        "* Melody in notes/chords format\n",
        "* IKEA catalog titles\n",
        "* Pokemon names\n",
        "* Cards from Magic, the Gathering / Hearthstone\n",
        "\n",
        "If you're willing to give it a try, here's what you wanna look at:\n",
        "* Current data format is a sequence of lines, so a novel can be formatted as a list of sentences. Alternatively, you can change data preprocessing altogether.\n",
        "* While some datasets are readily available, others can only be scraped from the web. Try `Selenium` or `Scrapy` for that.\n",
        "* Make sure MAX_LENGTH is adjusted for longer datasets.\n",
        "* More complex tasks require larger RNN architecture, try more neurons or several layers. It would also require more training iterations.\n",
        "* Long-term dependencies in music, novels or molecules are better handled with LSTM or GRU\n",
        "\n",
        "__Good hunting!__"
      ]
    },
    {
      "cell_type": "code",
      "metadata": {
        "id": "wmmcbWAV99Tz"
      },
      "source": [],
      "execution_count": null,
      "outputs": []
    }
  ]
}