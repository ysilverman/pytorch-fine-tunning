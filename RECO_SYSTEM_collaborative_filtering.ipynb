{
  "nbformat": 4,
  "nbformat_minor": 0,
  "metadata": {
    "kernelspec": {
      "display_name": "Python 3",
      "language": "python",
      "name": "python3"
    },
    "language_info": {
      "codemirror_mode": {
        "name": "ipython",
        "version": 3
      },
      "file_extension": ".py",
      "mimetype": "text/x-python",
      "name": "python",
      "nbconvert_exporter": "python",
      "pygments_lexer": "ipython3",
      "version": "3.6.4"
    },
    "colab": {
      "provenance": []
    }
  },
  "cells": [
    {
      "cell_type": "markdown",
      "metadata": {
        "id": "0cq-000nBF4C"
      },
      "source": [
        "# Recommender systems\n",
        "\n",
        "\n",
        "## Explicit feedback"
      ]
    },
    {
      "cell_type": "code",
      "metadata": {
        "colab": {
          "base_uri": "https://localhost:8080/"
        },
        "id": "Sbq_niCVBF4J",
        "outputId": "8742dee5-4966-46a5-dde3-a857fe57a464"
      },
      "source": [
        "import warnings\n",
        "warnings.simplefilter('ignore')\n",
        "\n",
        "import pandas as pd\n",
        "import numpy as np\n",
        "from tqdm import tqdm_notebook\n",
        "from sklearn.metrics import mean_squared_error\n",
        "from sklearn.metrics.pairwise import cosine_similarity\n",
        "from sklearn.base import BaseEstimator\n",
        "\n",
        "%pylab inline"
      ],
      "execution_count": null,
      "outputs": [
        {
          "output_type": "stream",
          "text": [
            "Populating the interactive namespace from numpy and matplotlib\n"
          ],
          "name": "stdout"
        }
      ]
    },
    {
      "cell_type": "markdown",
      "metadata": {
        "id": "xKUi8RSNBF4M"
      },
      "source": [
        "Recommender systems are ubiquitous in digital world. Users encounter these systems as:\n",
        "\n",
        "*  they see ‘Suggested Friends’ on Facebook,\n",
        "* ‘Suggested Videos’ on YouTube,\n",
        "* ‘Other Jobs for you’ on LinkedIn,\n",
        "* ‘Suggested Products’ in any online shop.\n",
        "\n",
        "There are two approaches through which recommendation system are designed:\n",
        "\n",
        "1. Collaborative filtering\n",
        "\n",
        "2. Content-based filtering\n",
        "\n",
        "\n",
        "## Collaborative filtering\n",
        "\n",
        "Today we are going to work with `GroupLens` $-$ [`MovieLens`](https://grouplens.org/datasets/movielens/) dataset which contains inforamtion about $27 000$ films and $138 000$ users with total amount of ratings about $20$ millions.\n",
        "\n",
        "For simplicity we will use its shortened version with $9 000$ films, $700$ users, and $100 000$ ratings.\n",
        "You may download it from [here](http://files.grouplens.org/datasets/movielens/ml-latest-small.zip)."
      ]
    },
    {
      "cell_type": "markdown",
      "metadata": {
        "id": "FqiorUX0BF4N"
      },
      "source": [
        "![cf.png](attachment:cf.png)"
      ]
    },
    {
      "cell_type": "code",
      "metadata": {
        "scrolled": false,
        "id": "cvcXVjnYBF4P",
        "outputId": "558958dd-1bae-4ae3-aa3c-09db46004fc4"
      },
      "source": [
        "# для UNIX систем\n",
        "!wget http://files.grouplens.org/datasets/movielens/ml-latest-small.zip\n",
        "!unzip ml-latest-small.zip"
      ],
      "execution_count": null,
      "outputs": [
        {
          "output_type": "stream",
          "text": [
            "\"wget\" ­Ґ пў«пҐвбп ў­гваҐ­­Ґ© Ё«Ё ў­Ґи­Ґ©\n",
            "Є®¬ ­¤®©, ЁбЇ®«­пҐ¬®© Їа®Ја ¬¬®© Ё«Ё Ї ЄҐв­л¬ д ©«®¬.\n",
            "\"unzip\" ­Ґ пў«пҐвбп ў­гваҐ­­Ґ© Ё«Ё ў­Ґи­Ґ©\n",
            "Є®¬ ­¤®©, ЁбЇ®«­пҐ¬®© Їа®Ја ¬¬®© Ё«Ё Ї ЄҐв­л¬ д ©«®¬.\n"
          ],
          "name": "stderr"
        }
      ]
    },
    {
      "cell_type": "markdown",
      "metadata": {
        "id": "JhIHsgBvBF4Q"
      },
      "source": [
        "## Data\n",
        "\n",
        "The archive contains several `csv` files. However, today we will work only with `ratings.csv`.\n"
      ]
    },
    {
      "cell_type": "code",
      "metadata": {
        "scrolled": true,
        "id": "TMGRS_6JBF4R",
        "outputId": "c1ab82ae-a10b-456a-a855-3083780ad153"
      },
      "source": [
        "ratings = pd.read_csv('./ml-latest-small/ratings.csv', parse_dates=['timestamp'])\n",
        "ratings.head()"
      ],
      "execution_count": null,
      "outputs": [
        {
          "output_type": "execute_result",
          "data": {
            "text/html": [
              "<div>\n",
              "<style scoped>\n",
              "    .dataframe tbody tr th:only-of-type {\n",
              "        vertical-align: middle;\n",
              "    }\n",
              "\n",
              "    .dataframe tbody tr th {\n",
              "        vertical-align: top;\n",
              "    }\n",
              "\n",
              "    .dataframe thead th {\n",
              "        text-align: right;\n",
              "    }\n",
              "</style>\n",
              "<table border=\"1\" class=\"dataframe\">\n",
              "  <thead>\n",
              "    <tr style=\"text-align: right;\">\n",
              "      <th></th>\n",
              "      <th>userId</th>\n",
              "      <th>movieId</th>\n",
              "      <th>rating</th>\n",
              "      <th>timestamp</th>\n",
              "    </tr>\n",
              "  </thead>\n",
              "  <tbody>\n",
              "    <tr>\n",
              "      <th>0</th>\n",
              "      <td>1</td>\n",
              "      <td>1</td>\n",
              "      <td>4.0</td>\n",
              "      <td>964982703</td>\n",
              "    </tr>\n",
              "    <tr>\n",
              "      <th>1</th>\n",
              "      <td>1</td>\n",
              "      <td>3</td>\n",
              "      <td>4.0</td>\n",
              "      <td>964981247</td>\n",
              "    </tr>\n",
              "    <tr>\n",
              "      <th>2</th>\n",
              "      <td>1</td>\n",
              "      <td>6</td>\n",
              "      <td>4.0</td>\n",
              "      <td>964982224</td>\n",
              "    </tr>\n",
              "    <tr>\n",
              "      <th>3</th>\n",
              "      <td>1</td>\n",
              "      <td>47</td>\n",
              "      <td>5.0</td>\n",
              "      <td>964983815</td>\n",
              "    </tr>\n",
              "    <tr>\n",
              "      <th>4</th>\n",
              "      <td>1</td>\n",
              "      <td>50</td>\n",
              "      <td>5.0</td>\n",
              "      <td>964982931</td>\n",
              "    </tr>\n",
              "  </tbody>\n",
              "</table>\n",
              "</div>"
            ],
            "text/plain": [
              "   userId  movieId  rating  timestamp\n",
              "0       1        1     4.0  964982703\n",
              "1       1        3     4.0  964981247\n",
              "2       1        6     4.0  964982224\n",
              "3       1       47     5.0  964983815\n",
              "4       1       50     5.0  964982931"
            ]
          },
          "metadata": {
            "tags": []
          },
          "execution_count": 3
        }
      ]
    },
    {
      "cell_type": "code",
      "metadata": {
        "id": "uYF7ODGOBF4S",
        "outputId": "d2708a51-0e49-4450-fbba-eec96dfc4d7f"
      },
      "source": [
        "ratings.rating.value_counts()"
      ],
      "execution_count": null,
      "outputs": [
        {
          "output_type": "execute_result",
          "data": {
            "text/plain": [
              "4.0    26818\n",
              "3.0    20047\n",
              "5.0    13211\n",
              "3.5    13136\n",
              "4.5     8551\n",
              "2.0     7551\n",
              "2.5     5550\n",
              "1.0     2811\n",
              "1.5     1791\n",
              "0.5     1370\n",
              "Name: rating, dtype: int64"
            ]
          },
          "metadata": {
            "tags": []
          },
          "execution_count": 4
        }
      ]
    },
    {
      "cell_type": "markdown",
      "metadata": {
        "id": "1wUxBZhCBF4T"
      },
      "source": [
        "### Metrics\n",
        "For recommender systems several regression metrics can be used: `MSE`, `MAE` и `RMSE`.\n",
        "\n",
        "Let's devide data into train and test. For this we put aside 20% of ratings.\n",
        "\n"
      ]
    },
    {
      "cell_type": "code",
      "metadata": {
        "id": "ECqHHmrbBF4U"
      },
      "source": [
        "rmse = lambda y_true, y_pred: np.sqrt(mean_squared_error(y_true, y_pred))\n",
        "\n",
        "def train_test_split(X, ratio=0.2, user_col='userId', item_col='movieId',\n",
        "                     rating_col='rating', time_col='timestamp'):\n",
        "    X.sort_values(by=[time_col], inplace=True)\n",
        "    userIds = X[user_col].unique()\n",
        "    X_train_data = []\n",
        "    X_test_data = []\n",
        "    y_train = []\n",
        "    y_test = []\n",
        "    for userId in tqdm_notebook(userIds):\n",
        "        curUser = X[X[user_col] == userId]\n",
        "        idx = int(curUser.shape[0] * (1 - ratio))\n",
        "        X_train_data.append(curUser[[user_col, item_col]].iloc[:idx, :].values)\n",
        "        X_test_data.append(curUser[[user_col, item_col]].iloc[idx:, :].values)\n",
        "        y_train.append(curUser[rating_col].values[:idx])\n",
        "        y_test.append(curUser[rating_col].values[idx:])\n",
        "    X_train = pd.DataFrame(np.vstack(X_train_data), columns=[user_col, item_col])\n",
        "    X_test = pd.DataFrame(np.vstack(X_test_data), columns=[user_col, item_col])\n",
        "    y_train = np.hstack(y_train)\n",
        "    y_test = np.hstack(y_test)\n",
        "    return X_train, X_test, y_train, y_test"
      ],
      "execution_count": null,
      "outputs": []
    },
    {
      "cell_type": "code",
      "metadata": {
        "colab": {
          "referenced_widgets": [
            "27a1ff230bb845959bbdb2a4b3406de5"
          ]
        },
        "id": "MbKdxKXVBF4U",
        "outputId": "238a2a3c-3b61-4046-8603-39378f7dad2f"
      },
      "source": [
        "X_train, X_test, y_train, y_test = train_test_split(ratings)"
      ],
      "execution_count": null,
      "outputs": [
        {
          "output_type": "display_data",
          "data": {
            "application/vnd.jupyter.widget-view+json": {
              "model_id": "27a1ff230bb845959bbdb2a4b3406de5",
              "version_major": 2,
              "version_minor": 0
            },
            "text/html": [
              "<p>Failed to display Jupyter Widget of type <code>TqdmHBox</code>.</p>\n",
              "<p>\n",
              "  If you're reading this message in the Jupyter Notebook or JupyterLab Notebook, it may mean\n",
              "  that the widgets JavaScript is still loading. If this message persists, it\n",
              "  likely means that the widgets JavaScript library is either not installed or\n",
              "  not enabled. See the <a href=\"https://ipywidgets.readthedocs.io/en/stable/user_install.html\">Jupyter\n",
              "  Widgets Documentation</a> for setup instructions.\n",
              "</p>\n",
              "<p>\n",
              "  If you're reading this message in another frontend (for example, a static\n",
              "  rendering on GitHub or <a href=\"https://nbviewer.jupyter.org/\">NBViewer</a>),\n",
              "  it may mean that your frontend doesn't currently support widgets.\n",
              "</p>\n"
            ],
            "text/plain": [
              "  0%|          | 0/610 [00:00<?, ?it/s]"
            ]
          },
          "metadata": {
            "tags": []
          }
        }
      ]
    },
    {
      "cell_type": "code",
      "metadata": {
        "id": "78U9g7hsBF4W",
        "outputId": "476310ac-4856-4eed-ff42-975c8fd58a09"
      },
      "source": [
        "X_train.shape, len(y_train), X_test.shape, len(y_test)"
      ],
      "execution_count": null,
      "outputs": [
        {
          "output_type": "execute_result",
          "data": {
            "text/plain": [
              "((80419, 2), 80419, (20417, 2), 20417)"
            ]
          },
          "metadata": {
            "tags": []
          },
          "execution_count": 7
        }
      ]
    },
    {
      "cell_type": "markdown",
      "metadata": {
        "id": "tf6IJfetBF4W"
      },
      "source": [
        "## Task formalization\n",
        "There is a set of `users` ($U$) and a set of `items` ($I$). Some users have rated some films ($r_{ui}$). The goal is to predict unknown ratings.\n",
        "\n",
        "![11.png](attachment:11.png)"
      ]
    },
    {
      "cell_type": "markdown",
      "metadata": {
        "id": "XmPn7XpZBF4X"
      },
      "source": [
        "### User-based model\n",
        "\n",
        "\n",
        "**User-based model** belongs to collaborative filtering type of recommender systems.\n",
        "\n",
        "\n",
        "Main idea: **similar users typically like similar items**.\n",
        "\n",
        "Thus, the algorithm can be formulated as follows:\n",
        "\n",
        "    1) Calculate similarities between users in the dataset.\n",
        "    \n",
        "For this we may use Pearson's correlation or cosine similarity:\n",
        "\n",
        "$$\n",
        "    \\textit{sim(u, v)} = \\frac\n",
        "    {\\sum_i{\\big((r_{ui} - \\overline{r_u}) \\times (r_{vi} - \\overline{r_v})\\big)}}\n",
        "    {\\sqrt{\\sum_i{(r_{ui} - \\overline{r_u})^2}} \\times \\sqrt{\\sum_i{(r_{vi} - \\overline{r_v})^2}}}\n",
        "$$\n",
        "    \n",
        "    2) Combining ratings from other users, weighing them with precalculated similarity, predict the rating for the current user.\n",
        "\n",
        "\n",
        "$$\n",
        "    r_{ui} = \\overline{r_u} + \\frac\n",
        "    {\\sum_{v \\in User_i}\\big(\\textit{sim(u, v)} \\times (r_{vi} - \\overline{r_v})\\big)}\n",
        "    {\\sum_{v \\in User_i}\\textit{sim(u, v)}}\n",
        "$$\n",
        "\n"
      ]
    },
    {
      "cell_type": "code",
      "metadata": {
        "id": "xKqUs-YiBF4X"
      },
      "source": [
        "class UserBased(BaseEstimator):\n",
        "    def fit(self, X, y, user_col='userId', item_col='movieId'):\n",
        "        X = X.copy()\n",
        "        self.users = X[user_col].unique()\n",
        "        self.items = X[item_col].unique()\n",
        "\n",
        "        X['y'] = y\n",
        "        self.mean_y_user = X.groupby(user_col)['y'].mean()\n",
        "        self.mean_y_item = X.groupby(item_col)['y'].mean()\n",
        "\n",
        "        X['y'] -= X[user_col].apply(lambda x: self.mean_y_user[x])\n",
        "\n",
        "        self.user_ratings = pd.pivot_table(X, values='y', index=user_col,\n",
        "                                           columns=item_col, fill_value=0)\n",
        "\n",
        "        self.user_sim = cosine_similarity(self.user_ratings)\n",
        "\n",
        "        self.user_pos = dict()\n",
        "        for user in self.users:\n",
        "            self.user_pos[user] = np.argwhere(self.user_ratings.index.values == user)[0][0]\n",
        "        return self\n",
        "\n",
        "    def predict_rating(self, pr_user, pr_item):\n",
        "\n",
        "        if not pr_item in self.items or not pr_user in self.users:\n",
        "            return 0\n",
        "\n",
        "        numerator = self.user_sim[self.user_pos[pr_user]].dot(\n",
        "                        self.user_ratings.loc[:, pr_item])\n",
        "        denominator = self.user_sim[self.user_pos[pr_user]].sum() - 1\n",
        "\n",
        "        return self.mean_y_user[pr_user] + numerator / denominator\n",
        "\n",
        "    def predict(self, X, user_col='userId', item_col='movieId'):\n",
        "        y = X[[user_col, item_col]].apply(lambda row: self.predict_rating(row[0], row[1]), axis=1)\n",
        "        return y"
      ],
      "execution_count": null,
      "outputs": []
    },
    {
      "cell_type": "code",
      "metadata": {
        "scrolled": true,
        "id": "8Vyjs7cLBF4Y",
        "outputId": "e09d02f6-8e67-4884-ad8e-41c665528c46"
      },
      "source": [
        "%%time\n",
        "print('start fitting...')\n",
        "ub = UserBased().fit(X_train, y_train)\n",
        "print('start predicting...')\n",
        "print('rmse = {}'.format(rmse(y_test, ub.predict(X_test))))"
      ],
      "execution_count": null,
      "outputs": [
        {
          "output_type": "stream",
          "text": [
            "start fitting...\n",
            "start predicting...\n",
            "rmse = 1.5766176670455125\n",
            "Wall time: 7 s\n"
          ],
          "name": "stdout"
        }
      ]
    },
    {
      "cell_type": "markdown",
      "metadata": {
        "id": "5OTWcGnxBF4Y"
      },
      "source": [
        "# Item-based model\n",
        "**Item-based model** is similar to the user-based, but now we look for similar items, not users.\n",
        "\n",
        "\n",
        "Namely, the algorithm can be formulated as follows:\n",
        "\n",
        "\n",
        "    1) Calculate similarities between items in the dataset (using Pearson's correlation or cosine similarity):\n",
        "    \n",
        "$$\n",
        "    \\textit{sim(i, j)} = \\frac\n",
        "    {\\sum_u{\\big((r_{ui} - \\overline{r_i}) \\times (r_{uj} - \\overline{r_j})\\big)}}\n",
        "    {\\sqrt{\\sum_u{(r_{ui} - \\overline{r_i})^2}} \\times \\sqrt{\\sum_u{(r_{uj} - \\overline{r_j})^2}}}\n",
        "$$\n",
        "    \n",
        "    2) Given the ratings of other items, predict the rating for the current item, weighing other items with precalculated similarity\n",
        "\n",
        "\n",
        "$$\n",
        "    r_{ui} = \\overline{r_i} + \\frac\n",
        "    {\\sum_{j \\in Item_u}\\big(\\textit{sim(i, j)} \\times (r_{uj} - \\overline{r_j})\\big)}\n",
        "    {\\sum_{j \\in Item_u}\\textit{sim(i, j)}}\n",
        "$$\n",
        "\n",
        "\n"
      ]
    },
    {
      "cell_type": "code",
      "metadata": {
        "id": "tpRI99H7BF4Z"
      },
      "source": [
        "class ItemBased(BaseEstimator):\n",
        "    def fit(self, X, y, user_col='userId', item_col='movieId'):\n",
        "        X = X.copy()\n",
        "        self.users = X[user_col].unique()\n",
        "        self.items = X[item_col].unique()\n",
        "\n",
        "        X['y'] = y\n",
        "        self.mean_y_user = X.groupby(user_col)['y'].mean()\n",
        "        self.mean_y_item = X.groupby(item_col)['y'].mean()\n",
        "\n",
        "        X['y'] -= X[item_col].apply(lambda x: self.mean_y_item[x])\n",
        "\n",
        "\n",
        "        self.item_ratings = pd.pivot_table(X, values='y', index=item_col,\n",
        "                                           columns=user_col, fill_value=0)\n",
        "\n",
        "        self.item_sim = cosine_similarity(self.item_ratings)\n",
        "\n",
        "        self.item_pos = dict()\n",
        "        for item in self.items:\n",
        "            self.item_pos[item] = np.argwhere(self.item_ratings.index.values == item)[0][0]\n",
        "        return self\n",
        "\n",
        "    def predict_rating(self, pr_user, pr_item):\n",
        "        if not pr_item in self.items or not pr_user in self.users:\n",
        "            return 0\n",
        "\n",
        "        numerator = self.item_sim[self.item_pos[pr_item]].dot(\n",
        "                        self.item_ratings.loc[:, pr_user])\n",
        "        denominator = self.item_sim[self.item_pos[pr_item]].sum() - 1\n",
        "\n",
        "        return self.mean_y_item[pr_item] + numerator / denominator\n",
        "\n",
        "    def predict(self, X, user_col='userId', item_col='movieId'):\n",
        "        y = X[[user_col, item_col]].apply(lambda row: self.predict_rating(row[0], row[1]), axis=1)\n",
        "        return y"
      ],
      "execution_count": null,
      "outputs": []
    },
    {
      "cell_type": "code",
      "metadata": {
        "scrolled": true,
        "id": "ZXBPkyDEBF4Z",
        "outputId": "ed27909a-b377-42ec-e327-56a99b1ceef1"
      },
      "source": [
        "%%time\n",
        "print('start fitting...')\n",
        "ib = ItemBased().fit(X_train, y_train)\n",
        "print('start predicting...')\n",
        "print('rmse = {}'.format(rmse(y_test, ib.predict(X_test))))"
      ],
      "execution_count": null,
      "outputs": [
        {
          "output_type": "stream",
          "text": [
            "start fitting...\n",
            "start predicting...\n",
            "rmse = 1.656192129767858\n",
            "Wall time: 7.1 s\n"
          ],
          "name": "stdout"
        }
      ]
    },
    {
      "cell_type": "markdown",
      "metadata": {
        "id": "8x8jY_c0BF4Z"
      },
      "source": [
        "**Disadvantages:**\n",
        "1. cold start problem,\n",
        "2. difficulties with atypical users.\n",
        "\n",
        "[Surprise library](http://surpriselib.com/) is \"sklearn\" for recommender systems."
      ]
    },
    {
      "cell_type": "code",
      "metadata": {
        "id": "rYsAHbgLBF4Z"
      },
      "source": [],
      "execution_count": null,
      "outputs": []
    }
  ]
}