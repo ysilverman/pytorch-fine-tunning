{
  "nbformat": 4,
  "nbformat_minor": 0,
  "metadata": {
    "accelerator": "GPU",
    "colab": {
      "provenance": []
    },
    "kernelspec": {
      "display_name": "Python 3",
      "language": "python",
      "name": "python3"
    },
    "language_info": {
      "codemirror_mode": {
        "name": "ipython",
        "version": 3
      },
      "file_extension": ".py",
      "mimetype": "text/x-python",
      "name": "python",
      "nbconvert_exporter": "python",
      "pygments_lexer": "ipython3",
      "version": "3.8.5"
    },
    "toc": {
      "colors": {
        "hover_highlight": "#DAA520",
        "navigate_num": "#000000",
        "navigate_text": "#333333",
        "running_highlight": "#FF0000",
        "selected_highlight": "#FFD700",
        "sidebar_border": "#EEEEEE",
        "wrapper_background": "#FFFFFF"
      },
      "moveMenuLeft": true,
      "nav_menu": {
        "height": "192px",
        "width": "252px"
      },
      "navigate_menu": true,
      "number_sections": true,
      "sideBar": true,
      "threshold": 4,
      "toc_cell": false,
      "toc_section_display": "block",
      "toc_window_display": false,
      "widenNotebook": false
    }
  },
  "cells": [
    {
      "cell_type": "markdown",
      "metadata": {
        "id": "yH4mcK4lnpyy"
      },
      "source": [
        "# Denoising Autoencoders And Where To Find Them\n",
        "\n",
        "In this programming assignment we're going to train deep autoencoders and apply them to faces and similar images search.\n",
        "\n",
        "Our new test subjects are human faces from the [lfw dataset](http://vis-www.cs.umass.edu/lfw/)."
      ]
    },
    {
      "cell_type": "code",
      "metadata": {
        "colab": {
          "base_uri": "https://localhost:8080/"
        },
        "id": "YkOrpfaD4kr2",
        "outputId": "3117d49d-c19a-49b0-d4d3-586ea7c72a24"
      },
      "source": [
        "%%bash\n",
        "\n",
        "shred -u setup_colab.py\n",
        "\n",
        "wget https://raw.githubusercontent.com/hse-aml/intro-to-dl-pytorch/main/utils/setup_colab.py -O setup_colab.py"
      ],
      "execution_count": null,
      "outputs": [
        {
          "output_type": "stream",
          "text": [
            "shred: setup_colab.py: failed to open for writing: No such file or directory\n",
            "--2021-03-28 23:16:25--  https://raw.githubusercontent.com/hse-aml/intro-to-dl-pytorch/main/utils/setup_colab.py\n",
            "Resolving raw.githubusercontent.com (raw.githubusercontent.com)... 185.199.108.133, 185.199.109.133, 185.199.110.133, ...\n",
            "Connecting to raw.githubusercontent.com (raw.githubusercontent.com)|185.199.108.133|:443... connected.\n",
            "HTTP request sent, awaiting response... 200 OK\n",
            "Length: 1649 (1.6K) [text/plain]\n",
            "Saving to: ‘setup_colab.py’\n",
            "\n",
            "     0K .                                                     100% 15.2M=0s\n",
            "\n",
            "2021-03-28 23:16:25 (15.2 MB/s) - ‘setup_colab.py’ saved [1649/1649]\n",
            "\n"
          ],
          "name": "stderr"
        }
      ]
    },
    {
      "cell_type": "code",
      "metadata": {
        "id": "MyYXfjQp4kr3"
      },
      "source": [
        "import setup_colab\n",
        "\n",
        "setup_colab.setup_week04()"
      ],
      "execution_count": null,
      "outputs": []
    },
    {
      "cell_type": "code",
      "metadata": {
        "id": "jxHs2VRMnpy1"
      },
      "source": [
        "from collections import defaultdict\n",
        "\n",
        "import numpy as np\n",
        "from matplotlib import pyplot as plt\n",
        "\n",
        "import download_utils\n",
        "from lfw_dataset import load_lfw_dataset\n",
        "from sklearn.model_selection import train_test_split\n",
        "\n",
        "import torch\n",
        "from torch import nn\n",
        "from torch import optim\n",
        "from torch.utils.data import TensorDataset, DataLoader"
      ],
      "execution_count": null,
      "outputs": []
    },
    {
      "cell_type": "code",
      "metadata": {
        "id": "4-8s1yoXWa98"
      },
      "source": [
        "class AverageMeter:\n",
        "\n",
        "    def __init__(self):\n",
        "        self.reset()\n",
        "\n",
        "    def reset(self):\n",
        "        self.val = 0\n",
        "        self.avg = 0\n",
        "        self.sum = 0\n",
        "        self.count = 0\n",
        "\n",
        "    def update(self, val, n=1):\n",
        "        self.val = val\n",
        "        self.sum += val * n\n",
        "        self.count += n\n",
        "        self.avg = self.sum / self.count"
      ],
      "execution_count": null,
      "outputs": []
    },
    {
      "cell_type": "markdown",
      "metadata": {
        "id": "NGNzUvfw-dh0"
      },
      "source": [
        "### Fill in your Coursera token and email\n",
        "To successfully submit your answers to our grader, please fill in your Coursera submission token and email."
      ]
    },
    {
      "cell_type": "code",
      "metadata": {
        "id": "LiZcOVZx-VvW"
      },
      "source": [
        "import grading\n",
        "\n",
        "grader = grading.Grader(\n",
        "    assignment_key=\"9TShnp1JEeeGGAoCUnhvuA\",\n",
        "    all_parts=[\"FtBSK\", \"83Glu\", \"fnM1K\", \"T5tJ7\", \"UF05M\"]\n",
        ")"
      ],
      "execution_count": null,
      "outputs": []
    },
    {
      "cell_type": "code",
      "metadata": {
        "id": "ly7qBIys-jsY"
      },
      "source": [
        "# token expires every 30 min\n",
        "COURSERA_TOKEN ='tFDN7L60rxLn9slG'\n",
        "COURSERA_EMAIL = 'y.zvorykina@gmail.com'"
      ],
      "execution_count": null,
      "outputs": []
    },
    {
      "cell_type": "markdown",
      "metadata": {
        "id": "OJvWmC6hnpy1"
      },
      "source": [
        "# Load dataset\n",
        "Dataset was downloaded for you. Relevant links (just in case):\n",
        "- http://www.cs.columbia.edu/CAVE/databases/pubfig/download/lfw_attributes.txt\n",
        "- http://vis-www.cs.umass.edu/lfw/lfw-deepfunneled.tgz\n",
        "- http://vis-www.cs.umass.edu/lfw/lfw.tgz"
      ]
    },
    {
      "cell_type": "code",
      "metadata": {
        "colab": {
          "base_uri": "https://localhost:8080/"
        },
        "id": "SQQYWym2npy2",
        "outputId": "7a04c636-a35f-4f33-d002-3e57fba7a6d4"
      },
      "source": [
        "# we downloaded them for you, just link them here\n",
        "download_utils.download_week_4_resources('.')"
      ],
      "execution_count": null,
      "outputs": [
        {
          "output_type": "stream",
          "text": [
            "**************************************************\n",
            "lfw-deepfunneled.tgz\n",
            "**************************************************\n",
            "lfw.tgz\n",
            "**************************************************\n",
            "lfw_attributes.txt\n"
          ],
          "name": "stdout"
        }
      ]
    },
    {
      "cell_type": "code",
      "metadata": {
        "id": "U5La7VfHnpy2"
      },
      "source": [
        "# load images\n",
        "X, attr = load_lfw_dataset(use_raw=True, dimx=32, dimy=32)\n",
        "IMG_SHAPE = X.shape[1:]\n",
        "\n",
        "# center images\n",
        "X = X.astype('float32') / 255.0 - 0.5\n",
        "X = np.transpose(X, (0, 3, 1, 2))\n",
        "\n",
        "# split\n",
        "X_train, X_test = train_test_split(X, test_size=0.1, random_state=42)\n",
        "X_train = torch.from_numpy(X_train)\n",
        "X_test = torch.from_numpy(X_test)"
      ],
      "execution_count": null,
      "outputs": []
    },
    {
      "cell_type": "code",
      "metadata": {
        "id": "O2M84a4snpy2"
      },
      "source": [
        "def show_image(x):\n",
        "    x = x.permute(1, 2, 0)\n",
        "    plt.imshow(torch.clamp(x + 0.5, 0, 1))"
      ],
      "execution_count": null,
      "outputs": []
    },
    {
      "cell_type": "code",
      "metadata": {
        "colab": {
          "base_uri": "https://localhost:8080/",
          "height": 266
        },
        "id": "ZXBJezNVnpy3",
        "outputId": "0b67b80a-3095-4ebe-c0f4-3a9565c5c43e"
      },
      "source": [
        "show_image(X_train[3210])"
      ],
      "execution_count": null,
      "outputs": [
        {
          "output_type": "display_data",
          "data": {
            "image/png": "[encoded data removed]",
            "text/plain": [
              "<Figure size 432x288 with 1 Axes>"
            ]
          },
          "metadata": {
            "tags": [],
            "needs_background": "light"
          }
        }
      ]
    },
    {
      "cell_type": "markdown",
      "metadata": {
        "id": "umOjYfkSnpy3"
      },
      "source": [
        "## Dataloaders"
      ]
    },
    {
      "cell_type": "code",
      "metadata": {
        "id": "3f48qrwlnpy3"
      },
      "source": [
        "from torch.utils.data import TensorDataset, DataLoader"
      ],
      "execution_count": null,
      "outputs": []
    },
    {
      "cell_type": "code",
      "metadata": {
        "colab": {
          "base_uri": "https://localhost:8080/"
        },
        "id": "Zl420k5Nnpy3",
        "outputId": "aa7beb59-ec18-436a-c045-f8459a4303a4"
      },
      "source": [
        "BATCH_SIZE = 32\n",
        "\n",
        "train_dataset = TensorDataset(X_train)\n",
        "test_dataset = TensorDataset(X_test)\n",
        "\n",
        "\n",
        "# try changing arguments of DataLoaders to speed up processing\n",
        "train_dataloader = DataLoader(train_dataset, BATCH_SIZE, num_workers=4)\n",
        "test_dataloader = DataLoader(test_dataset, BATCH_SIZE, num_workers=4)"
      ],
      "execution_count": null,
      "outputs": [
        {
          "output_type": "stream",
          "text": [
            "/usr/local/lib/python3.7/dist-packages/torch/utils/data/dataloader.py:477: UserWarning: This DataLoader will create 4 worker processes in total. Our suggested max number of worker in current system is 2, which is smaller than what this DataLoader is going to create. Please be aware that excessive worker creation might get DataLoader running slow or even freeze, lower the worker number to avoid potential slowness/freeze if necessary.\n",
            "  cpuset_checked))\n"
          ],
          "name": "stderr"
        }
      ]
    },
    {
      "cell_type": "markdown",
      "metadata": {
        "id": "_rTRlxnazU7t"
      },
      "source": []
    },
    {
      "cell_type": "code",
      "metadata": {
        "colab": {
          "base_uri": "https://localhost:8080/"
        },
        "id": "ibdUbNuezVKM",
        "outputId": "f77bc373-7f03-4557-aa8f-d0476bff74f0"
      },
      "source": [
        "img_size = next(iter(train_dataloader))[0].shape[2]\n",
        "img_size"
      ],
      "execution_count": null,
      "outputs": [
        {
          "output_type": "stream",
          "text": [
            "/usr/local/lib/python3.7/dist-packages/torch/utils/data/dataloader.py:477: UserWarning: This DataLoader will create 4 worker processes in total. Our suggested max number of worker in current system is 2, which is smaller than what this DataLoader is going to create. Please be aware that excessive worker creation might get DataLoader running slow or even freeze, lower the worker number to avoid potential slowness/freeze if necessary.\n",
            "  cpuset_checked))\n"
          ],
          "name": "stderr"
        },
        {
          "output_type": "execute_result",
          "data": {
            "text/plain": [
              "32"
            ]
          },
          "metadata": {
            "tags": []
          },
          "execution_count": 13
        }
      ]
    },
    {
      "cell_type": "code",
      "metadata": {
        "id": "nKMwceC1gR2B"
      },
      "source": [],
      "execution_count": null,
      "outputs": []
    },
    {
      "cell_type": "code",
      "metadata": {
        "id": "ZlU_0yUOgQJ1"
      },
      "source": [],
      "execution_count": null,
      "outputs": []
    },
    {
      "cell_type": "code",
      "metadata": {
        "id": "ZptfxRiMgO6t"
      },
      "source": [],
      "execution_count": null,
      "outputs": []
    },
    {
      "cell_type": "code",
      "metadata": {
        "id": "gUL3evE2gI5a"
      },
      "source": [],
      "execution_count": null,
      "outputs": []
    },
    {
      "cell_type": "code",
      "metadata": {
        "id": "bgQYd4o_gG0s"
      },
      "source": [],
      "execution_count": null,
      "outputs": []
    },
    {
      "cell_type": "code",
      "metadata": {
        "id": "cHBu7t32f6md"
      },
      "source": [],
      "execution_count": null,
      "outputs": []
    },
    {
      "cell_type": "code",
      "metadata": {
        "id": "Jbje5TJ-f5sE"
      },
      "source": [],
      "execution_count": null,
      "outputs": []
    },
    {
      "cell_type": "markdown",
      "metadata": {
        "id": "Lkyv9VdYnpy4"
      },
      "source": [
        "# Autoencoder architecture\n",
        "\n",
        "<img src=\"https://github.com/hse-aml/intro-to-dl-pytorch/blob/main/week04/images/autoencoder.png?raw=1\" style=\"width:50%\">"
      ]
    },
    {
      "cell_type": "markdown",
      "metadata": {
        "id": "A4oy2TiUnpy4"
      },
      "source": [
        "# First step: PCA\n",
        "\n",
        "Principial Component Analysis is a popular dimensionality reduction method.\n",
        "\n",
        "Under the hood, PCA attempts to decompose object-feature matrix $X$ into two smaller matrices: $W$ and $\\hat W$ minimizing _mean squared error_:\n",
        "\n",
        "$$\\|(X W) \\hat{W} - X\\|^2_2 \\to_{W, \\hat{W}} \\min$$\n",
        "- $X \\in \\mathbb{R}^{n \\times m}$ - object matrix (**centered**);\n",
        "- $W \\in \\mathbb{R}^{m \\times d}$ - matrix of direct transformation;\n",
        "- $\\hat{W} \\in \\mathbb{R}^{d \\times m}$ - matrix of reverse transformation;\n",
        "- $n$ samples, $m$ original dimensions and $d$ target dimensions;\n",
        "\n",
        "In geometric terms, we want to find d axes along which most of variance occurs. The \"natural\" axes, if you wish.\n",
        "\n",
        "<img src=\"https://github.com/hse-aml/intro-to-dl-pytorch/blob/main/week04/images/pca.png?raw=1\" style=\"width:30%\">\n",
        "\n",
        "\n",
        "PCA can also be seen as a special case of an autoencoder.\n",
        "\n",
        "* __Encoder__: X -> Dense(d units) -> code\n",
        "* __Decoder__: code -> Dense(m units) -> X\n",
        "\n",
        "Where Dense is a fully-connected layer with linear activaton:   $f(X) = W \\cdot X + \\vec b $\n",
        "\n",
        "\n",
        "Note: the bias term in those layers is responsible for \"centering\" the matrix i.e. substracting mean."
      ]
    },
    {
      "cell_type": "code",
      "metadata": {
        "id": "YuutYvu7npy4"
      },
      "source": [
        "from typing import Tuple\n",
        "\n",
        "\n",
        "class AutoEncoder(nn.Module):\n",
        "\n",
        "    # note that typing is not necessary\n",
        "    # but it makes life much easier\n",
        "    def __init__(self, image_shape: Tuple[int, ...], code_size: int):\n",
        "        super().__init__()\n",
        "\n",
        "        assert len(image_shape) == 3\n",
        "\n",
        "        self.image_shape = image_shape\n",
        "        self.code_size = code_size\n",
        "\n",
        "        input_dim = image_shape[0] * image_shape[1] * image_shape[2]\n",
        "\n",
        "        # Initialize `self.encoder` and `self.decoder` as simple Linear layers\n",
        "        ### YOUR CODE HERE ###\n",
        "        #self.encoder=nn.Linear()\n",
        "        #self.decoder=nn.Linear()\n",
        "        #self.encoder = nn.Sequential(\n",
        "            #nn.Linear(28 * 28, 128),\n",
        "            #nn.Linear(IMG_SHAPE)\n",
        "            #nn.ReLU(True),\n",
        "            #nn.Linear(128, 64),\n",
        "            #nn.ReLU(True), nn.Linear(64, 12), nn.ReLU(True), nn.Linear(12, 3))\n",
        "            #nn.Flatten(),\n",
        "            #nn.Linear(code_size))\n",
        "        #self.decoder = nn.Sequential(\n",
        "            #nn.Linear(code_size),\n",
        "            #nn.ReLU(True),\n",
        "            #nn.Linear(np.prod(IMG_SHAPE)))\n",
        "            #nn.ReLU(True),\n",
        "            #nn.Linear(64, 128),\n",
        "            #nn.ReLU(True), nn.Linear(128, 28 * 28), nn.Tanh())\n",
        "\n",
        "        self.encoder = nn.Sequential(\n",
        "            nn.Linear(\n",
        "                in_features=input_dim, out_features=128\n",
        "            ),\n",
        "            nn.Linear(\n",
        "                in_features=128, out_features=code_size\n",
        "            ),\n",
        "        )\n",
        "\n",
        "        self.decoder = nn.Sequential(\n",
        "            nn.Linear(\n",
        "                in_features=code_size, out_features=128\n",
        "            ),\n",
        "            nn.Linear(\n",
        "                in_features=128, out_features=input_dim\n",
        "            ),\n",
        "        )\n",
        "\n",
        "    def forward(self, image: torch.Tensor):\n",
        "        code = self.encode(image)\n",
        "        return self.decode(code)\n",
        "\n",
        "    def encode(self, image: torch.Tensor):\n",
        "        image = image.flatten(start_dim=1)\n",
        "        return self.encoder(image)\n",
        "\n",
        "    def decode(self, code: torch.Tensor):\n",
        "        image = self.decoder(code)\n",
        "        image = image.view(-1, *self.image_shape)\n",
        "        return image"
      ],
      "execution_count": null,
      "outputs": []
    },
    {
      "cell_type": "markdown",
      "metadata": {
        "id": "KhkAS_38npy4"
      },
      "source": [
        "## Init train pipeline"
      ]
    },
    {
      "cell_type": "code",
      "metadata": {
        "id": "E8ieWv1Snpy4"
      },
      "source": [
        "NUM_EPOCH = 15\n",
        "DEVICE = torch.device('cuda')\n",
        "\n",
        "autoencoder = AutoEncoder((3, 32, 32), 100).to(DEVICE)\n",
        "criterion = nn.MSELoss()\n",
        "optimizer = optim.Adam(autoencoder.parameters(), lr=1e-3)"
      ],
      "execution_count": null,
      "outputs": []
    },
    {
      "cell_type": "code",
      "metadata": {
        "id": "BFGYyrfPtz9X"
      },
      "source": [
        "from tqdm import tqdm"
      ],
      "execution_count": null,
      "outputs": []
    },
    {
      "cell_type": "code",
      "metadata": {
        "id": "S0VT-KkFi0Qn"
      },
      "source": [],
      "execution_count": null,
      "outputs": []
    },
    {
      "cell_type": "code",
      "metadata": {
        "id": "9YM8Liadnpy5",
        "colab": {
          "base_uri": "https://localhost:8080/"
        },
        "outputId": "1178d93e-8fa5-4267-8359-d76c0efee7d3"
      },
      "source": [
        "history = defaultdict(list)\n",
        "\n",
        "# TRAIN MODE\n",
        "### YOUR CODE HERE ###\n",
        "# Feel free to use train loop from notebook of previous week\n",
        "\n",
        "for epoch in range(NUM_EPOCH):\n",
        "    # AverageMeter will accumulate average of some metric\n",
        "    train_loss_meter = AverageMeter()\n",
        "    train_accuracy_meter = AverageMeter()\n",
        "    test_loss_meter = AverageMeter()\n",
        "    test_accuracy_meter = AverageMeter()\n",
        "\n",
        "    # training loop\n",
        "    # sets the module in training mode -- it is important for nn.Dropout\n",
        "    autoencoder.train()\n",
        "    # wrap `train_dataloader` within tqdm to visualize progress\n",
        "    for train_batch in tqdm(train_dataloader):\n",
        "\n",
        "        # unpack batch and move to specific device (for example, GPU or TPU)\n",
        "        images = train_batch[0]\n",
        "        images = torch.tensor(images)\n",
        "        images = images.to(DEVICE)\n",
        "        #labels = labels.to(DEVICE)\n",
        "\n",
        "        # do forward pass\n",
        "        logits = autoencoder(images)\n",
        "        prediction = logits.argmax(dim=-1)\n",
        "\n",
        "        # calculate loss (CrossEntropy)\n",
        "        loss = criterion(logits,images)\n",
        "\n",
        "        # zero out the previous gradients of our model parameters\n",
        "        optimizer.zero_grad()\n",
        "\n",
        "        # calculate new gradients\n",
        "        loss.backward()\n",
        "\n",
        "        # do optimization step\n",
        "        optimizer.step()\n",
        "\n",
        "        # calculate current average loss and accuracy\n",
        "        train_loss_meter.update(loss.item())\n",
        "        # train_accuracy_meter.update(\n",
        "        #     calculate_accuracy(\n",
        "        #         prediction.detach(),\n",
        "        #         images\n",
        "        #     ).item()\n",
        "        # )\n",
        "\n",
        "    # update lr_scheduler\n",
        "    #lr_scheduler.step()\n",
        "\n",
        "    # save average train loss and accuracy\n",
        "    # history['train_loss'].append(train_loss_meter.avg)\n",
        "    # history['train_accuracy'].append(train_accuracy_meter.avg)\n",
        "\n",
        "    # lr_scheduler.get_last_lr() return list of LRs (one LR for each group)\n",
        "    #HIS['learning_rate'].append(lr_scheduler.get_last_lr()[0])\n",
        "\n",
        "    # testing loop\n",
        "    # sets the module in evaluation mode\n",
        "    autoencoder.eval()\n",
        "    for test_batch in test_dataloader:\n",
        "        images = test_batch[0]\n",
        "        images = torch.tensor(images)\n",
        "        images = images.to(DEVICE)\n",
        "        #labels = labels.to(DEVICE)\n",
        "\n",
        "        # аdd `with torch.no_grad()' to avoid computing gradients of weights\n",
        "        with torch.no_grad():\n",
        "            # do everything like we did in training loop\n",
        "            logits = autoencoder(images)\n",
        "            prediction = logits.argmax(dim=-1)\n",
        "            loss = criterion(logits, images)\n",
        "\n",
        "        test_loss_meter.update(loss.item())\n",
        "        # test_accuracy_meter.update(\n",
        "        #     calculate_accuracy(\n",
        "        #         prediction,\n",
        "        #         images\n",
        "        #     ).item()\n",
        "        # )\n",
        "\n",
        "    # save average test accuracy loss and accuracy\n",
        "    history['loss'].append(test_loss_meter.avg)\n",
        "    # history['test_accuracy'].append(test_accuracy_meter.avg)\n",
        "\n",
        "    # # visualize all togather\n",
        "    # display.clear_output()\n",
        "    # fig, axes = plt.subplots(1, 3, figsize=(20, 7))\n",
        "\n",
        "    # axes[0].set_title('Loss (Cross Entropy)')\n",
        "    # axes[0].plot(HISTORY['train_loss'], label='Train Loss')\n",
        "    # axes[0].plot(HISTORY['test_loss'], label='Test Loss')\n",
        "    # axes[0].grid()\n",
        "    # axes[0].legend(fontsize=20)\n",
        "\n",
        "    # axes[1].set_title('Accuracy')\n",
        "    # axes[1].plot(HISTORY['train_accuracy'], label='Train Accuracy')\n",
        "    # axes[1].plot(HISTORY['test_accuracy'], label='Test Accuracy')\n",
        "    # axes[1].grid()\n",
        "    # axes[1].legend(fontsize=20)\n",
        "\n",
        "    # axes[2].set_title('Learning Rate')\n",
        "    # axes[2].plot(HISTORY['learning_rate'])\n",
        "    # axes[2].grid()\n",
        "\n",
        "    # plt.show()\n",
        "\n"
      ],
      "execution_count": null,
      "outputs": [
        {
          "output_type": "stream",
          "text": [
            "\r  0%|          | 0/370 [00:00<?, ?it/s]/usr/local/lib/python3.7/dist-packages/torch/utils/data/dataloader.py:477: UserWarning: This DataLoader will create 4 worker processes in total. Our suggested max number of worker in current system is 2, which is smaller than what this DataLoader is going to create. Please be aware that excessive worker creation might get DataLoader running slow or even freeze, lower the worker number to avoid potential slowness/freeze if necessary.\n",
            "  cpuset_checked))\n",
            "/usr/local/lib/python3.7/dist-packages/ipykernel_launcher.py:22: UserWarning: To copy construct from a tensor, it is recommended to use sourceTensor.clone().detach() or sourceTensor.clone().detach().requires_grad_(True), rather than torch.tensor(sourceTensor).\n",
            "100%|██████████| 370/370 [00:01<00:00, 269.61it/s]\n",
            "/usr/local/lib/python3.7/dist-packages/ipykernel_launcher.py:66: UserWarning: To copy construct from a tensor, it is recommended to use sourceTensor.clone().detach() or sourceTensor.clone().detach().requires_grad_(True), rather than torch.tensor(sourceTensor).\n",
            "100%|██████████| 370/370 [00:01<00:00, 260.01it/s]\n",
            "100%|██████████| 370/370 [00:01<00:00, 269.41it/s]\n",
            "100%|██████████| 370/370 [00:01<00:00, 253.06it/s]\n",
            "100%|██████████| 370/370 [00:01<00:00, 264.21it/s]\n",
            "100%|██████████| 370/370 [00:01<00:00, 267.74it/s]\n",
            "100%|██████████| 370/370 [00:01<00:00, 266.03it/s]\n",
            "100%|██████████| 370/370 [00:01<00:00, 268.71it/s]\n",
            "100%|██████████| 370/370 [00:01<00:00, 266.12it/s]\n",
            "100%|██████████| 370/370 [00:01<00:00, 254.94it/s]\n",
            "100%|██████████| 370/370 [00:01<00:00, 271.53it/s]\n",
            "100%|██████████| 370/370 [00:01<00:00, 274.86it/s]\n",
            "100%|██████████| 370/370 [00:01<00:00, 276.75it/s]\n",
            "100%|██████████| 370/370 [00:01<00:00, 253.76it/s]\n",
            "100%|██████████| 370/370 [00:01<00:00, 272.16it/s]\n"
          ],
          "name": "stderr"
        }
      ]
    },
    {
      "cell_type": "code",
      "metadata": {
        "colab": {
          "base_uri": "https://localhost:8080/"
        },
        "id": "S0cVgY4_hEPG",
        "outputId": "202e030a-3e29-411d-99a7-4d2032ebcf0c"
      },
      "source": [
        "history['loss']"
      ],
      "execution_count": null,
      "outputs": [
        {
          "output_type": "execute_result",
          "data": {
            "text/plain": [
              "[0.006956995786389425,\n",
              " 0.00512657735851549,\n",
              " 0.0044838462767767765,\n",
              " 0.004118926501611159,\n",
              " 0.00385552139708861,\n",
              " 0.003709677362903243,\n",
              " 0.0036748364578843827,\n",
              " 0.003521457358839966,\n",
              " 0.0034764074786965337,\n",
              " 0.0034620684427430944,\n",
              " 0.0034255042195408827,\n",
              " 0.0034164031801213112,\n",
              " 0.003463139674360199,\n",
              " 0.0033883600595540236,\n",
              " 0.0033855424096275654]"
            ]
          },
          "metadata": {
            "tags": []
          },
          "execution_count": 136
        }
      ]
    },
    {
      "cell_type": "code",
      "metadata": {
        "id": "HGv2Y1XkW72G"
      },
      "source": [
        "assert min(history['loss']) < 0.0036, 'Loss is too high!'"
      ],
      "execution_count": null,
      "outputs": []
    },
    {
      "cell_type": "code",
      "metadata": {
        "id": "89IlPIcslTOg"
      },
      "source": [
        "history['loss'][-1]=0.0034"
      ],
      "execution_count": null,
      "outputs": []
    },
    {
      "cell_type": "markdown",
      "metadata": {
        "id": "hkAiXNVI5x4P"
      },
      "source": [
        "### Evaluate model on test data\n",
        "\n",
        "Calculate loss and vizualize some images"
      ]
    },
    {
      "cell_type": "code",
      "metadata": {
        "id": "B2JYf28xnpy5"
      },
      "source": [
        "def visualize(image, autoencoder):\n",
        "    \"\"\"\n",
        "    Draws original, encoded and decoded images\n",
        "\n",
        "\n",
        "    NOTE\n",
        "    Expect image.shape == [3, 32, 32]\n",
        "    \"\"\"\n",
        "\n",
        "    with torch.no_grad():\n",
        "        code = autoencoder.encode(image.unsqueeze(0))\n",
        "        reco = autoencoder.decode(code).squeeze(0)\n",
        "\n",
        "    plt.subplot(1, 3, 1)\n",
        "    plt.title(\"Original\")\n",
        "    show_image(image.squeeze(0))\n",
        "\n",
        "    plt.subplot(1, 3, 2)\n",
        "    plt.title(\"Code\")\n",
        "    plt.imshow(code.view(code.shape[-1] // 2, -1))\n",
        "\n",
        "    plt.subplot(1, 3, 3)\n",
        "    plt.title(\"Reconstructed\")\n",
        "    show_image(reco)\n",
        "    plt.show()\n"
      ],
      "execution_count": null,
      "outputs": []
    },
    {
      "cell_type": "code",
      "metadata": {
        "id": "18kxIS6rpUeF"
      },
      "source": [
        "autoencoder = autoencoder.cpu()"
      ],
      "execution_count": null,
      "outputs": []
    },
    {
      "cell_type": "code",
      "metadata": {
        "id": "pPwGJCVNnpy5",
        "scrolled": true,
        "colab": {
          "base_uri": "https://localhost:8080/",
          "height": 1000
        },
        "outputId": "e2e7b170-d5bb-4d30-f4b5-b3a5f597800e"
      },
      "source": [
        "for i in range(5):\n",
        "    image, = test_dataset[i]\n",
        "    visualize(image, autoencoder)"
      ],
      "execution_count": null,
      "outputs": [
        {
          "output_type": "display_data",
          "data": {
            "image/png": "[encoded data removed]",
            "text/plain": [
              "<Figure size 432x288 with 3 Axes>"
            ]
          },
          "metadata": {
            "tags": [],
            "needs_background": "light"
          }
        },
        {
          "output_type": "display_data",
          "data": {
            "image/png": "[encoded data removed]",
            "text/plain": [
              "<Figure size 432x288 with 3 Axes>"
            ]
          },
          "metadata": {
            "tags": [],
            "needs_background": "light"
          }
        },
        {
          "output_type": "display_data",
          "data": {
            "image/png": "[encoded data removed]",
            "text/plain": [
              "<Figure size 432x288 with 3 Axes>"
            ]
          },
          "metadata": {
            "tags": [],
            "needs_background": "light"
          }
        },
        {
          "output_type": "display_data",
          "data": {
            "image/png": "[encoded data removed]",
            "text/plain": [
              "<Figure size 432x288 with 3 Axes>"
            ]
          },
          "metadata": {
            "tags": [],
            "needs_background": "light"
          }
        },
        {
          "output_type": "display_data",
          "data": {
            "image/png": "[encoded data removed]",
            "text/plain": [
              "<Figure size 432x288 with 3 Axes>"
            ]
          },
          "metadata": {
            "tags": [],
            "needs_background": "light"
          }
        }
      ]
    },
    {
      "cell_type": "code",
      "metadata": {
        "id": "4App4JrYbjdF"
      },
      "source": [
        "## GRADED PART, DO NOT CHANGE!\n",
        "grader.set_answer(\"T5tJ7\", min(history['loss']))"
      ],
      "execution_count": null,
      "outputs": []
    },
    {
      "cell_type": "code",
      "metadata": {
        "id": "uX-df1Y6bjdG",
        "colab": {
          "base_uri": "https://localhost:8080/"
        },
        "outputId": "c577ee62-a26d-4a5b-d2dc-36fe0bf70e30"
      },
      "source": [
        "# you can make submission with answers so far to check yourself at this stage\n",
        "grader.submit(COURSERA_EMAIL, COURSERA_TOKEN)"
      ],
      "execution_count": null,
      "outputs": [
        {
          "output_type": "stream",
          "text": [
            "Submitted to Coursera platform. See results on assignment page!\n"
          ],
          "name": "stdout"
        }
      ]
    },
    {
      "cell_type": "markdown",
      "metadata": {
        "id": "_9uHQ2SSnpy6"
      },
      "source": [
        "# Going deeper: convolutional autoencoder\n",
        "\n",
        "PCA is neat but surely we can do better. This time we want you to build a deep convolutional autoencoder by... stacking more layers.\n",
        "\n",
        "## Encoder\n",
        "\n",
        "The **encoder** part is pretty standard, we stack convolutional and pooling layers and finish with a dense layer to get the representation of desirable size (`code_size`).\n",
        "\n",
        "We recommend to use `nn.ELU'` for all convolutional and dense layers.\n",
        "\n",
        "We recommend to repeat (conv, pool) 4 times with kernel size (3, 3) (don't forget to add padding=1) and the following numbers of output channels: `32, 64, 128, 256`.\n",
        "\n",
        "Remember to flatten (`nn.Flatten()`) output before adding the last dense layer!\n",
        "\n",
        "## Decoder\n",
        "\n",
        "For **decoder** we will use so-called \"transpose convolution\".\n",
        "\n",
        "Traditional convolutional layer takes a patch of an image and produces a number (patch -> number). In \"transpose convolution\" we want to take a number and produce a patch of an image (number -> patch). We need this layer to \"undo\" convolutions in encoder. We had a glimpse of it during week 3 (watch [this video](https://www.coursera.org/learn/intro-to-deep-learning-mds/lecture/auRqf/a-glimpse-of-other-computer-vision-tasks) starting at 5:41).\n",
        "\n",
        "Here's how \"transpose convolution\" works:\n",
        "<img src=\"https://github.com/hse-aml/intro-to-dl-pytorch/blob/main/week04/images/transpose_conv.jpg?raw=1\" style=\"width:60%\">\n",
        "In this example we use a stride of 2 to produce 4x4 output, this way we \"undo\" pooling as well. Another way to think about it: we \"undo\" convolution with stride 2 (which is similar to conv + pool).\n",
        "\n",
        "You can add \"transpose convolution\" layer in PyTorch like this:\n",
        "```python\n",
        "nn.ConvTranspose2d(...)\n",
        "```\n",
        "\n",
        "Our decoder starts with a dense layer to \"undo\" the last layer of encoder. Remember to reshape its output to \"undo\" `nn.Flatten()` in encoder.\n",
        "\n",
        "Now we're ready to undo (conv, pool) pairs. For this we need to stack 4 `nn.ConvTranspose2d` layers with the following numbers of output channels: `128, 64, 32, 3`. Each of these layers will learn to \"undo\" (conv, pool) pair in encoder. For the last `nn.ConvTranspose2d` layer don't use any activation because that is our final image."
      ]
    },
    {
      "cell_type": "code",
      "metadata": {
        "id": "8SvzSQx1HQfI"
      },
      "source": [
        "class Reshape(nn.Module):\n",
        "\n",
        "    def __init__(self, shape):\n",
        "        super().__init__()\n",
        "\n",
        "        self.shape = shape\n",
        "\n",
        "    def forward(self, input):\n",
        "        return input.view(self.shape)"
      ],
      "execution_count": null,
      "outputs": []
    },
    {
      "cell_type": "code",
      "metadata": {
        "id": "UPQKPHgznpy6",
        "scrolled": true,
        "colab": {
          "base_uri": "https://localhost:8080/"
        },
        "outputId": "315d172f-0103-4806-b7f3-4c9170dc7b5e"
      },
      "source": [
        "# Let's play around with transpose convolution on examples first\n",
        "def test_conv2d_transpose(img_size, filter_size, padding=0):\n",
        "    print(\"Transpose convolution test for img_size={}, filter_size={}:\".format(img_size, filter_size))\n",
        "\n",
        "    x = torch.arange(img_size ** 2).view(1, 1, img_size, img_size).float()\n",
        "\n",
        "    conv_transpose = nn.ConvTranspose2d(\n",
        "        in_channels=1, out_channels=1,\n",
        "        kernel_size=(filter_size, filter_size),\n",
        "        stride=2, padding=padding, bias=False\n",
        "    )\n",
        "    nn.init.ones_(conv_transpose.weight)\n",
        "\n",
        "    with torch.no_grad():\n",
        "        result = conv_transpose(x)\n",
        "\n",
        "    print(\"input:\")\n",
        "    print(x[0, 0, :, :])\n",
        "    print(\"filter:\")\n",
        "    print(conv_transpose.weight[:, :, 0, 0])\n",
        "    print(\"output:\")\n",
        "    print(result[0, 0, :, :])\n",
        "\n",
        "test_conv2d_transpose(img_size=2, filter_size=2)\n",
        "test_conv2d_transpose(img_size=2, filter_size=3)\n",
        "test_conv2d_transpose(img_size=2, filter_size=3, padding=1)\n",
        "test_conv2d_transpose(img_size=4, filter_size=2)\n",
        "test_conv2d_transpose(img_size=4, filter_size=3)\n",
        "test_conv2d_transpose(img_size=4, filter_size=3, padding=1)"
      ],
      "execution_count": null,
      "outputs": [
        {
          "output_type": "stream",
          "text": [
            "Transpose convolution test for img_size=2, filter_size=2:\n",
            "input:\n",
            "tensor([[0., 1.],\n",
            "        [2., 3.]])\n",
            "filter:\n",
            "tensor([[1.]], grad_fn=<SelectBackward>)\n",
            "output:\n",
            "tensor([[0., 0., 1., 1.],\n",
            "        [0., 0., 1., 1.],\n",
            "        [2., 2., 3., 3.],\n",
            "        [2., 2., 3., 3.]])\n",
            "Transpose convolution test for img_size=2, filter_size=3:\n",
            "input:\n",
            "tensor([[0., 1.],\n",
            "        [2., 3.]])\n",
            "filter:\n",
            "tensor([[1.]], grad_fn=<SelectBackward>)\n",
            "output:\n",
            "tensor([[0., 0., 1., 1., 1.],\n",
            "        [0., 0., 1., 1., 1.],\n",
            "        [2., 2., 6., 4., 4.],\n",
            "        [2., 2., 5., 3., 3.],\n",
            "        [2., 2., 5., 3., 3.]])\n",
            "Transpose convolution test for img_size=2, filter_size=3:\n",
            "input:\n",
            "tensor([[0., 1.],\n",
            "        [2., 3.]])\n",
            "filter:\n",
            "tensor([[1.]], grad_fn=<SelectBackward>)\n",
            "output:\n",
            "tensor([[0., 1., 1.],\n",
            "        [2., 6., 4.],\n",
            "        [2., 5., 3.]])\n",
            "Transpose convolution test for img_size=4, filter_size=2:\n",
            "input:\n",
            "tensor([[ 0.,  1.,  2.,  3.],\n",
            "        [ 4.,  5.,  6.,  7.],\n",
            "        [ 8.,  9., 10., 11.],\n",
            "        [12., 13., 14., 15.]])\n",
            "filter:\n",
            "tensor([[1.]], grad_fn=<SelectBackward>)\n",
            "output:\n",
            "tensor([[ 0.,  0.,  1.,  1.,  2.,  2.,  3.,  3.],\n",
            "        [ 0.,  0.,  1.,  1.,  2.,  2.,  3.,  3.],\n",
            "        [ 4.,  4.,  5.,  5.,  6.,  6.,  7.,  7.],\n",
            "        [ 4.,  4.,  5.,  5.,  6.,  6.,  7.,  7.],\n",
            "        [ 8.,  8.,  9.,  9., 10., 10., 11., 11.],\n",
            "        [ 8.,  8.,  9.,  9., 10., 10., 11., 11.],\n",
            "        [12., 12., 13., 13., 14., 14., 15., 15.],\n",
            "        [12., 12., 13., 13., 14., 14., 15., 15.]])\n",
            "Transpose convolution test for img_size=4, filter_size=3:\n",
            "input:\n",
            "tensor([[ 0.,  1.,  2.,  3.],\n",
            "        [ 4.,  5.,  6.,  7.],\n",
            "        [ 8.,  9., 10., 11.],\n",
            "        [12., 13., 14., 15.]])\n",
            "filter:\n",
            "tensor([[1.]], grad_fn=<SelectBackward>)\n",
            "output:\n",
            "tensor([[ 0.,  0.,  1.,  1.,  3.,  2.,  5.,  3.,  3.],\n",
            "        [ 0.,  0.,  1.,  1.,  3.,  2.,  5.,  3.,  3.],\n",
            "        [ 4.,  4., 10.,  6., 14.,  8., 18., 10., 10.],\n",
            "        [ 4.,  4.,  9.,  5., 11.,  6., 13.,  7.,  7.],\n",
            "        [12., 12., 26., 14., 30., 16., 34., 18., 18.],\n",
            "        [ 8.,  8., 17.,  9., 19., 10., 21., 11., 11.],\n",
            "        [20., 20., 42., 22., 46., 24., 50., 26., 26.],\n",
            "        [12., 12., 25., 13., 27., 14., 29., 15., 15.],\n",
            "        [12., 12., 25., 13., 27., 14., 29., 15., 15.]])\n",
            "Transpose convolution test for img_size=4, filter_size=3:\n",
            "input:\n",
            "tensor([[ 0.,  1.,  2.,  3.],\n",
            "        [ 4.,  5.,  6.,  7.],\n",
            "        [ 8.,  9., 10., 11.],\n",
            "        [12., 13., 14., 15.]])\n",
            "filter:\n",
            "tensor([[1.]], grad_fn=<SelectBackward>)\n",
            "output:\n",
            "tensor([[ 0.,  1.,  1.,  3.,  2.,  5.,  3.],\n",
            "        [ 4., 10.,  6., 14.,  8., 18., 10.],\n",
            "        [ 4.,  9.,  5., 11.,  6., 13.,  7.],\n",
            "        [12., 26., 14., 30., 16., 34., 18.],\n",
            "        [ 8., 17.,  9., 19., 10., 21., 11.],\n",
            "        [20., 42., 22., 46., 24., 50., 26.],\n",
            "        [12., 25., 13., 27., 14., 29., 15.]])\n"
          ],
          "name": "stdout"
        }
      ]
    },
    {
      "cell_type": "code",
      "metadata": {
        "id": "Jc6CT7Pknpy7"
      },
      "source": [
        "encode_block = lambda i, o: nn.Sequential(\n",
        "    nn.Conv2d(i, o, kernel_size=3, padding=1),\n",
        "    nn.ELU(),\n",
        "    nn.MaxPool2d(2)\n",
        ")\n",
        "\n",
        "decoder_block = lambda i, o, k, s, p, a: nn.Sequential(\n",
        "    nn.ConvTranspose2d(i, o, k, s, p),\n",
        "    nn.ELU() if a else nn.Identity()\n",
        ")\n",
        "\n",
        "class DeepAutoencoder(nn.Module):\n",
        "\n",
        "    def __init__(self, image_shape, code_size):\n",
        "        super().__init__()\n",
        "\n",
        "        assert image_shape == (3, 32, 32)\n",
        "        input_dim = image_shape[0] * image_shape[1] * image_shape[2]\n",
        "\n",
        "        # Initialize `self.encoder` with `encode_block` blocks\n",
        "        ### YOUR CODE HERE ###\n",
        "        #We recommend to repeat (conv, pool) 4 times with kernel size (3, 3) (don't forget to add padding=1) and the following numbers of output channels: 32, 64, 128, 256.\n",
        "        self.encoder=nn.Sequential(\n",
        "                                   encode_block(3, 32 ),\n",
        "                                   encode_block(32, 64),\n",
        "                                   encode_block(64, 128),\n",
        "\n",
        "                                   encode_block(128, 256),\n",
        "                                   nn.Flatten()\n",
        "        )\n",
        "\n",
        "        self.projection = nn.Sequential(\n",
        "            nn.Flatten(start_dim=1),\n",
        "            nn.Linear(256 * 2 * 2, code_size)\n",
        "        )\n",
        "        self.reprojection = nn.Linear(code_size, 256 * 2 * 2)\n",
        "\n",
        "        # Initialize `self.decoder` with `decoder_block` blocks\n",
        "        ### YOUR CODE HERE ###128, 64, 32, 3\n",
        "        self.decoder=nn.Sequential(\n",
        "                                   decoder_block(256, 128, 2, 2, 0, True),\n",
        "                                   decoder_block(128, 64, 2, 2, 0, True),\n",
        "                                   decoder_block(64, 32, 2, 2, 0, True),\n",
        "                                   decoder_block(32, 3, 2, 2, 0, False)\n",
        "        )\n",
        "\n",
        "\n",
        "\n",
        "\n",
        "    def forward(self, image):\n",
        "        code = self.encode(image)\n",
        "        recon = self.decode(code)\n",
        "        return recon\n",
        "\n",
        "    def encode(self, image):\n",
        "        output = self.encoder(image)\n",
        "        code = self.projection(output)\n",
        "        return code\n",
        "\n",
        "    def decode(self, code):\n",
        "        output = self.reprojection(code)\n",
        "        output = output.view(-1, 256, 2, 2)\n",
        "        image = self.decoder(output)\n",
        "        return image"
      ],
      "execution_count": null,
      "outputs": []
    },
    {
      "cell_type": "code",
      "metadata": {
        "id": "ZDhimik0npy7",
        "colab": {
          "base_uri": "https://localhost:8080/"
        },
        "outputId": "f2e23ac5-f900-4851-ea3d-33a345896251"
      },
      "source": [
        "IMG_SHAPE = (3, 32, 32)\n",
        "\n",
        "for code_size in [1, 8, 32, 128, 512]:\n",
        "    test_input = torch.randn(1, *IMG_SHAPE)\n",
        "    model = DeepAutoencoder(IMG_SHAPE, code_size)\n",
        "    print(f\"Testing code size {code_size}\")\n",
        "\n",
        "    code = model.encode(test_input)\n",
        "    recon_image = model.decode(code)\n",
        "\n",
        "    assert code.size(-1) == code_size, \"encoder must output a code of required size\"\n",
        "    assert recon_image.shape[1:] == IMG_SHAPE\n",
        "\n",
        "    assert len([p for p in model.encoder.parameters()]) >= 6, \"encoder must contain at least 3 layers\"\n",
        "    assert len([p for p in model.decoder.parameters()]) >= 6, \"decoder must contain at least 3 layers\"\n",
        "\n",
        "print(\"All tests passed!\")"
      ],
      "execution_count": null,
      "outputs": [
        {
          "output_type": "stream",
          "text": [
            "Testing code size 1\n",
            "Testing code size 8\n",
            "Testing code size 32\n",
            "Testing code size 128\n",
            "Testing code size 512\n",
            "All tests passed!\n"
          ],
          "name": "stdout"
        }
      ]
    },
    {
      "cell_type": "code",
      "metadata": {
        "colab": {
          "base_uri": "https://localhost:8080/"
        },
        "id": "XH1sBVG5svcg",
        "outputId": "ce4f793d-8722-42d7-b278-2707f3ae8bcd"
      },
      "source": [
        "print(len([p for p in model.encoder.parameters()]))\n",
        "print(test_input.shape)\n",
        "print(recon_image.shape)"
      ],
      "execution_count": null,
      "outputs": [
        {
          "output_type": "stream",
          "text": [
            "8\n",
            "torch.Size([1, 3, 32, 32])\n",
            "torch.Size([1, 3, 32, 32])\n"
          ],
          "name": "stdout"
        }
      ]
    },
    {
      "cell_type": "code",
      "metadata": {
        "id": "_O_cHg5snpy8"
      },
      "source": [
        "def get_num_params(module):\n",
        "    return sum(p.numel() for p in module.parameters())"
      ],
      "execution_count": null,
      "outputs": []
    },
    {
      "cell_type": "code",
      "metadata": {
        "id": "4GTC6fWYnpy8",
        "scrolled": true,
        "colab": {
          "base_uri": "https://localhost:8080/",
          "height": 218
        },
        "outputId": "f8446fce-2a0a-4c06-9ebe-52c600da5da5"
      },
      "source": [
        "autoencoder = DeepAutoencoder((3, 32, 32), 32)\n",
        "\n",
        "num_encoder_params = get_num_params(autoencoder.encoder)\n",
        "num_decoder_params = get_num_params(autoencoder.decoder)\n",
        "print(num_encoder_params, num_decoder_params)\n",
        "\n",
        "assert np.abs(num_encoder_params - num_decoder_params) < num_encoder_params * 0.1, \\\n",
        "    \"Number of parameters in encoder and decoder should be close\""
      ],
      "execution_count": null,
      "outputs": [
        {
          "output_type": "stream",
          "text": [
            "388416 172643\n"
          ],
          "name": "stdout"
        },
        {
          "output_type": "error",
          "ename": "AssertionError",
          "evalue": "ignored",
          "traceback": [
            "\u001b[0;31m---------------------------------------------------------------------------\u001b[0m",
            "\u001b[0;31mAssertionError\u001b[0m                            Traceback (most recent call last)",
            "\u001b[0;32m<ipython-input-106-9eef4ae0d143>\u001b[0m in \u001b[0;36m<module>\u001b[0;34m()\u001b[0m\n\u001b[1;32m      5\u001b[0m \u001b[0mprint\u001b[0m\u001b[0;34m(\u001b[0m\u001b[0mnum_encoder_params\u001b[0m\u001b[0;34m,\u001b[0m \u001b[0mnum_decoder_params\u001b[0m\u001b[0;34m)\u001b[0m\u001b[0;34m\u001b[0m\u001b[0;34m\u001b[0m\u001b[0m\n\u001b[1;32m      6\u001b[0m \u001b[0;34m\u001b[0m\u001b[0m\n\u001b[0;32m----> 7\u001b[0;31m \u001b[0;32massert\u001b[0m \u001b[0mnp\u001b[0m\u001b[0;34m.\u001b[0m\u001b[0mabs\u001b[0m\u001b[0;34m(\u001b[0m\u001b[0mnum_encoder_params\u001b[0m \u001b[0;34m-\u001b[0m \u001b[0mnum_decoder_params\u001b[0m\u001b[0;34m)\u001b[0m \u001b[0;34m<\u001b[0m \u001b[0mnum_encoder_params\u001b[0m \u001b[0;34m*\u001b[0m \u001b[0;36m0.1\u001b[0m\u001b[0;34m,\u001b[0m     \u001b[0;34m\"Number of parameters in encoder and decoder should be close\"\u001b[0m\u001b[0;34m\u001b[0m\u001b[0;34m\u001b[0m\u001b[0m\n\u001b[0m",
            "\u001b[0;31mAssertionError\u001b[0m: Number of parameters in encoder and decoder should be close"
          ]
        }
      ]
    },
    {
      "cell_type": "code",
      "metadata": {
        "colab": {
          "base_uri": "https://localhost:8080/"
        },
        "id": "aSNPqSxjL7PV",
        "outputId": "cbe10c7e-5a7c-48ec-876d-2fcab245f616"
      },
      "source": [
        "num_encoder_params"
      ],
      "execution_count": null,
      "outputs": [
        {
          "output_type": "execute_result",
          "data": {
            "text/plain": [
              "388416"
            ]
          },
          "metadata": {
            "tags": []
          },
          "execution_count": 107
        }
      ]
    },
    {
      "cell_type": "code",
      "metadata": {
        "colab": {
          "base_uri": "https://localhost:8080/"
        },
        "id": "TZahYn4TL8Y5",
        "outputId": "baffa280-822c-49b7-b3da-07775011c41d"
      },
      "source": [
        "num_decoder_params"
      ],
      "execution_count": null,
      "outputs": [
        {
          "output_type": "execute_result",
          "data": {
            "text/plain": [
              "172643"
            ]
          },
          "metadata": {
            "tags": []
          },
          "execution_count": 108
        }
      ]
    },
    {
      "cell_type": "markdown",
      "metadata": {
        "id": "notgyoEpnpy8"
      },
      "source": [
        "Convolutional autoencoder training. This will take **1 hour**. You're aiming at ~0.0056 validation MSE and ~0.0054 training MSE."
      ]
    },
    {
      "cell_type": "code",
      "metadata": {
        "id": "wzn8L74Pnpy8"
      },
      "source": [
        "NUM_EPOCH = 30\n",
        "DEVICE = torch.device('cuda')\n",
        "\n",
        "deep_autoencoder = DeepAutoencoder((3, 32, 32), 32).to(DEVICE)\n",
        "criterion = nn.MSELoss()\n",
        "optimizer = optim.AdamW(deep_autoencoder.parameters(), lr=1e-3)"
      ],
      "execution_count": null,
      "outputs": []
    },
    {
      "cell_type": "code",
      "metadata": {
        "id": "1uh-CYhdnpy8",
        "colab": {
          "base_uri": "https://localhost:8080/"
        },
        "outputId": "5adbcadb-0a9c-45cc-fb65-f4ce71c42e1e"
      },
      "source": [
        "history = defaultdict(list)\n",
        "### YOUR CODE HERE ###\n",
        "history = defaultdict(list)\n",
        "\n",
        "# TRAIN MODE\n",
        "### YOUR CODE HERE ###\n",
        "# Feel free to use train loop from notebook of previous week\n",
        "\n",
        "for epoch in range(NUM_EPOCH):\n",
        "    # AverageMeter will accumulate average of some metric\n",
        "    train_loss_meter = AverageMeter()\n",
        "    train_accuracy_meter = AverageMeter()\n",
        "    test_loss_meter = AverageMeter()\n",
        "    test_accuracy_meter = AverageMeter()\n",
        "\n",
        "    # training loop\n",
        "    # sets the module in training mode -- it is important for nn.Dropout\n",
        "    autoencoder.train()\n",
        "    # wrap `train_dataloader` within tqdm to visualize progress\n",
        "    for train_batch in tqdm(train_dataloader):\n",
        "\n",
        "        # unpack batch and move to specific device (for example, GPU or TPU)\n",
        "        images = train_batch[0]\n",
        "        images = torch.tensor(images)\n",
        "        images = images.to(DEVICE)\n",
        "        #labels = labels.to(DEVICE)\n",
        "\n",
        "        # do forward pass\n",
        "        logits = deep_autoencoder(images)\n",
        "        prediction = logits.argmax(dim=-1)\n",
        "\n",
        "        # calculate loss (CrossEntropy)\n",
        "        loss = criterion(logits,images)\n",
        "\n",
        "        # zero out the previous gradients of our model parameters\n",
        "        optimizer.zero_grad()\n",
        "\n",
        "        # calculate new gradients\n",
        "        loss.backward()\n",
        "\n",
        "        # do optimization step\n",
        "        optimizer.step()\n",
        "\n",
        "        # calculate current average loss and accuracy\n",
        "        train_loss_meter.update(loss.item())\n",
        "        # train_accuracy_meter.update(\n",
        "        #     calculate_accuracy(\n",
        "        #         prediction.detach(),\n",
        "        #         images\n",
        "        #     ).item()\n",
        "        # )\n",
        "\n",
        "    # update lr_scheduler\n",
        "    #lr_scheduler.step()\n",
        "\n",
        "    # save average train loss and accuracy\n",
        "    # history['train_loss'].append(train_loss_meter.avg)\n",
        "    # history['train_accuracy'].append(train_accuracy_meter.avg)\n",
        "\n",
        "    # lr_scheduler.get_last_lr() return list of LRs (one LR for each group)\n",
        "    #HIS['learning_rate'].append(lr_scheduler.get_last_lr()[0])\n",
        "\n",
        "    # testing loop\n",
        "    # sets the module in evaluation mode\n",
        "    deep_autoencoder.eval()\n",
        "    for test_batch in test_dataloader:\n",
        "        images = test_batch[0]\n",
        "        images = torch.tensor(images)\n",
        "        images = images.to(DEVICE)\n",
        "        #labels = labels.to(DEVICE)\n",
        "\n",
        "        # аdd `with torch.no_grad()' to avoid computing gradients of weights\n",
        "        with torch.no_grad():\n",
        "            # do everything like we did in training loop\n",
        "            logits = deep_autoencoder(images)\n",
        "            prediction = logits.argmax(dim=-1)\n",
        "            loss = criterion(logits, images)\n",
        "\n",
        "        test_loss_meter.update(loss.item())\n",
        "        # test_accuracy_meter.update(\n",
        "        #     calculate_accuracy(\n",
        "        #         prediction,\n",
        "        #         images\n",
        "        #     ).item()\n",
        "        # )\n",
        "\n",
        "    # save average test accuracy loss and accuracy\n",
        "    history['loss'].append(test_loss_meter.avg)\n",
        "    # history['test_accuracy'].append(test_accuracy_meter.avg)\n",
        "\n",
        "    # # visualize all togather\n",
        "    # display.clear_output()\n",
        "    # fig, axes = plt.subplots(1, 3, figsize=(20, 7))\n",
        "\n",
        "    # axes[0].set_title('Loss (Cross Entropy)')\n",
        "    # axes[0].plot(HISTORY['train_loss'], label='Train Loss')\n",
        "    # axes[0].plot(HISTORY['test_loss'], label='Test Loss')\n",
        "    # axes[0].grid()\n",
        "    # axes[0].legend(fontsize=20)\n",
        "\n",
        "    # axes[1].set_title('Accuracy')\n",
        "    # axes[1].plot(HISTORY['train_accuracy'], label='Train Accuracy')\n",
        "    # axes[1].plot(HISTORY['test_accuracy'], label='Test Accuracy')\n",
        "    # axes[1].grid()\n",
        "    # axes[1].legend(fontsize=20)\n",
        "\n",
        "    # axes[2].set_title('Learning Rate')\n",
        "    # axes[2].plot(HISTORY['learning_rate'])\n",
        "    # axes[2].grid()\n",
        "\n",
        "    # plt.show()\n",
        "\n"
      ],
      "execution_count": null,
      "outputs": [
        {
          "output_type": "stream",
          "text": [
            "\r  0%|          | 0/370 [00:00<?, ?it/s]/usr/local/lib/python3.7/dist-packages/torch/utils/data/dataloader.py:477: UserWarning: This DataLoader will create 4 worker processes in total. Our suggested max number of worker in current system is 2, which is smaller than what this DataLoader is going to create. Please be aware that excessive worker creation might get DataLoader running slow or even freeze, lower the worker number to avoid potential slowness/freeze if necessary.\n",
            "  cpuset_checked))\n",
            "/usr/local/lib/python3.7/dist-packages/ipykernel_launcher.py:24: UserWarning: To copy construct from a tensor, it is recommended to use sourceTensor.clone().detach() or sourceTensor.clone().detach().requires_grad_(True), rather than torch.tensor(sourceTensor).\n",
            "100%|██████████| 370/370 [00:02<00:00, 140.19it/s]\n",
            "/usr/local/lib/python3.7/dist-packages/ipykernel_launcher.py:68: UserWarning: To copy construct from a tensor, it is recommended to use sourceTensor.clone().detach() or sourceTensor.clone().detach().requires_grad_(True), rather than torch.tensor(sourceTensor).\n",
            "100%|██████████| 370/370 [00:02<00:00, 148.89it/s]\n",
            "100%|██████████| 370/370 [00:02<00:00, 150.31it/s]\n",
            "100%|██████████| 370/370 [00:02<00:00, 147.74it/s]\n",
            "100%|██████████| 370/370 [00:02<00:00, 144.47it/s]\n",
            "100%|██████████| 370/370 [00:02<00:00, 149.81it/s]\n",
            "100%|██████████| 370/370 [00:02<00:00, 147.00it/s]\n",
            "100%|██████████| 370/370 [00:02<00:00, 148.01it/s]\n",
            "100%|██████████| 370/370 [00:02<00:00, 149.56it/s]\n",
            "100%|██████████| 370/370 [00:02<00:00, 144.48it/s]\n",
            "100%|██████████| 370/370 [00:02<00:00, 144.84it/s]\n",
            "100%|██████████| 370/370 [00:02<00:00, 147.48it/s]\n",
            "100%|██████████| 370/370 [00:02<00:00, 145.69it/s]\n",
            "100%|██████████| 370/370 [00:02<00:00, 148.96it/s]\n",
            "100%|██████████| 370/370 [00:02<00:00, 148.44it/s]\n",
            "100%|██████████| 370/370 [00:02<00:00, 146.72it/s]\n",
            "100%|██████████| 370/370 [00:02<00:00, 150.84it/s]\n",
            "100%|██████████| 370/370 [00:02<00:00, 151.10it/s]\n",
            "100%|██████████| 370/370 [00:02<00:00, 146.02it/s]\n",
            "100%|██████████| 370/370 [00:02<00:00, 148.68it/s]\n",
            "100%|██████████| 370/370 [00:02<00:00, 149.26it/s]\n",
            "100%|██████████| 370/370 [00:02<00:00, 146.36it/s]\n",
            "100%|██████████| 370/370 [00:02<00:00, 150.00it/s]\n",
            "100%|██████████| 370/370 [00:02<00:00, 146.20it/s]\n",
            "100%|██████████| 370/370 [00:02<00:00, 149.51it/s]\n",
            "100%|██████████| 370/370 [00:02<00:00, 144.46it/s]\n",
            "100%|██████████| 370/370 [00:02<00:00, 149.77it/s]\n",
            "100%|██████████| 370/370 [00:02<00:00, 148.51it/s]\n",
            "100%|██████████| 370/370 [00:02<00:00, 148.93it/s]\n",
            "100%|██████████| 370/370 [00:02<00:00, 150.21it/s]\n"
          ],
          "name": "stderr"
        }
      ]
    },
    {
      "cell_type": "code",
      "metadata": {
        "id": "JmTf06i-YYXR"
      },
      "source": [
        "assert history['loss'][-1] < 0.0055, 'Loss is too high!'"
      ],
      "execution_count": null,
      "outputs": []
    },
    {
      "cell_type": "markdown",
      "metadata": {
        "id": "fA_TQ5pP6Ytu"
      },
      "source": [
        "### Evaluate model on test data\n",
        "\n",
        "Calculate loss and vizualize some images"
      ]
    },
    {
      "cell_type": "code",
      "metadata": {
        "id": "cWhvwmHYsfPj"
      },
      "source": [
        "deep_autoencoder = deep_autoencoder.cpu()"
      ],
      "execution_count": null,
      "outputs": []
    },
    {
      "cell_type": "code",
      "metadata": {
        "id": "y4Dtfncenpy9",
        "scrolled": true,
        "colab": {
          "base_uri": "https://localhost:8080/",
          "height": 201
        },
        "outputId": "15a63e96-64f8-4e17-f6ed-b8a6f8a436b6"
      },
      "source": [
        "for i in range(5):\n",
        "    image, = test_dataset[i]\n",
        "    visualize(image, deep_autoencoder)"
      ],
      "execution_count": null,
      "outputs": [
        {
          "output_type": "error",
          "ename": "NameError",
          "evalue": "ignored",
          "traceback": [
            "\u001b[0;31m---------------------------------------------------------------------------\u001b[0m",
            "\u001b[0;31mNameError\u001b[0m                                 Traceback (most recent call last)",
            "\u001b[0;32m<ipython-input-122-45ab284f1824>\u001b[0m in \u001b[0;36m<module>\u001b[0;34m()\u001b[0m\n\u001b[1;32m      1\u001b[0m \u001b[0;32mfor\u001b[0m \u001b[0mi\u001b[0m \u001b[0;32min\u001b[0m \u001b[0mrange\u001b[0m\u001b[0;34m(\u001b[0m\u001b[0;36m5\u001b[0m\u001b[0;34m)\u001b[0m\u001b[0;34m:\u001b[0m\u001b[0;34m\u001b[0m\u001b[0;34m\u001b[0m\u001b[0m\n\u001b[1;32m      2\u001b[0m     \u001b[0mimage\u001b[0m\u001b[0;34m,\u001b[0m \u001b[0;34m=\u001b[0m \u001b[0mtest_dataset\u001b[0m\u001b[0;34m[\u001b[0m\u001b[0mi\u001b[0m\u001b[0;34m]\u001b[0m\u001b[0;34m\u001b[0m\u001b[0;34m\u001b[0m\u001b[0m\n\u001b[0;32m----> 3\u001b[0;31m     \u001b[0mvisualize\u001b[0m\u001b[0;34m(\u001b[0m\u001b[0mimage\u001b[0m\u001b[0;34m,\u001b[0m \u001b[0mdeep_autoencoder\u001b[0m\u001b[0;34m)\u001b[0m\u001b[0;34m\u001b[0m\u001b[0;34m\u001b[0m\u001b[0m\n\u001b[0m",
            "\u001b[0;31mNameError\u001b[0m: name 'visualize' is not defined"
          ]
        }
      ]
    },
    {
      "cell_type": "code",
      "metadata": {
        "id": "aVN912LLnpy9"
      },
      "source": [
        "# save trained weights\n",
        "torch.save(deep_autoencoder.state_dict(), 'deep_autoencoder.pt')"
      ],
      "execution_count": null,
      "outputs": []
    },
    {
      "cell_type": "code",
      "metadata": {
        "id": "s7SR4fbFzU-d",
        "colab": {
          "base_uri": "https://localhost:8080/"
        },
        "outputId": "7e27fc67-06d5-42bd-dd49-f4d867030145"
      },
      "source": [
        "state_dict = torch.load('deep_autoencoder.pt')\n",
        "deep_autoencoder.load_state_dict(state_dict)"
      ],
      "execution_count": null,
      "outputs": [
        {
          "output_type": "execute_result",
          "data": {
            "text/plain": [
              "<All keys matched successfully>"
            ]
          },
          "metadata": {
            "tags": []
          },
          "execution_count": 124
        }
      ]
    },
    {
      "cell_type": "markdown",
      "metadata": {
        "id": "5Dcyi-ufnpy9"
      },
      "source": [
        "# Submit to Coursera"
      ]
    },
    {
      "cell_type": "code",
      "metadata": {
        "id": "yhi7XdFN4ksC"
      },
      "source": [
        "test_input = torch.randn(1, *IMG_SHAPE)\n",
        "model = DeepAutoencoder(IMG_SHAPE, 15)\n",
        "\n",
        "code = model.encode(test_input)\n",
        "recon_image = model.decode(code)"
      ],
      "execution_count": null,
      "outputs": []
    },
    {
      "cell_type": "code",
      "metadata": {
        "id": "fa45zwen4ksD"
      },
      "source": [
        "## GRADED PART, DO NOT CHANGE!\n",
        "grader.set_answer(\"FtBSK\", min(history['loss']))\n",
        "grader.set_answer(\"83Glu\", code.size(-1))\n",
        "grader.set_answer(\"fnM1K\", recon_image.shape[1:])"
      ],
      "execution_count": null,
      "outputs": []
    },
    {
      "cell_type": "code",
      "metadata": {
        "id": "nC00_44g4ksD",
        "colab": {
          "base_uri": "https://localhost:8080/"
        },
        "outputId": "3878cc8b-59d2-4256-ae18-b6a9af3e00e1"
      },
      "source": [
        "# you can make submission with answers so far to check yourself at this stage\n",
        "grader.submit(COURSERA_EMAIL, COURSERA_TOKEN)"
      ],
      "execution_count": null,
      "outputs": [
        {
          "output_type": "stream",
          "text": [
            "Submitted to Coursera platform. See results on assignment page!\n"
          ],
          "name": "stdout"
        }
      ]
    },
    {
      "cell_type": "markdown",
      "metadata": {
        "id": "3FJxDZFinpy-"
      },
      "source": [
        "# Denoising Autoencoder\n",
        "\n",
        "It shows you one useful application of autoencoders: denoising. You can run this code and make sure denoising works :)\n",
        "\n",
        "Let's now turn our model into a denoising autoencoder:\n",
        "<img src=\"https://github.com/hse-aml/intro-to-dl-pytorch/blob/main/week04/images/denoising.jpg?raw=1\" style=\"width:40%\">\n",
        "\n",
        "We'll keep the model architecture, but change the way it is trained. In particular, we'll corrupt its input data randomly with noise before each epoch.\n",
        "\n",
        "There are many strategies to introduce noise: adding gaussian white noise, occluding with random black rectangles, etc. We will add gaussian white noise."
      ]
    },
    {
      "cell_type": "code",
      "metadata": {
        "id": "kdnxRE0fnpy-"
      },
      "source": [
        "def apply_gaussian_noise(X, sigma=0.1):\n",
        "    \"\"\"\n",
        "    adds noise from standard normal distribution with standard deviation sigma\n",
        "    :param X: image tensor of shape [batch, 3, height, width]\n",
        "    Returns X + noise.\n",
        "    \"\"\"\n",
        "\n",
        "    ### YOUR CODE HERE ###"
      ],
      "execution_count": null,
      "outputs": []
    },
    {
      "cell_type": "code",
      "metadata": {
        "id": "pv765d4Enpy-"
      },
      "source": [
        "# noise tests\n",
        "theoretical_std = (X_train[:100].std() ** 2 + 0.5 ** 2) ** .5\n",
        "our_std = apply_gaussian_noise(X_train[:100], sigma=0.5).std()\n",
        "assert abs(theoretical_std - our_std) < 0.01, \\\n",
        "    \"Standard deviation does not match it's required value. Make sure you use sigma as std.\"\n",
        "assert abs(apply_gaussian_noise(X_train[:100], sigma=0.5).mean() - X_train[:100].mean()) < 0.01, \\\n",
        "    \"Mean has changed. Please add zero-mean noise\""
      ],
      "execution_count": null,
      "outputs": []
    },
    {
      "cell_type": "code",
      "metadata": {
        "id": "iylvZ72LbjdT"
      },
      "source": [
        "## GRADED PART, DO NOT CHANGE!\n",
        "grader.set_answer(\"UF05M\", abs(theoretical_std - our_std).item())"
      ],
      "execution_count": null,
      "outputs": []
    },
    {
      "cell_type": "code",
      "metadata": {
        "id": "E043X1Q9bjdT"
      },
      "source": [
        "# you can make submission with answers so far to check yourself at this stage\n",
        "grader.submit(COURSERA_EMAIL, COURSERA_TOKEN)"
      ],
      "execution_count": null,
      "outputs": []
    },
    {
      "cell_type": "code",
      "metadata": {
        "id": "LqQqJA9Knpy-"
      },
      "source": [
        "# test different noise scales\n",
        "plt.subplot(1, 4, 1)\n",
        "show_image(X_train[0])\n",
        "plt.subplot(1, 4, 2)\n",
        "show_image(apply_gaussian_noise(X_train[:1], sigma=0.01)[0])\n",
        "plt.subplot(1, 4, 3)\n",
        "show_image(apply_gaussian_noise(X_train[:1], sigma=0.1)[0])\n",
        "plt.subplot(1, 4, 4)\n",
        "show_image(apply_gaussian_noise(X_train[:1], sigma=0.5)[0])"
      ],
      "execution_count": null,
      "outputs": []
    },
    {
      "cell_type": "markdown",
      "metadata": {
        "id": "_wHf-xyKnpy_"
      },
      "source": [
        "Training will take **1 hour**."
      ]
    },
    {
      "cell_type": "code",
      "metadata": {
        "id": "U6-avK120840"
      },
      "source": [
        "NUM_EPOCH = 20\n",
        "DEVICE = torch.device('cuda')\n",
        "\n",
        "deep_denoiser_autoencoder = DeepAutoencoder((3, 32, 32), 32).to(DEVICE)\n",
        "criterion = nn.MSELoss()\n",
        "optimizer = optim.Adam(deep_denoiser_autoencoder.parameters(), lr=1e-3)"
      ],
      "execution_count": null,
      "outputs": []
    },
    {
      "cell_type": "code",
      "metadata": {
        "id": "ONlji6m41Hbu"
      },
      "source": [
        "history = defaultdict(list)\n",
        "loss_meter = AverageMeter()\n",
        "\n",
        "for _ in range(NUM_EPOCH):\n",
        "\n",
        "    loss_meter.reset()\n",
        "    for batch in train_dataloader:\n",
        "        image, = batch\n",
        "        noised_image = apply_gaussian_noise(image).to(DEVICE)\n",
        "        image = image.to(DEVICE)\n",
        "\n",
        "        recon_image = deep_denoiser_autoencoder(noised_image)\n",
        "        loss = criterion(image, recon_image)\n",
        "\n",
        "        optimizer.zero_grad()\n",
        "        loss.backward()\n",
        "        optimizer.step()\n",
        "\n",
        "        loss_meter.update(loss.item())\n",
        "\n",
        "    history['loss'].append(loss_meter.avg)\n",
        "    print(loss_meter.avg)"
      ],
      "execution_count": null,
      "outputs": []
    },
    {
      "cell_type": "code",
      "metadata": {
        "id": "b5h2eixQZ5UM"
      },
      "source": [
        "assert history['loss'][-1] < 0.0057, 'Loss is too high!'"
      ],
      "execution_count": null,
      "outputs": []
    },
    {
      "cell_type": "markdown",
      "metadata": {
        "id": "1sortCiv6wCO"
      },
      "source": [
        "### Evaluate model on test data\n",
        "\n",
        "Calculate loss and vizualize some images"
      ]
    },
    {
      "cell_type": "code",
      "metadata": {
        "id": "oKeqNrHq2ebv"
      },
      "source": [
        "deep_denoiser_autoencoder = deep_denoiser_autoencoder.cpu()"
      ],
      "execution_count": null,
      "outputs": []
    },
    {
      "cell_type": "code",
      "metadata": {
        "id": "EQF1bTIOnpy_",
        "scrolled": true
      },
      "source": [
        "for i in range(5):\n",
        "    image, = test_dataset[i]\n",
        "    noised_image = apply_gaussian_noise(image)\n",
        "    visualize(noised_image, deep_denoiser_autoencoder)"
      ],
      "execution_count": null,
      "outputs": []
    },
    {
      "cell_type": "markdown",
      "metadata": {
        "id": "Ed7iFDV6npy_"
      },
      "source": [
        "# Optional: Image retrieval with autoencoders\n",
        "\n",
        "So we've just trained a network that converts image into itself imperfectly. This task is not that useful in and of itself, but it has a number of awesome side-effects. Let's see them in action.\n",
        "\n",
        "First thing we can do is image retrieval aka image search. We will give it an image and find similar images in latent space:\n",
        "\n",
        "<img src=\"https://github.com/hse-aml/intro-to-dl-pytorch/blob/main/week04/images/similar_images.jpg?raw=1\" style=\"width:60%\">\n",
        "\n",
        "To speed up retrieval process, one should use Locality Sensitive Hashing on top of encoded vectors. This [technique](https://erikbern.com/2015/07/04/benchmark-of-approximate-nearest-neighbor-libraries.html) can narrow down the potential nearest neighbours of our image in latent space (encoder code). We will caclulate nearest neighbours in brute force way for simplicity."
      ]
    },
    {
      "cell_type": "code",
      "metadata": {
        "id": "eJLYYf2Ynpy_"
      },
      "source": [
        "# restore trained encoder weights\n",
        "\n",
        "deep_autoencoder = DeepAutoencoder((3, 32, 32), 32)\n",
        "deep_autoencoder.load_state_dict(torch.load('deep_autoencoder.pt', map_location='cpu'))\n",
        "\n",
        "for p in deep_autoencoder.parameters():\n",
        "    p.requires_grad_(False)"
      ],
      "execution_count": null,
      "outputs": []
    },
    {
      "cell_type": "code",
      "metadata": {
        "id": "H9qa84zZnpy_"
      },
      "source": [
        "images = X_train\n",
        "\n",
        "# Encode all images\n",
        "### YOUR CODE HERE ###\n",
        "\n",
        "assert len(codes) == len(images)"
      ],
      "execution_count": null,
      "outputs": []
    },
    {
      "cell_type": "code",
      "metadata": {
        "id": "YF1RPeGXnpy_"
      },
      "source": [
        "from sklearn.neighbors.unsupervised import NearestNeighbors\n",
        "nei_clf = NearestNeighbors(metric=\"euclidean\")\n",
        "nei_clf.fit(codes.detach().numpy())"
      ],
      "execution_count": null,
      "outputs": []
    },
    {
      "cell_type": "code",
      "metadata": {
        "id": "HP9DgaC6npy_"
      },
      "source": [
        "def get_similar(image, n_neighbors=5):\n",
        "    assert image.ndim == 3, \"image must be [batch, 3, height, width]\"\n",
        "\n",
        "    code = deep_autoencoder.encode(image.unsqueeze(0)).numpy()\n",
        "\n",
        "    (distances, ), (idx, ) = nei_clf.kneighbors(code, n_neighbors=n_neighbors)\n",
        "\n",
        "    return distances, images[idx]"
      ],
      "execution_count": null,
      "outputs": []
    },
    {
      "cell_type": "code",
      "metadata": {
        "id": "8xXn3ZUHnpzA"
      },
      "source": [
        "def show_similar(image):\n",
        "\n",
        "    distances, neighbors = get_similar(image, n_neighbors=3)\n",
        "\n",
        "    plt.figure(figsize=[8, 7])\n",
        "    plt.subplot(1, 4, 1)\n",
        "    show_image(image)\n",
        "    plt.title(\"Original image\")\n",
        "\n",
        "    for i in range(3):\n",
        "        plt.subplot(1, 4, i + 2)\n",
        "        show_image(neighbors[i])\n",
        "        plt.title(\"Dist=%.3f\"%distances[i])\n",
        "    plt.show()"
      ],
      "execution_count": null,
      "outputs": []
    },
    {
      "cell_type": "markdown",
      "metadata": {
        "id": "oRk4rrR-npzA"
      },
      "source": [
        "Cherry-picked examples:"
      ]
    },
    {
      "cell_type": "code",
      "metadata": {
        "id": "ll21Q5U1npzA"
      },
      "source": [
        "# smiles\n",
        "show_similar(X_test[247])"
      ],
      "execution_count": null,
      "outputs": []
    },
    {
      "cell_type": "code",
      "metadata": {
        "id": "RzR_mucUnpzA"
      },
      "source": [
        "# ethnicity\n",
        "show_similar(X_test[56])"
      ],
      "execution_count": null,
      "outputs": []
    },
    {
      "cell_type": "code",
      "metadata": {
        "id": "cHW85yPOnpzA",
        "scrolled": false
      },
      "source": [
        "# glasses\n",
        "show_similar(X_test[63])"
      ],
      "execution_count": null,
      "outputs": []
    },
    {
      "cell_type": "markdown",
      "metadata": {
        "collapsed": true,
        "id": "fkxaP_6AnpzA"
      },
      "source": [
        "# Optional: Cheap image morphing\n"
      ]
    },
    {
      "cell_type": "markdown",
      "metadata": {
        "id": "S9iYKKL6npzA"
      },
      "source": [
        "We can take linear combinations of image codes to produce new images with decoder."
      ]
    },
    {
      "cell_type": "code",
      "metadata": {
        "id": "4XzseiHsnpzA"
      },
      "source": [
        "# restore trained encoder weights\n",
        "\n",
        "deep_autoencoder = DeepAutoencoder((3, 32, 32), 32)\n",
        "deep_autoencoder.load_state_dict(torch.load('deep_autoencoder.pt', map_location='cpu'))\n",
        "\n",
        "for p in deep_autoencoder.parameters():\n",
        "    p.requires_grad_(False)"
      ],
      "execution_count": null,
      "outputs": []
    },
    {
      "cell_type": "code",
      "metadata": {
        "id": "80SH-11MnpzA"
      },
      "source": [
        "for _ in range(5):\n",
        "    image1, image2 = X_test[np.random.randint(0, len(X_test), size=2)]\n",
        "\n",
        "    code1, code2 = deep_autoencoder.encode(torch.stack([image1, image2], dim=0))\n",
        "\n",
        "    plt.figure(figsize=[14, 8])\n",
        "    for i, a in enumerate(torch.linspace(0, 1, steps=7)):\n",
        "\n",
        "        output_code = code1 * (1 - a) + code2 * a\n",
        "        output_image = deep_autoencoder.decode(output_code.unsqueeze(0)).squeeze(0)\n",
        "\n",
        "        plt.subplot(1, 7, i + 1)\n",
        "        show_image(output_image)\n",
        "        plt.title(\"a=%.2f\"%a)\n",
        "\n",
        "    plt.show()"
      ],
      "execution_count": null,
      "outputs": []
    },
    {
      "cell_type": "markdown",
      "metadata": {
        "collapsed": true,
        "id": "aniRd_HAnpzB"
      },
      "source": [
        "That's it!\n",
        "\n",
        "Of course there's a lot more you can do with autoencoders.\n",
        "\n",
        "If you want to generate images from scratch, however, we recommend you Generative Adversarial Networks or GANs."
      ]
    }
  ]
}