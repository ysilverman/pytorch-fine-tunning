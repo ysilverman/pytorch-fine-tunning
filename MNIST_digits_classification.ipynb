{
  "nbformat": 4,
  "nbformat_minor": 0,
  "metadata": {
    "colab": {
      "provenance": [],
      "toc_visible": true
    },
    "kernelspec": {
      "display_name": "Python 3",
      "language": "python",
      "name": "python3"
    },
    "language_info": {
      "codemirror_mode": {
        "name": "ipython",
        "version": 3
      },
      "file_extension": ".py",
      "mimetype": "text/x-python",
      "name": "python",
      "nbconvert_exporter": "python",
      "pygments_lexer": "ipython3",
      "version": "3.8.5"
    },
    "accelerator": "GPU",
    "widgets": {
      "application/vnd.jupyter.widget-state+json": {
        "bdc6aecb7a234ccc8f711bed739cfb5f": {
          "model_module": "@jupyter-widgets/controls",
          "model_name": "HBoxModel",
          "state": {
            "_view_name": "HBoxView",
            "_dom_classes": [],
            "_model_name": "HBoxModel",
            "_view_module": "@jupyter-widgets/controls",
            "_model_module_version": "1.5.0",
            "_view_count": null,
            "_view_module_version": "1.5.0",
            "box_style": "",
            "layout": "IPY_MODEL_ad82fe4d07a841998b06abdc81b3ad5a",
            "_model_module": "@jupyter-widgets/controls",
            "children": [
              "IPY_MODEL_26fca1e5d0e34dc3bc6fe15242fab6a3",
              "IPY_MODEL_3eca5b43f6304f67b9070abe6d4cdcfc"
            ]
          },
          "model_module_version": "1.5.0"
        },
        "ad82fe4d07a841998b06abdc81b3ad5a": {
          "model_module": "@jupyter-widgets/base",
          "model_name": "LayoutModel",
          "state": {
            "_view_name": "LayoutView",
            "grid_template_rows": null,
            "right": null,
            "justify_content": null,
            "_view_module": "@jupyter-widgets/base",
            "overflow": null,
            "_model_module_version": "1.2.0",
            "_view_count": null,
            "flex_flow": null,
            "width": null,
            "min_width": null,
            "border": null,
            "align_items": null,
            "bottom": null,
            "_model_module": "@jupyter-widgets/base",
            "top": null,
            "grid_column": null,
            "overflow_y": null,
            "overflow_x": null,
            "grid_auto_flow": null,
            "grid_area": null,
            "grid_template_columns": null,
            "flex": null,
            "_model_name": "LayoutModel",
            "justify_items": null,
            "grid_row": null,
            "max_height": null,
            "align_content": null,
            "visibility": null,
            "align_self": null,
            "height": null,
            "min_height": null,
            "padding": null,
            "grid_auto_rows": null,
            "grid_gap": null,
            "max_width": null,
            "order": null,
            "_view_module_version": "1.2.0",
            "grid_template_areas": null,
            "object_position": null,
            "object_fit": null,
            "grid_auto_columns": null,
            "margin": null,
            "display": null,
            "left": null
          },
          "model_module_version": "1.2.0"
        },
        "26fca1e5d0e34dc3bc6fe15242fab6a3": {
          "model_module": "@jupyter-widgets/controls",
          "model_name": "FloatProgressModel",
          "state": {
            "_view_name": "ProgressView",
            "style": "IPY_MODEL_96ba2adfc2884073aa2e32d0b770b0e5",
            "_dom_classes": [],
            "description": "",
            "_model_name": "FloatProgressModel",
            "bar_style": "success",
            "max": 9912422,
            "_view_module": "@jupyter-widgets/controls",
            "_model_module_version": "1.5.0",
            "value": 9912422,
            "_view_count": null,
            "_view_module_version": "1.5.0",
            "orientation": "horizontal",
            "min": 0,
            "description_tooltip": null,
            "_model_module": "@jupyter-widgets/controls",
            "layout": "IPY_MODEL_e6fd3871d98c4e86bc9dc201a75a80cb"
          },
          "model_module_version": "1.5.0"
        },
        "3eca5b43f6304f67b9070abe6d4cdcfc": {
          "model_module": "@jupyter-widgets/controls",
          "model_name": "HTMLModel",
          "state": {
            "_view_name": "HTMLView",
            "style": "IPY_MODEL_664724d02c4f48e699f537a2fab2f5e0",
            "_dom_classes": [],
            "description": "",
            "_model_name": "HTMLModel",
            "placeholder": "​",
            "_view_module": "@jupyter-widgets/controls",
            "_model_module_version": "1.5.0",
            "value": " 9913344/? [05:03&lt;00:00, 32667.22it/s]",
            "_view_count": null,
            "_view_module_version": "1.5.0",
            "description_tooltip": null,
            "_model_module": "@jupyter-widgets/controls",
            "layout": "IPY_MODEL_b2dcc09e51d7451899f3c69ae43b28e4"
          },
          "model_module_version": "1.5.0"
        },
        "96ba2adfc2884073aa2e32d0b770b0e5": {
          "model_module": "@jupyter-widgets/controls",
          "model_name": "ProgressStyleModel",
          "state": {
            "_view_name": "StyleView",
            "_model_name": "ProgressStyleModel",
            "description_width": "initial",
            "_view_module": "@jupyter-widgets/base",
            "_model_module_version": "1.5.0",
            "_view_count": null,
            "_view_module_version": "1.2.0",
            "bar_color": null,
            "_model_module": "@jupyter-widgets/controls"
          },
          "model_module_version": "1.5.0"
        },
        "e6fd3871d98c4e86bc9dc201a75a80cb": {
          "model_module": "@jupyter-widgets/base",
          "model_name": "LayoutModel",
          "state": {
            "_view_name": "LayoutView",
            "grid_template_rows": null,
            "right": null,
            "justify_content": null,
            "_view_module": "@jupyter-widgets/base",
            "overflow": null,
            "_model_module_version": "1.2.0",
            "_view_count": null,
            "flex_flow": null,
            "width": null,
            "min_width": null,
            "border": null,
            "align_items": null,
            "bottom": null,
            "_model_module": "@jupyter-widgets/base",
            "top": null,
            "grid_column": null,
            "overflow_y": null,
            "overflow_x": null,
            "grid_auto_flow": null,
            "grid_area": null,
            "grid_template_columns": null,
            "flex": null,
            "_model_name": "LayoutModel",
            "justify_items": null,
            "grid_row": null,
            "max_height": null,
            "align_content": null,
            "visibility": null,
            "align_self": null,
            "height": null,
            "min_height": null,
            "padding": null,
            "grid_auto_rows": null,
            "grid_gap": null,
            "max_width": null,
            "order": null,
            "_view_module_version": "1.2.0",
            "grid_template_areas": null,
            "object_position": null,
            "object_fit": null,
            "grid_auto_columns": null,
            "margin": null,
            "display": null,
            "left": null
          },
          "model_module_version": "1.2.0"
        },
        "664724d02c4f48e699f537a2fab2f5e0": {
          "model_module": "@jupyter-widgets/controls",
          "model_name": "DescriptionStyleModel",
          "state": {
            "_view_name": "StyleView",
            "_model_name": "DescriptionStyleModel",
            "description_width": "",
            "_view_module": "@jupyter-widgets/base",
            "_model_module_version": "1.5.0",
            "_view_count": null,
            "_view_module_version": "1.2.0",
            "_model_module": "@jupyter-widgets/controls"
          },
          "model_module_version": "1.5.0"
        },
        "b2dcc09e51d7451899f3c69ae43b28e4": {
          "model_module": "@jupyter-widgets/base",
          "model_name": "LayoutModel",
          "state": {
            "_view_name": "LayoutView",
            "grid_template_rows": null,
            "right": null,
            "justify_content": null,
            "_view_module": "@jupyter-widgets/base",
            "overflow": null,
            "_model_module_version": "1.2.0",
            "_view_count": null,
            "flex_flow": null,
            "width": null,
            "min_width": null,
            "border": null,
            "align_items": null,
            "bottom": null,
            "_model_module": "@jupyter-widgets/base",
            "top": null,
            "grid_column": null,
            "overflow_y": null,
            "overflow_x": null,
            "grid_auto_flow": null,
            "grid_area": null,
            "grid_template_columns": null,
            "flex": null,
            "_model_name": "LayoutModel",
            "justify_items": null,
            "grid_row": null,
            "max_height": null,
            "align_content": null,
            "visibility": null,
            "align_self": null,
            "height": null,
            "min_height": null,
            "padding": null,
            "grid_auto_rows": null,
            "grid_gap": null,
            "max_width": null,
            "order": null,
            "_view_module_version": "1.2.0",
            "grid_template_areas": null,
            "object_position": null,
            "object_fit": null,
            "grid_auto_columns": null,
            "margin": null,
            "display": null,
            "left": null
          },
          "model_module_version": "1.2.0"
        },
        "df9b1dd709f34477a65bf7e94890e5d1": {
          "model_module": "@jupyter-widgets/controls",
          "model_name": "HBoxModel",
          "state": {
            "_view_name": "HBoxView",
            "_dom_classes": [],
            "_model_name": "HBoxModel",
            "_view_module": "@jupyter-widgets/controls",
            "_model_module_version": "1.5.0",
            "_view_count": null,
            "_view_module_version": "1.5.0",
            "box_style": "",
            "layout": "IPY_MODEL_7d1ce1e0af7f431abe25bb55d90660b6",
            "_model_module": "@jupyter-widgets/controls",
            "children": [
              "IPY_MODEL_f4e51fbcf779498db7ff45805a18579a",
              "IPY_MODEL_87fdc59c54264b9b9d98ba63d3b07dd4"
            ]
          },
          "model_module_version": "1.5.0"
        },
        "7d1ce1e0af7f431abe25bb55d90660b6": {
          "model_module": "@jupyter-widgets/base",
          "model_name": "LayoutModel",
          "state": {
            "_view_name": "LayoutView",
            "grid_template_rows": null,
            "right": null,
            "justify_content": null,
            "_view_module": "@jupyter-widgets/base",
            "overflow": null,
            "_model_module_version": "1.2.0",
            "_view_count": null,
            "flex_flow": null,
            "width": null,
            "min_width": null,
            "border": null,
            "align_items": null,
            "bottom": null,
            "_model_module": "@jupyter-widgets/base",
            "top": null,
            "grid_column": null,
            "overflow_y": null,
            "overflow_x": null,
            "grid_auto_flow": null,
            "grid_area": null,
            "grid_template_columns": null,
            "flex": null,
            "_model_name": "LayoutModel",
            "justify_items": null,
            "grid_row": null,
            "max_height": null,
            "align_content": null,
            "visibility": null,
            "align_self": null,
            "height": null,
            "min_height": null,
            "padding": null,
            "grid_auto_rows": null,
            "grid_gap": null,
            "max_width": null,
            "order": null,
            "_view_module_version": "1.2.0",
            "grid_template_areas": null,
            "object_position": null,
            "object_fit": null,
            "grid_auto_columns": null,
            "margin": null,
            "display": null,
            "left": null
          },
          "model_module_version": "1.2.0"
        },
        "f4e51fbcf779498db7ff45805a18579a": {
          "model_module": "@jupyter-widgets/controls",
          "model_name": "FloatProgressModel",
          "state": {
            "_view_name": "ProgressView",
            "style": "IPY_MODEL_5ded87bfde47492785e2910029f6cd26",
            "_dom_classes": [],
            "description": "",
            "_model_name": "FloatProgressModel",
            "bar_style": "success",
            "max": 28881,
            "_view_module": "@jupyter-widgets/controls",
            "_model_module_version": "1.5.0",
            "value": 28881,
            "_view_count": null,
            "_view_module_version": "1.5.0",
            "orientation": "horizontal",
            "min": 0,
            "description_tooltip": null,
            "_model_module": "@jupyter-widgets/controls",
            "layout": "IPY_MODEL_eec7fa88ceaa4e1b8c8c763921b40e32"
          },
          "model_module_version": "1.5.0"
        },
        "87fdc59c54264b9b9d98ba63d3b07dd4": {
          "model_module": "@jupyter-widgets/controls",
          "model_name": "HTMLModel",
          "state": {
            "_view_name": "HTMLView",
            "style": "IPY_MODEL_c9a204c7edfa4e80968e769e815b0184",
            "_dom_classes": [],
            "description": "",
            "_model_name": "HTMLModel",
            "placeholder": "​",
            "_view_module": "@jupyter-widgets/controls",
            "_model_module_version": "1.5.0",
            "value": " 29696/? [01:52&lt;00:00, 263.37it/s]",
            "_view_count": null,
            "_view_module_version": "1.5.0",
            "description_tooltip": null,
            "_model_module": "@jupyter-widgets/controls",
            "layout": "IPY_MODEL_54437de85de94d61af997bc7d0422e07"
          },
          "model_module_version": "1.5.0"
        },
        "5ded87bfde47492785e2910029f6cd26": {
          "model_module": "@jupyter-widgets/controls",
          "model_name": "ProgressStyleModel",
          "state": {
            "_view_name": "StyleView",
            "_model_name": "ProgressStyleModel",
            "description_width": "initial",
            "_view_module": "@jupyter-widgets/base",
            "_model_module_version": "1.5.0",
            "_view_count": null,
            "_view_module_version": "1.2.0",
            "bar_color": null,
            "_model_module": "@jupyter-widgets/controls"
          },
          "model_module_version": "1.5.0"
        },
        "eec7fa88ceaa4e1b8c8c763921b40e32": {
          "model_module": "@jupyter-widgets/base",
          "model_name": "LayoutModel",
          "state": {
            "_view_name": "LayoutView",
            "grid_template_rows": null,
            "right": null,
            "justify_content": null,
            "_view_module": "@jupyter-widgets/base",
            "overflow": null,
            "_model_module_version": "1.2.0",
            "_view_count": null,
            "flex_flow": null,
            "width": null,
            "min_width": null,
            "border": null,
            "align_items": null,
            "bottom": null,
            "_model_module": "@jupyter-widgets/base",
            "top": null,
            "grid_column": null,
            "overflow_y": null,
            "overflow_x": null,
            "grid_auto_flow": null,
            "grid_area": null,
            "grid_template_columns": null,
            "flex": null,
            "_model_name": "LayoutModel",
            "justify_items": null,
            "grid_row": null,
            "max_height": null,
            "align_content": null,
            "visibility": null,
            "align_self": null,
            "height": null,
            "min_height": null,
            "padding": null,
            "grid_auto_rows": null,
            "grid_gap": null,
            "max_width": null,
            "order": null,
            "_view_module_version": "1.2.0",
            "grid_template_areas": null,
            "object_position": null,
            "object_fit": null,
            "grid_auto_columns": null,
            "margin": null,
            "display": null,
            "left": null
          },
          "model_module_version": "1.2.0"
        },
        "c9a204c7edfa4e80968e769e815b0184": {
          "model_module": "@jupyter-widgets/controls",
          "model_name": "DescriptionStyleModel",
          "state": {
            "_view_name": "StyleView",
            "_model_name": "DescriptionStyleModel",
            "description_width": "",
            "_view_module": "@jupyter-widgets/base",
            "_model_module_version": "1.5.0",
            "_view_count": null,
            "_view_module_version": "1.2.0",
            "_model_module": "@jupyter-widgets/controls"
          },
          "model_module_version": "1.5.0"
        },
        "54437de85de94d61af997bc7d0422e07": {
          "model_module": "@jupyter-widgets/base",
          "model_name": "LayoutModel",
          "state": {
            "_view_name": "LayoutView",
            "grid_template_rows": null,
            "right": null,
            "justify_content": null,
            "_view_module": "@jupyter-widgets/base",
            "overflow": null,
            "_model_module_version": "1.2.0",
            "_view_count": null,
            "flex_flow": null,
            "width": null,
            "min_width": null,
            "border": null,
            "align_items": null,
            "bottom": null,
            "_model_module": "@jupyter-widgets/base",
            "top": null,
            "grid_column": null,
            "overflow_y": null,
            "overflow_x": null,
            "grid_auto_flow": null,
            "grid_area": null,
            "grid_template_columns": null,
            "flex": null,
            "_model_name": "LayoutModel",
            "justify_items": null,
            "grid_row": null,
            "max_height": null,
            "align_content": null,
            "visibility": null,
            "align_self": null,
            "height": null,
            "min_height": null,
            "padding": null,
            "grid_auto_rows": null,
            "grid_gap": null,
            "max_width": null,
            "order": null,
            "_view_module_version": "1.2.0",
            "grid_template_areas": null,
            "object_position": null,
            "object_fit": null,
            "grid_auto_columns": null,
            "margin": null,
            "display": null,
            "left": null
          },
          "model_module_version": "1.2.0"
        },
        "b28e5e7ebe0f460f9581db226e2b8238": {
          "model_module": "@jupyter-widgets/controls",
          "model_name": "HBoxModel",
          "state": {
            "_view_name": "HBoxView",
            "_dom_classes": [],
            "_model_name": "HBoxModel",
            "_view_module": "@jupyter-widgets/controls",
            "_model_module_version": "1.5.0",
            "_view_count": null,
            "_view_module_version": "1.5.0",
            "box_style": "",
            "layout": "IPY_MODEL_b47e835c1ae347e3ba4aea9393c9c464",
            "_model_module": "@jupyter-widgets/controls",
            "children": [
              "IPY_MODEL_55296151f805475dbeeb05681bd5f8f4",
              "IPY_MODEL_1fbb7e6774b9442d98a58d9c345be450"
            ]
          },
          "model_module_version": "1.5.0"
        },
        "b47e835c1ae347e3ba4aea9393c9c464": {
          "model_module": "@jupyter-widgets/base",
          "model_name": "LayoutModel",
          "state": {
            "_view_name": "LayoutView",
            "grid_template_rows": null,
            "right": null,
            "justify_content": null,
            "_view_module": "@jupyter-widgets/base",
            "overflow": null,
            "_model_module_version": "1.2.0",
            "_view_count": null,
            "flex_flow": null,
            "width": null,
            "min_width": null,
            "border": null,
            "align_items": null,
            "bottom": null,
            "_model_module": "@jupyter-widgets/base",
            "top": null,
            "grid_column": null,
            "overflow_y": null,
            "overflow_x": null,
            "grid_auto_flow": null,
            "grid_area": null,
            "grid_template_columns": null,
            "flex": null,
            "_model_name": "LayoutModel",
            "justify_items": null,
            "grid_row": null,
            "max_height": null,
            "align_content": null,
            "visibility": null,
            "align_self": null,
            "height": null,
            "min_height": null,
            "padding": null,
            "grid_auto_rows": null,
            "grid_gap": null,
            "max_width": null,
            "order": null,
            "_view_module_version": "1.2.0",
            "grid_template_areas": null,
            "object_position": null,
            "object_fit": null,
            "grid_auto_columns": null,
            "margin": null,
            "display": null,
            "left": null
          },
          "model_module_version": "1.2.0"
        },
        "55296151f805475dbeeb05681bd5f8f4": {
          "model_module": "@jupyter-widgets/controls",
          "model_name": "FloatProgressModel",
          "state": {
            "_view_name": "ProgressView",
            "style": "IPY_MODEL_3428ea8130af4aa4bc65e0637e01d911",
            "_dom_classes": [],
            "description": "",
            "_model_name": "FloatProgressModel",
            "bar_style": "success",
            "max": 1648877,
            "_view_module": "@jupyter-widgets/controls",
            "_model_module_version": "1.5.0",
            "value": 1648877,
            "_view_count": null,
            "_view_module_version": "1.5.0",
            "orientation": "horizontal",
            "min": 0,
            "description_tooltip": null,
            "_model_module": "@jupyter-widgets/controls",
            "layout": "IPY_MODEL_bdc18d50ab424bb3b30b9f739921f01b"
          },
          "model_module_version": "1.5.0"
        },
        "1fbb7e6774b9442d98a58d9c345be450": {
          "model_module": "@jupyter-widgets/controls",
          "model_name": "HTMLModel",
          "state": {
            "_view_name": "HTMLView",
            "style": "IPY_MODEL_b2704a7a37a148989f0e136bbe1d114d",
            "_dom_classes": [],
            "description": "",
            "_model_name": "HTMLModel",
            "placeholder": "​",
            "_view_module": "@jupyter-widgets/controls",
            "_model_module_version": "1.5.0",
            "value": " 1649664/? [00:50&lt;00:00, 32782.75it/s]",
            "_view_count": null,
            "_view_module_version": "1.5.0",
            "description_tooltip": null,
            "_model_module": "@jupyter-widgets/controls",
            "layout": "IPY_MODEL_d291c852a26e4d2a8bc2a774bb8cba08"
          },
          "model_module_version": "1.5.0"
        },
        "3428ea8130af4aa4bc65e0637e01d911": {
          "model_module": "@jupyter-widgets/controls",
          "model_name": "ProgressStyleModel",
          "state": {
            "_view_name": "StyleView",
            "_model_name": "ProgressStyleModel",
            "description_width": "initial",
            "_view_module": "@jupyter-widgets/base",
            "_model_module_version": "1.5.0",
            "_view_count": null,
            "_view_module_version": "1.2.0",
            "bar_color": null,
            "_model_module": "@jupyter-widgets/controls"
          },
          "model_module_version": "1.5.0"
        },
        "bdc18d50ab424bb3b30b9f739921f01b": {
          "model_module": "@jupyter-widgets/base",
          "model_name": "LayoutModel",
          "state": {
            "_view_name": "LayoutView",
            "grid_template_rows": null,
            "right": null,
            "justify_content": null,
            "_view_module": "@jupyter-widgets/base",
            "overflow": null,
            "_model_module_version": "1.2.0",
            "_view_count": null,
            "flex_flow": null,
            "width": null,
            "min_width": null,
            "border": null,
            "align_items": null,
            "bottom": null,
            "_model_module": "@jupyter-widgets/base",
            "top": null,
            "grid_column": null,
            "overflow_y": null,
            "overflow_x": null,
            "grid_auto_flow": null,
            "grid_area": null,
            "grid_template_columns": null,
            "flex": null,
            "_model_name": "LayoutModel",
            "justify_items": null,
            "grid_row": null,
            "max_height": null,
            "align_content": null,
            "visibility": null,
            "align_self": null,
            "height": null,
            "min_height": null,
            "padding": null,
            "grid_auto_rows": null,
            "grid_gap": null,
            "max_width": null,
            "order": null,
            "_view_module_version": "1.2.0",
            "grid_template_areas": null,
            "object_position": null,
            "object_fit": null,
            "grid_auto_columns": null,
            "margin": null,
            "display": null,
            "left": null
          },
          "model_module_version": "1.2.0"
        },
        "b2704a7a37a148989f0e136bbe1d114d": {
          "model_module": "@jupyter-widgets/controls",
          "model_name": "DescriptionStyleModel",
          "state": {
            "_view_name": "StyleView",
            "_model_name": "DescriptionStyleModel",
            "description_width": "",
            "_view_module": "@jupyter-widgets/base",
            "_model_module_version": "1.5.0",
            "_view_count": null,
            "_view_module_version": "1.2.0",
            "_model_module": "@jupyter-widgets/controls"
          },
          "model_module_version": "1.5.0"
        },
        "d291c852a26e4d2a8bc2a774bb8cba08": {
          "model_module": "@jupyter-widgets/base",
          "model_name": "LayoutModel",
          "state": {
            "_view_name": "LayoutView",
            "grid_template_rows": null,
            "right": null,
            "justify_content": null,
            "_view_module": "@jupyter-widgets/base",
            "overflow": null,
            "_model_module_version": "1.2.0",
            "_view_count": null,
            "flex_flow": null,
            "width": null,
            "min_width": null,
            "border": null,
            "align_items": null,
            "bottom": null,
            "_model_module": "@jupyter-widgets/base",
            "top": null,
            "grid_column": null,
            "overflow_y": null,
            "overflow_x": null,
            "grid_auto_flow": null,
            "grid_area": null,
            "grid_template_columns": null,
            "flex": null,
            "_model_name": "LayoutModel",
            "justify_items": null,
            "grid_row": null,
            "max_height": null,
            "align_content": null,
            "visibility": null,
            "align_self": null,
            "height": null,
            "min_height": null,
            "padding": null,
            "grid_auto_rows": null,
            "grid_gap": null,
            "max_width": null,
            "order": null,
            "_view_module_version": "1.2.0",
            "grid_template_areas": null,
            "object_position": null,
            "object_fit": null,
            "grid_auto_columns": null,
            "margin": null,
            "display": null,
            "left": null
          },
          "model_module_version": "1.2.0"
        },
        "5a47b24b19054af6a2f270a94bf61049": {
          "model_module": "@jupyter-widgets/controls",
          "model_name": "HBoxModel",
          "state": {
            "_view_name": "HBoxView",
            "_dom_classes": [],
            "_model_name": "HBoxModel",
            "_view_module": "@jupyter-widgets/controls",
            "_model_module_version": "1.5.0",
            "_view_count": null,
            "_view_module_version": "1.5.0",
            "box_style": "",
            "layout": "IPY_MODEL_1556b9f1a22b42d888cd352e56c0356d",
            "_model_module": "@jupyter-widgets/controls",
            "children": [
              "IPY_MODEL_3b7dbffe3b9b4d4db78102da492fcf1e",
              "IPY_MODEL_9268afbcdf5041e498a06ec5c6877c09"
            ]
          },
          "model_module_version": "1.5.0"
        },
        "1556b9f1a22b42d888cd352e56c0356d": {
          "model_module": "@jupyter-widgets/base",
          "model_name": "LayoutModel",
          "state": {
            "_view_name": "LayoutView",
            "grid_template_rows": null,
            "right": null,
            "justify_content": null,
            "_view_module": "@jupyter-widgets/base",
            "overflow": null,
            "_model_module_version": "1.2.0",
            "_view_count": null,
            "flex_flow": null,
            "width": null,
            "min_width": null,
            "border": null,
            "align_items": null,
            "bottom": null,
            "_model_module": "@jupyter-widgets/base",
            "top": null,
            "grid_column": null,
            "overflow_y": null,
            "overflow_x": null,
            "grid_auto_flow": null,
            "grid_area": null,
            "grid_template_columns": null,
            "flex": null,
            "_model_name": "LayoutModel",
            "justify_items": null,
            "grid_row": null,
            "max_height": null,
            "align_content": null,
            "visibility": null,
            "align_self": null,
            "height": null,
            "min_height": null,
            "padding": null,
            "grid_auto_rows": null,
            "grid_gap": null,
            "max_width": null,
            "order": null,
            "_view_module_version": "1.2.0",
            "grid_template_areas": null,
            "object_position": null,
            "object_fit": null,
            "grid_auto_columns": null,
            "margin": null,
            "display": null,
            "left": null
          },
          "model_module_version": "1.2.0"
        },
        "3b7dbffe3b9b4d4db78102da492fcf1e": {
          "model_module": "@jupyter-widgets/controls",
          "model_name": "FloatProgressModel",
          "state": {
            "_view_name": "ProgressView",
            "style": "IPY_MODEL_525ca2d95ccd42298ba276e364be55b8",
            "_dom_classes": [],
            "description": "",
            "_model_name": "FloatProgressModel",
            "bar_style": "success",
            "max": 4542,
            "_view_module": "@jupyter-widgets/controls",
            "_model_module_version": "1.5.0",
            "value": 4542,
            "_view_count": null,
            "_view_module_version": "1.5.0",
            "orientation": "horizontal",
            "min": 0,
            "description_tooltip": null,
            "_model_module": "@jupyter-widgets/controls",
            "layout": "IPY_MODEL_9af6728b88f949f6ad93bf139ecab1f6"
          },
          "model_module_version": "1.5.0"
        },
        "9268afbcdf5041e498a06ec5c6877c09": {
          "model_module": "@jupyter-widgets/controls",
          "model_name": "HTMLModel",
          "state": {
            "_view_name": "HTMLView",
            "style": "IPY_MODEL_b39003cffbf5454c81be14e4d686ed7a",
            "_dom_classes": [],
            "description": "",
            "_model_name": "HTMLModel",
            "placeholder": "​",
            "_view_module": "@jupyter-widgets/controls",
            "_model_module_version": "1.5.0",
            "value": " 5120/? [00:00&lt;00:00, 25210.27it/s]",
            "_view_count": null,
            "_view_module_version": "1.5.0",
            "description_tooltip": null,
            "_model_module": "@jupyter-widgets/controls",
            "layout": "IPY_MODEL_973d2e927fc344e3a3ba2adee8ee590a"
          },
          "model_module_version": "1.5.0"
        },
        "525ca2d95ccd42298ba276e364be55b8": {
          "model_module": "@jupyter-widgets/controls",
          "model_name": "ProgressStyleModel",
          "state": {
            "_view_name": "StyleView",
            "_model_name": "ProgressStyleModel",
            "description_width": "initial",
            "_view_module": "@jupyter-widgets/base",
            "_model_module_version": "1.5.0",
            "_view_count": null,
            "_view_module_version": "1.2.0",
            "bar_color": null,
            "_model_module": "@jupyter-widgets/controls"
          },
          "model_module_version": "1.5.0"
        },
        "9af6728b88f949f6ad93bf139ecab1f6": {
          "model_module": "@jupyter-widgets/base",
          "model_name": "LayoutModel",
          "state": {
            "_view_name": "LayoutView",
            "grid_template_rows": null,
            "right": null,
            "justify_content": null,
            "_view_module": "@jupyter-widgets/base",
            "overflow": null,
            "_model_module_version": "1.2.0",
            "_view_count": null,
            "flex_flow": null,
            "width": null,
            "min_width": null,
            "border": null,
            "align_items": null,
            "bottom": null,
            "_model_module": "@jupyter-widgets/base",
            "top": null,
            "grid_column": null,
            "overflow_y": null,
            "overflow_x": null,
            "grid_auto_flow": null,
            "grid_area": null,
            "grid_template_columns": null,
            "flex": null,
            "_model_name": "LayoutModel",
            "justify_items": null,
            "grid_row": null,
            "max_height": null,
            "align_content": null,
            "visibility": null,
            "align_self": null,
            "height": null,
            "min_height": null,
            "padding": null,
            "grid_auto_rows": null,
            "grid_gap": null,
            "max_width": null,
            "order": null,
            "_view_module_version": "1.2.0",
            "grid_template_areas": null,
            "object_position": null,
            "object_fit": null,
            "grid_auto_columns": null,
            "margin": null,
            "display": null,
            "left": null
          },
          "model_module_version": "1.2.0"
        },
        "b39003cffbf5454c81be14e4d686ed7a": {
          "model_module": "@jupyter-widgets/controls",
          "model_name": "DescriptionStyleModel",
          "state": {
            "_view_name": "StyleView",
            "_model_name": "DescriptionStyleModel",
            "description_width": "",
            "_view_module": "@jupyter-widgets/base",
            "_model_module_version": "1.5.0",
            "_view_count": null,
            "_view_module_version": "1.2.0",
            "_model_module": "@jupyter-widgets/controls"
          },
          "model_module_version": "1.5.0"
        },
        "973d2e927fc344e3a3ba2adee8ee590a": {
          "model_module": "@jupyter-widgets/base",
          "model_name": "LayoutModel",
          "state": {
            "_view_name": "LayoutView",
            "grid_template_rows": null,
            "right": null,
            "justify_content": null,
            "_view_module": "@jupyter-widgets/base",
            "overflow": null,
            "_model_module_version": "1.2.0",
            "_view_count": null,
            "flex_flow": null,
            "width": null,
            "min_width": null,
            "border": null,
            "align_items": null,
            "bottom": null,
            "_model_module": "@jupyter-widgets/base",
            "top": null,
            "grid_column": null,
            "overflow_y": null,
            "overflow_x": null,
            "grid_auto_flow": null,
            "grid_area": null,
            "grid_template_columns": null,
            "flex": null,
            "_model_name": "LayoutModel",
            "justify_items": null,
            "grid_row": null,
            "max_height": null,
            "align_content": null,
            "visibility": null,
            "align_self": null,
            "height": null,
            "min_height": null,
            "padding": null,
            "grid_auto_rows": null,
            "grid_gap": null,
            "max_width": null,
            "order": null,
            "_view_module_version": "1.2.0",
            "grid_template_areas": null,
            "object_position": null,
            "object_fit": null,
            "grid_auto_columns": null,
            "margin": null,
            "display": null,
            "left": null
          },
          "model_module_version": "1.2.0"
        }
      }
    }
  },
  "cells": [
    {
      "cell_type": "markdown",
      "metadata": {
        "id": "iz75Onm1BmVZ"
      },
      "source": [
        "# MNIST digits classification with PyTorch\n",
        "\n",
        "In this programming assignment you will implement your first neural network and train it to classify handwritten digits."
      ]
    },
    {
      "cell_type": "code",
      "metadata": {
        "id": "CR5ons9CxI26",
        "colab": {
          "base_uri": "https://localhost:8080/"
        },
        "outputId": "a307e412-1a8d-48aa-a201-2aadf4d3a7c8"
      },
      "source": [
        "%%bash\n",
        "\n",
        "shred -u setup_colab.py\n",
        "\n",
        "wget https://raw.githubusercontent.com/hse-aml/intro-to-dl-pytorch/main/utils/setup_colab.py -O setup_colab.py"
      ],
      "execution_count": null,
      "outputs": [
        {
          "output_type": "stream",
          "text": [
            "shred: setup_colab.py: failed to open for writing: No such file or directory\n",
            "--2021-03-14 11:06:55--  https://raw.githubusercontent.com/hse-aml/intro-to-dl-pytorch/main/utils/setup_colab.py\n",
            "Resolving raw.githubusercontent.com (raw.githubusercontent.com)... 185.199.108.133, 185.199.109.133, 185.199.110.133, ...\n",
            "Connecting to raw.githubusercontent.com (raw.githubusercontent.com)|185.199.108.133|:443... connected.\n",
            "HTTP request sent, awaiting response... 200 OK\n",
            "Length: 1649 (1.6K) [text/plain]\n",
            "Saving to: ‘setup_colab.py’\n",
            "\n",
            "     0K .                                                     100% 13.4M=0s\n",
            "\n",
            "2021-03-14 11:06:55 (13.4 MB/s) - ‘setup_colab.py’ saved [1649/1649]\n",
            "\n"
          ],
          "name": "stderr"
        }
      ]
    },
    {
      "cell_type": "code",
      "metadata": {
        "id": "BzrfY5t_xI27"
      },
      "source": [
        "import setup_colab\n",
        "\n",
        "setup_colab.setup_week02()"
      ],
      "execution_count": null,
      "outputs": []
    },
    {
      "cell_type": "code",
      "metadata": {
        "id": "M75gw2yqBmVl"
      },
      "source": [
        "import numpy as np\n",
        "\n",
        "%matplotlib inline\n",
        "import matplotlib.pyplot as plt\n",
        "\n",
        "import tqdm\n",
        "import itertools\n",
        "import collections\n",
        "from IPython import display\n",
        "\n",
        "import torch\n",
        "from torch import nn\n",
        "from torch import optim\n",
        "from torch.utils.data import DataLoader\n",
        "\n",
        "from torchvision.datasets import MNIST\n",
        "from torchvision.transforms import ToTensor\n",
        "from torchvision.utils import make_grid"
      ],
      "execution_count": null,
      "outputs": []
    },
    {
      "cell_type": "code",
      "metadata": {
        "id": "OjtpMRyiHdbt"
      },
      "source": [
        "#auxiliary stuff\n",
        "class AverageMeter:\n",
        "\n",
        "    def __init__(self):\n",
        "        self.reset()\n",
        "\n",
        "    def reset(self):\n",
        "        self.val = 0\n",
        "        self.avg = 0\n",
        "        self.sum = 0\n",
        "        self.count = 0\n",
        "\n",
        "    def update(self, val, n=1):\n",
        "        self.val = val\n",
        "        self.sum += val * n\n",
        "        self.count += n\n",
        "        self.avg = self.sum / self.count"
      ],
      "execution_count": null,
      "outputs": []
    },
    {
      "cell_type": "markdown",
      "metadata": {
        "id": "LFrkxLQRBmVm"
      },
      "source": [
        "### Fill in your Coursera token and email\n",
        "To successfully submit your answers to our grader, please fill in your Coursera submission token and email."
      ]
    },
    {
      "cell_type": "code",
      "metadata": {
        "id": "Yobu6DjTBmVn"
      },
      "source": [
        "import grading\n",
        "\n",
        "grader = grading.Grader(\n",
        "    assignment_key=\"jNcGh-dHRvuN45xP616Dyw\",\n",
        "    all_parts=[\"zGwHg\", \"5Ww9B\"]\n",
        ")"
      ],
      "execution_count": null,
      "outputs": []
    },
    {
      "cell_type": "code",
      "metadata": {
        "id": "I9Q5SMbUBmVn"
      },
      "source": [
        "# token expires every 30 min\n",
        "COURSERA_TOKEN = \"kW4pbhQ9KQykws2C\"\n",
        "COURSERA_EMAIL = \"y.zvorykina@gmail.com\""
      ],
      "execution_count": null,
      "outputs": []
    },
    {
      "cell_type": "markdown",
      "metadata": {
        "id": "SRIiXmfFBmVn"
      },
      "source": [
        "## MNIST dataset\n",
        "\n",
        "In this task we will work with MNIST dataset which contains 60000 28x28 images of handwritten digits from 0 to 9.\n",
        "\n",
        "For the data processing we'll use `torchvision` library. It is very simple and easy to use library for computer vision & deep learning. For a deep dive into the library you can check out the githab page: https://github.com/pytorch/vision\n",
        "\n",
        "Firstly, we set up datasets and dataloaders:"
      ]
    },
    {
      "cell_type": "code",
      "metadata": {
        "id": "q-7Ut2_iBmVo",
        "colab": {
          "base_uri": "https://localhost:8080/",
          "height": 443,
          "referenced_widgets": [
            "bdc6aecb7a234ccc8f711bed739cfb5f",
            "ad82fe4d07a841998b06abdc81b3ad5a",
            "26fca1e5d0e34dc3bc6fe15242fab6a3",
            "3eca5b43f6304f67b9070abe6d4cdcfc",
            "96ba2adfc2884073aa2e32d0b770b0e5",
            "e6fd3871d98c4e86bc9dc201a75a80cb",
            "664724d02c4f48e699f537a2fab2f5e0",
            "b2dcc09e51d7451899f3c69ae43b28e4",
            "df9b1dd709f34477a65bf7e94890e5d1",
            "7d1ce1e0af7f431abe25bb55d90660b6",
            "f4e51fbcf779498db7ff45805a18579a",
            "87fdc59c54264b9b9d98ba63d3b07dd4",
            "5ded87bfde47492785e2910029f6cd26",
            "eec7fa88ceaa4e1b8c8c763921b40e32",
            "c9a204c7edfa4e80968e769e815b0184",
            "54437de85de94d61af997bc7d0422e07",
            "b28e5e7ebe0f460f9581db226e2b8238",
            "b47e835c1ae347e3ba4aea9393c9c464",
            "55296151f805475dbeeb05681bd5f8f4",
            "1fbb7e6774b9442d98a58d9c345be450",
            "3428ea8130af4aa4bc65e0637e01d911",
            "bdc18d50ab424bb3b30b9f739921f01b",
            "b2704a7a37a148989f0e136bbe1d114d",
            "d291c852a26e4d2a8bc2a774bb8cba08",
            "5a47b24b19054af6a2f270a94bf61049",
            "1556b9f1a22b42d888cd352e56c0356d",
            "3b7dbffe3b9b4d4db78102da492fcf1e",
            "9268afbcdf5041e498a06ec5c6877c09",
            "525ca2d95ccd42298ba276e364be55b8",
            "9af6728b88f949f6ad93bf139ecab1f6",
            "b39003cffbf5454c81be14e4d686ed7a",
            "973d2e927fc344e3a3ba2adee8ee590a"
          ]
        },
        "outputId": "64e27d49-9b11-4f63-9e34-f49838127c1f"
      },
      "source": [
        "# use it to conver from PIL to torch.Tensor\n",
        "image_transform = ToTensor()\n",
        "\n",
        "train_dataset = MNIST(root='./', train=True, download=True, transform=image_transform)\n",
        "test_dataset = MNIST(root='./', train=False, download=True, transform=image_transform)"
      ],
      "execution_count": null,
      "outputs": [
        {
          "output_type": "stream",
          "text": [
            "Downloading http://yann.lecun.com/exdb/mnist/train-images-idx3-ubyte.gz to ./MNIST/raw/train-images-idx3-ubyte.gz\n"
          ],
          "name": "stdout"
        },
        {
          "output_type": "display_data",
          "data": {
            "application/vnd.jupyter.widget-view+json": {
              "model_id": "bdc6aecb7a234ccc8f711bed739cfb5f",
              "version_minor": 0,
              "version_major": 2
            },
            "text/plain": [
              "HBox(children=(FloatProgress(value=0.0, max=9912422.0), HTML(value='')))"
            ]
          },
          "metadata": {
            "tags": []
          }
        },
        {
          "output_type": "stream",
          "text": [
            "\n",
            "Extracting ./MNIST/raw/train-images-idx3-ubyte.gz to ./MNIST/raw\n",
            "Downloading http://yann.lecun.com/exdb/mnist/train-labels-idx1-ubyte.gz to ./MNIST/raw/train-labels-idx1-ubyte.gz\n"
          ],
          "name": "stdout"
        },
        {
          "output_type": "display_data",
          "data": {
            "application/vnd.jupyter.widget-view+json": {
              "model_id": "df9b1dd709f34477a65bf7e94890e5d1",
              "version_minor": 0,
              "version_major": 2
            },
            "text/plain": [
              "HBox(children=(FloatProgress(value=0.0, max=28881.0), HTML(value='')))"
            ]
          },
          "metadata": {
            "tags": []
          }
        },
        {
          "output_type": "stream",
          "text": [
            "\n",
            "Extracting ./MNIST/raw/train-labels-idx1-ubyte.gz to ./MNIST/raw\n",
            "Downloading http://yann.lecun.com/exdb/mnist/t10k-images-idx3-ubyte.gz to ./MNIST/raw/t10k-images-idx3-ubyte.gz\n"
          ],
          "name": "stdout"
        },
        {
          "output_type": "display_data",
          "data": {
            "application/vnd.jupyter.widget-view+json": {
              "model_id": "b28e5e7ebe0f460f9581db226e2b8238",
              "version_minor": 0,
              "version_major": 2
            },
            "text/plain": [
              "HBox(children=(FloatProgress(value=0.0, max=1648877.0), HTML(value='')))"
            ]
          },
          "metadata": {
            "tags": []
          }
        },
        {
          "output_type": "stream",
          "text": [
            "\n",
            "Extracting ./MNIST/raw/t10k-images-idx3-ubyte.gz to ./MNIST/raw\n",
            "Downloading http://yann.lecun.com/exdb/mnist/t10k-labels-idx1-ubyte.gz to ./MNIST/raw/t10k-labels-idx1-ubyte.gz\n"
          ],
          "name": "stdout"
        },
        {
          "output_type": "display_data",
          "data": {
            "application/vnd.jupyter.widget-view+json": {
              "model_id": "5a47b24b19054af6a2f270a94bf61049",
              "version_minor": 0,
              "version_major": 2
            },
            "text/plain": [
              "HBox(children=(FloatProgress(value=0.0, max=4542.0), HTML(value='')))"
            ]
          },
          "metadata": {
            "tags": []
          }
        },
        {
          "output_type": "stream",
          "text": [
            "\n",
            "Extracting ./MNIST/raw/t10k-labels-idx1-ubyte.gz to ./MNIST/raw\n",
            "Processing...\n",
            "Done!\n"
          ],
          "name": "stdout"
        },
        {
          "output_type": "stream",
          "text": [
            "/usr/local/lib/python3.7/dist-packages/torchvision/datasets/mnist.py:479: UserWarning: The given NumPy array is not writeable, and PyTorch does not support non-writeable tensors. This means you can write to the underlying (supposedly non-writeable) NumPy array using the tensor. You may want to copy the array to protect its data or make it writeable before converting it to a tensor. This type of warning will be suppressed for the rest of this program. (Triggered internally at  /pytorch/torch/csrc/utils/tensor_numpy.cpp:143.)\n",
            "  return torch.from_numpy(parsed.astype(m[2], copy=False)).view(*s)\n"
          ],
          "name": "stderr"
        }
      ]
    },
    {
      "cell_type": "code",
      "metadata": {
        "id": "-uuRj-5nBmVp"
      },
      "source": [
        "BATCH_SIZE = 32\n",
        "\n",
        "train_dataloader = DataLoader(\n",
        "    train_dataset,\n",
        "    batch_size=BATCH_SIZE,\n",
        "    shuffle=True,\n",
        ")\n",
        "\n",
        "test_dataloader = DataLoader(\n",
        "    test_dataset,\n",
        "    batch_size=BATCH_SIZE,\n",
        ")"
      ],
      "execution_count": null,
      "outputs": []
    },
    {
      "cell_type": "markdown",
      "metadata": {
        "id": "_zQK0y3OBmVp"
      },
      "source": [
        "Let's look at a batch of images:"
      ]
    },
    {
      "cell_type": "code",
      "metadata": {
        "id": "Ndo1muoOBmVp",
        "colab": {
          "base_uri": "https://localhost:8080/",
          "height": 628
        },
        "outputId": "6bc5bf64-99f6-405d-a24d-77c5b8d1c43e"
      },
      "source": [
        "example_batch = list(itertools.islice(train_dataloader, 1))[0]\n",
        "images, labels = example_batch\n",
        "\n",
        "# make a grid of images\n",
        "grid_images = make_grid(images, 8).permute(1, 2, 0)\n",
        "\n",
        "print(\"Labels of images: \", labels.view(-1, 8).tolist())\n",
        "\n",
        "plt.figure(figsize=(20, 10))\n",
        "plt.imshow(make_grid(images, 8).permute(1, 2, 0))"
      ],
      "execution_count": null,
      "outputs": [
        {
          "output_type": "stream",
          "text": [
            "Labels of images:  [[8, 7, 4, 7, 8, 2, 3, 1], [7, 0, 6, 3, 5, 0, 5, 6], [3, 4, 9, 6, 5, 2, 3, 1], [5, 8, 9, 3, 4, 7, 6, 7]]\n"
          ],
          "name": "stdout"
        },
        {
          "output_type": "execute_result",
          "data": {
            "text/plain": [
              "<matplotlib.image.AxesImage at 0x7fab7daa9c10>"
            ]
          },
          "metadata": {
            "tags": []
          },
          "execution_count": 16
        },
        {
          "output_type": "display_data",
          "data": {
            "image/png": "[encoded data removed]",
            "text/plain": [
              "<Figure size 1440x720 with 1 Axes>"
            ]
          },
          "metadata": {
            "tags": [],
            "needs_background": "light"
          }
        }
      ]
    },
    {
      "cell_type": "markdown",
      "metadata": {
        "id": "IUoHQGAnBmVq"
      },
      "source": [
        "The task is to train a model that will be able to take an image as an input and predict the class label for it (from 0 to 9) as an output.\n",
        "\n",
        "As a main metric we will use accuracy:"
      ]
    },
    {
      "cell_type": "code",
      "metadata": {
        "id": "rn8vmPkfBmVr"
      },
      "source": [
        "def calculate_accuracy(prediction, target):\n",
        "    # Note that prediction.shape == target.shape == [B, ]\n",
        "\n",
        "    matching = (prediction == target).float()\n",
        "    return matching.mean()"
      ],
      "execution_count": null,
      "outputs": []
    },
    {
      "cell_type": "markdown",
      "metadata": {
        "id": "pUqclU3HBmVr"
      },
      "source": [
        "## Linear Model\n",
        "\n",
        "Let's start with a linear model and implement it as a neural network in PyTorch.\n",
        "\n",
        "Linear model takes a batch of $B$ images as an input, applies a linear transformation to them and outputs logits. For each image $x$ it returns a vector of logits $z$:\n",
        "$$z = x \\cdot W + b $$\n",
        "\n",
        "Here x.shape = [1, 28 * 28], z.shape = [1, 10].\n",
        "\n",
        "Then, we can make the prediction $\\hat{y}$ for $x$ by taking the class with the maximum logit or obtain probabilities $p$ for all classes by applying softmax function to vector of logits:\n",
        "$$\\hat{y} = \\arg\\max_k z_k \\quad p_k = \\frac{e^{z_k}}{\\sum_{i=0}^{9}{e^{z_i}}} \\quad k = 0..9$$\n"
      ]
    },
    {
      "cell_type": "code",
      "metadata": {
        "id": "cr-sj3X9BmVr"
      },
      "source": [
        "# Any neural network in PyTorch is a class with trainable (i.e. requires_grad=True) parameters.\n",
        "# For more detailed tutorial look at https://pytorch.org/tutorials/beginner/nn_tutorial.html\n",
        "\n",
        "class LinearModel(nn.Module):  # inheritance from nn.Module is required\n",
        "\n",
        "    def __init__(self, input_dim: int, output_dim: int):\n",
        "        super().__init__()  # don't forget to init subclass\n",
        "\n",
        "        # initialize weight and bias\n",
        "        # NOTE that using of nn.Parameter is required\n",
        "        # Don't use just torch.Tensor\n",
        "        self.weight = nn.Parameter(torch.randn(output_dim, input_dim))\n",
        "        self.bias = nn.Parameter(torch.zeros(output_dim))\n",
        "\n",
        "        # initialize weight correctly\n",
        "        self.reset_parameters()\n",
        "\n",
        "    def reset_parameters(self):\n",
        "        nn.init.kaiming_normal_(self.weight)\n",
        "\n",
        "    def forward(self, input: torch.Tensor):\n",
        "        # We expect input.shape == [B, 1, 28, 28] and need to output logits.shape = [B,10]\n",
        "        ### YOUR SOLUTION ###\n",
        "        flatten_input = input.flatten(start_dim=2)\n",
        "        return (torch.matmul(flatten_input, torch.transpose(self.weight, 0, 1)) + self.bias.expand([input.shape[0], 1, self.bias.shape[0]])).squeeze()\n"
      ],
      "execution_count": null,
      "outputs": []
    },
    {
      "cell_type": "code",
      "metadata": {
        "id": "IkX-Ykte04VG"
      },
      "source": [
        "from google.colab import drive\n",
        "drive.mount('/content/drive')"
      ],
      "execution_count": null,
      "outputs": []
    },
    {
      "cell_type": "code",
      "metadata": {
        "id": "UNZ_jPKixqhs"
      },
      "source": [
        "INPUT_DIM = 28 * 28\n",
        "OUTPUT_DIM = 10  # num classes\n",
        "\n",
        "linear_model = LinearModel(INPUT_DIM, OUTPUT_DIM)"
      ],
      "execution_count": null,
      "outputs": []
    },
    {
      "cell_type": "code",
      "metadata": {
        "id": "kefMlVIMyCzn"
      },
      "source": [
        "# validate shapes\n",
        "\n",
        "assert linear_model.weight.shape == (OUTPUT_DIM, INPUT_DIM)\n",
        "assert linear_model.bias.shape == (OUTPUT_DIM, )\n",
        "assert linear_model.forward(example_batch[0]).shape == (BATCH_SIZE, 10)"
      ],
      "execution_count": null,
      "outputs": []
    },
    {
      "cell_type": "markdown",
      "metadata": {
        "id": "88KjRwzwyQQr"
      },
      "source": [
        "To train the model we will need a loss and an optimizer.\n",
        "\n",
        "We will use a cross-entropy loss, for one object it looks as follows:\n",
        "$$\\text{cross-entropy}(y, p) = -\\sum_{k=0}^{9}{\\log(p_k)[y = k]}$$\n",
        "\n",
        "where $y$ is a true label, $p_k$ is a predicted probability for class $k$, and  \n",
        "$$\n",
        "[x]=\\begin{cases}\n",
        "       1, \\quad \\text{if $x$ is true} \\\\\n",
        "       0, \\quad \\text{otherwise}\n",
        "    \\end{cases}\n",
        "$$\n",
        "\n",
        "Cross-entropy minimization pushes $p_k$ close to 1 when $y = k$, which is what we want.\n",
        "\n",
        "CrossEntropyLoss criterion in PyTorch combines softmax and loss calculation."
      ]
    },
    {
      "cell_type": "code",
      "metadata": {
        "colab": {
          "base_uri": "https://localhost:8080/"
        },
        "id": "vU7tYZTBbu50",
        "outputId": "ee82558b-7f2b-498f-97ab-6cd14714cd8d"
      },
      "source": [
        "nn.Parameter(torch.zeros(10)).shape[0]"
      ],
      "execution_count": null,
      "outputs": [
        {
          "output_type": "execute_result",
          "data": {
            "text/plain": [
              "10"
            ]
          },
          "metadata": {
            "tags": []
          },
          "execution_count": 21
        }
      ]
    },
    {
      "cell_type": "code",
      "metadata": {
        "id": "tSYCvwVRBmVs"
      },
      "source": [
        "criterion = nn.CrossEntropyLoss()\n",
        "optimizer = optim.SGD(linear_model.parameters(), lr=1e-2, momentum=0.9, nesterov=True)"
      ],
      "execution_count": null,
      "outputs": []
    },
    {
      "cell_type": "markdown",
      "metadata": {
        "id": "NtvIcXmRBmVu"
      },
      "source": [
        "Write training and testing loops"
      ]
    },
    {
      "cell_type": "code",
      "metadata": {
        "id": "9x8uy-8dBmVu",
        "colab": {
          "base_uri": "https://localhost:8080/",
          "height": 444
        },
        "outputId": "9f4dc0ee-8be0-4400-c019-92d78811d792"
      },
      "source": [
        "NUM_EPOCH = 10\n",
        "DEVICE = torch.device('cpu')  # you can change to `cuda:0`\n",
        "HISTORY = collections.defaultdict(list)\n",
        "\n",
        "linear_model.to(DEVICE)\n",
        "\n",
        "for epoch in range(NUM_EPOCH):\n",
        "    # AverageMeter will accumulate average of some metric\n",
        "    # Procceed to `utils.py` to see implementation\n",
        "    train_loss_meter = AverageMeter()\n",
        "    train_accuracy_meter = AverageMeter()\n",
        "    test_loss_meter = AverageMeter()\n",
        "    test_accuracy_meter = AverageMeter()\n",
        "\n",
        "    # training loop\n",
        "    for train_batch in train_dataloader:\n",
        "\n",
        "        # unpack batch and move to specific device (for example, GPU or TPU)\n",
        "        images, labels = train_batch\n",
        "        images = images.to(DEVICE)\n",
        "        labels = labels.to(DEVICE)\n",
        "\n",
        "        ### YOUR SOLUTION ###\n",
        "        # do forward pass\n",
        "        # calculate loss (CrossEntropy)\n",
        "        # zero out the previous gradients of our model parameters\n",
        "        # calculate new gradients\n",
        "        # do optimization step\n",
        "        logits = linear_model.forward(images)\n",
        "        # print(prediction)\n",
        "        # print(labels)\n",
        "        loss = criterion(logits, labels)\n",
        "        optimizer.zero_grad()\n",
        "        if logits.grad is not None:\n",
        "            logits.grad.zero_()\n",
        "        loss.backward()\n",
        "        optimizer.step()\n",
        "\n",
        "        prediction = logits.argmax(1)\n",
        "        # calculate current average loss and accuracy\n",
        "        train_loss_meter.update(loss.item())\n",
        "        train_accuracy_meter.update(\n",
        "            calculate_accuracy(\n",
        "                prediction.detach(),\n",
        "                labels\n",
        "            ).item()\n",
        "        )\n",
        "\n",
        "    # save average train loss and accuracy\n",
        "    HISTORY['train_loss'].append(train_loss_meter.avg)\n",
        "    HISTORY['train_accuracy'].append(train_accuracy_meter.avg)\n",
        "\n",
        "    # testing loop\n",
        "    for test_batch in test_dataloader:\n",
        "        images, labels = test_batch\n",
        "        images = images.to(DEVICE)\n",
        "        labels = labels.to(DEVICE)\n",
        "\n",
        "        # аdd `with torch.no_grad()' to avoid computing gradients of weights\n",
        "        with torch.no_grad():\n",
        "            # do everything like we did in training loop\n",
        "            logits = linear_model(images)\n",
        "            prediction = logits.argmax(dim=-1)\n",
        "            # print(images.shape)\n",
        "            # print(labels.shape)\n",
        "            # print(logits.shape)\n",
        "            loss = criterion(logits, labels)\n",
        "\n",
        "        test_loss_meter.update(loss.item())\n",
        "        test_accuracy_meter.update(\n",
        "            calculate_accuracy(\n",
        "                prediction,\n",
        "                labels\n",
        "            ).item()\n",
        "        )\n",
        "\n",
        "    # save average test accuracy loss and accuracy\n",
        "    HISTORY['test_loss'].append(test_loss_meter.avg)\n",
        "    HISTORY['test_accuracy'].append(test_accuracy_meter.avg)\n",
        "\n",
        "    # visualize all together\n",
        "    display.clear_output()\n",
        "    fig, axes = plt.subplots(1, 2, figsize=(20, 7))\n",
        "    axes[0].set_title('Loss (Cross Entropy)')\n",
        "    axes[0].plot(HISTORY['train_loss'], label='Train Loss')\n",
        "    axes[0].plot(HISTORY['test_loss'], label='Test Loss')\n",
        "    axes[0].grid()\n",
        "    axes[0].legend(fontsize=20)\n",
        "\n",
        "    axes[1].set_title('Accuracy')\n",
        "    axes[1].plot(HISTORY['train_accuracy'], label='Train Accuracy')\n",
        "    axes[1].plot(HISTORY['test_accuracy'], label='Test Accuracy')\n",
        "    axes[1].grid()\n",
        "    axes[1].legend(fontsize=20)\n",
        "\n",
        "    plt.show()"
      ],
      "execution_count": null,
      "outputs": [
        {
          "output_type": "display_data",
          "data": {
            "image/png": "[encoded data removed]",
            "text/plain": [
              "<Figure size 1440x504 with 2 Axes>"
            ]
          },
          "metadata": {
            "tags": [],
            "needs_background": "light"
          }
        }
      ]
    },
    {
      "cell_type": "code",
      "metadata": {
        "id": "tVK59LTcBmVw"
      },
      "source": [
        "assert HISTORY['test_accuracy'][-1] > 0.92"
      ],
      "execution_count": null,
      "outputs": []
    },
    {
      "cell_type": "code",
      "metadata": {
        "id": "vS9LhPeMxI3B"
      },
      "source": [
        "ans_part1 = HISTORY['test_accuracy'][-1]"
      ],
      "execution_count": null,
      "outputs": []
    },
    {
      "cell_type": "code",
      "metadata": {
        "id": "Z6bMyMCKBmVx"
      },
      "source": [
        "## GRADED PART, DO NOT CHANGE!\n",
        "grader.set_answer(\"zGwHg\", ans_part1)"
      ],
      "execution_count": null,
      "outputs": []
    },
    {
      "cell_type": "code",
      "metadata": {
        "id": "wj2EH27KxI3C",
        "colab": {
          "base_uri": "https://localhost:8080/"
        },
        "outputId": "125edada-62af-48e2-e5b6-de8bd73ae19a"
      },
      "source": [
        "# you can make submission with answers so far to check yourself at this stage\n",
        "grader.submit(COURSERA_EMAIL, COURSERA_TOKEN)"
      ],
      "execution_count": null,
      "outputs": [
        {
          "output_type": "stream",
          "text": [
            "You used an invalid email or your token may have expired. Please make sure you have entered all fields correctly. Try generating a new token if the issue still persists.\n"
          ],
          "name": "stdout"
        }
      ]
    },
    {
      "cell_type": "markdown",
      "metadata": {
        "id": "AhNvJjljBmVx"
      },
      "source": [
        "## MLP with hidden layers\n",
        "\n",
        "Previously we've coded a fully-connected linear layer with matrix multiplication by hand. But usually people code only very specific layers by hand, all standard layers are already implemented in PyTorch. The analog of our LinearModel in PyTorch is nn.Linear\n",
        "\n",
        "Now define an MLP with 2 hidden layers.\n",
        "- Do not forget to use nonlinearities between linear layers, for example, nn.ReLU\n",
        "- nn.Sequential help you to combine several layers into one model"
      ]
    },
    {
      "cell_type": "code",
      "metadata": {
        "id": "AwlSa-JDBmVy"
      },
      "source": [
        "INPUT_DIM = 28 * 28\n",
        "OUTPUT_DIM = 10  # num classes\n",
        "\n",
        "# HINT\n",
        "# Use nn.Sequential, nn.Linear and nn.ReLU\n",
        "class MLP(nn.Module):\n",
        "\n",
        "    def __init__(self, input_size, out_size, h_size):\n",
        "\n",
        "        super(MLP, self).__init__()\n",
        "\n",
        "        # Hidden layers\n",
        "        layers_raw = []\n",
        "        for k in range(h_size):\n",
        "            layers_raw.append(nn.Linear(input_size, input_size))\n",
        "            layers_raw.append(nn.ReLU())\n",
        "        layers_raw.append(nn.Linear(input_size, out_size))\n",
        "        self.layers = nn.Sequential(*layers_raw)\n",
        "\n",
        "    def forward(self, x):\n",
        "        x = x.view(x.size(0), -1)\n",
        "        x = self.layers(x)\n",
        "        return x\n"
      ],
      "execution_count": null,
      "outputs": []
    },
    {
      "cell_type": "markdown",
      "metadata": {
        "id": "grSmgqzJBmVy"
      },
      "source": [
        "Use the code from above to train the model. You're aiming for ~0.97 test accuracy here."
      ]
    },
    {
      "cell_type": "code",
      "metadata": {
        "id": "MKEDLGhwBmVy",
        "scrolled": false,
        "colab": {
          "base_uri": "https://localhost:8080/",
          "height": 444
        },
        "outputId": "7c420ae1-b858-4545-efa4-eae57e463609"
      },
      "source": [
        "NUM_EPOCH = 10\n",
        "DEVICE = torch.device('cpu')  # you can change to `cuda:0`\n",
        "HISTORY = collections.defaultdict(list)\n",
        "\n",
        "linear_model = MLP(INPUT_DIM, OUTPUT_DIM, 2)\n",
        "\n",
        "linear_model.to(DEVICE)\n",
        "\n",
        "criterion = nn.CrossEntropyLoss()\n",
        "optimizer = optim.SGD(linear_model.parameters(), lr=1e-2, momentum=0.9, nesterov=True)\n",
        "\n",
        "for epoch in range(NUM_EPOCH):\n",
        "    # AverageMeter will accumulate average of some metric\n",
        "    # Procceed to `utils.py` to see implementation\n",
        "    train_loss_meter = AverageMeter()\n",
        "    train_accuracy_meter = AverageMeter()\n",
        "    test_loss_meter = AverageMeter()\n",
        "    test_accuracy_meter = AverageMeter()\n",
        "\n",
        "    # training loop\n",
        "    for train_batch in train_dataloader:\n",
        "\n",
        "        # unpack batch and move to specific device (for example, GPU or TPU)\n",
        "        images, labels = train_batch\n",
        "        images = images.to(DEVICE)\n",
        "        labels = labels.to(DEVICE)\n",
        "\n",
        "        ### YOUR SOLUTION ###\n",
        "        # do forward pass\n",
        "        # calculate loss (CrossEntropy)\n",
        "        # zero out the previous gradients of our model parameters\n",
        "        # calculate new gradients\n",
        "        # do optimization step\n",
        "        logits = linear_model.forward(images)\n",
        "        # print(prediction)\n",
        "        # print(labels)\n",
        "        loss = criterion(logits, labels)\n",
        "        optimizer.zero_grad()\n",
        "        if logits.grad is not None:\n",
        "            logits.grad.zero_()\n",
        "        loss.backward()\n",
        "        optimizer.step()\n",
        "\n",
        "        prediction = logits.argmax(1)\n",
        "        # calculate current average loss and accuracy\n",
        "        train_loss_meter.update(loss.item())\n",
        "        train_accuracy_meter.update(\n",
        "            calculate_accuracy(\n",
        "                prediction.detach(),\n",
        "                labels\n",
        "            ).item()\n",
        "        )\n",
        "\n",
        "    # save average train loss and accuracy\n",
        "    HISTORY['train_loss'].append(train_loss_meter.avg)\n",
        "    HISTORY['train_accuracy'].append(train_accuracy_meter.avg)\n",
        "\n",
        "    # testing loop\n",
        "    for test_batch in test_dataloader:\n",
        "        images, labels = test_batch\n",
        "        images = images.to(DEVICE)\n",
        "        labels = labels.to(DEVICE)\n",
        "\n",
        "        # аdd `with torch.no_grad()' to avoid computing gradients of weights\n",
        "        with torch.no_grad():\n",
        "            # do everything like we did in training loop\n",
        "            logits = linear_model(images)\n",
        "            prediction = logits.argmax(dim=-1)\n",
        "            # print(images.shape)\n",
        "            # print(labels.shape)\n",
        "            # print(logits.shape)\n",
        "            loss = criterion(logits, labels)\n",
        "\n",
        "        test_loss_meter.update(loss.item())\n",
        "        test_accuracy_meter.update(\n",
        "            calculate_accuracy(\n",
        "                prediction,\n",
        "                labels\n",
        "            ).item()\n",
        "        )\n",
        "\n",
        "    # save average test accuracy loss and accuracy\n",
        "    HISTORY['test_loss'].append(test_loss_meter.avg)\n",
        "    HISTORY['test_accuracy'].append(test_accuracy_meter.avg)\n",
        "\n",
        "    # visualize all together\n",
        "    display.clear_output()\n",
        "    fig, axes = plt.subplots(1, 2, figsize=(20, 7))\n",
        "    axes[0].set_title('Loss (Cross Entropy)')\n",
        "    axes[0].plot(HISTORY['train_loss'], label='Train Loss')\n",
        "    axes[0].plot(HISTORY['test_loss'], label='Test Loss')\n",
        "    axes[0].grid()\n",
        "    axes[0].legend(fontsize=20)\n",
        "\n",
        "    axes[1].set_title('Accuracy')\n",
        "    axes[1].plot(HISTORY['train_accuracy'], label='Train Accuracy')\n",
        "    axes[1].plot(HISTORY['test_accuracy'], label='Test Accuracy')\n",
        "    axes[1].grid()\n",
        "    axes[1].legend(fontsize=20)\n",
        "\n",
        "    plt.show()"
      ],
      "execution_count": null,
      "outputs": [
        {
          "output_type": "display_data",
          "data": {
            "image/png": "[encoded data removed]",
            "text/plain": [
              "<Figure size 1440x504 with 2 Axes>"
            ]
          },
          "metadata": {
            "tags": [],
            "needs_background": "light"
          }
        }
      ]
    },
    {
      "cell_type": "code",
      "metadata": {
        "id": "iO9wWf-0BmVz"
      },
      "source": [
        "ans_part2 = HISTORY['test_accuracy'][-1]"
      ],
      "execution_count": null,
      "outputs": []
    },
    {
      "cell_type": "code",
      "metadata": {
        "id": "fm-wxw3yxI3D"
      },
      "source": [
        "## GRADED PART, DO NOT CHANGE!\n",
        "grader.set_answer(\"5Ww9B\", ans_part2)"
      ],
      "execution_count": null,
      "outputs": []
    },
    {
      "cell_type": "code",
      "metadata": {
        "id": "6uaveQVWxI3D",
        "colab": {
          "base_uri": "https://localhost:8080/"
        },
        "outputId": "cc16ed53-0169-4bf0-b79e-af5bbcbc1a72"
      },
      "source": [
        "grader.submit(COURSERA_EMAIL, COURSERA_TOKEN)"
      ],
      "execution_count": null,
      "outputs": [
        {
          "output_type": "stream",
          "text": [
            "Submitted to Coursera platform. See results on assignment page!\n"
          ],
          "name": "stdout"
        }
      ]
    },
    {
      "cell_type": "code",
      "metadata": {
        "id": "76_tDqHnhL2w"
      },
      "source": [],
      "execution_count": null,
      "outputs": []
    }
  ]
}