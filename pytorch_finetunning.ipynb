{
  "nbformat": 4,
  "nbformat_minor": 0,
  "metadata": {
    "accelerator": "GPU",
    "colab": {
      "provenance": []
    },
    "coursera": {
      "schema_names": [
        "pytorch-jupyter-task-83acec"
      ]
    },
    "kernelspec": {
      "display_name": "Python 3",
      "language": "python",
      "name": "python3"
    },
    "language_info": {
      "codemirror_mode": {
        "name": "ipython",
        "version": 3
      },
      "file_extension": ".py",
      "mimetype": "text/x-python",
      "name": "python",
      "nbconvert_exporter": "python",
      "pygments_lexer": "ipython3",
      "version": "3.6.5"
    }
  },
  "cells": [
    {
      "cell_type": "code",
      "metadata": {
        "id": "dqpq0qGHyfBD"
      },
      "source": [
        "%matplotlib inline"
      ],
      "execution_count": null,
      "outputs": []
    },
    {
      "cell_type": "markdown",
      "metadata": {
        "id": "EurL1__QiWWP"
      },
      "source": [
        "<div class=\"alert alert-warning\">\n",
        "\n",
        "### Load this Jupyter Notebook into Google Colab for better performance! (use GPU environment)\n",
        "\n",
        "**Coursera Labs does not provide enough CPU and memory.**\n",
        "</div>"
      ]
    },
    {
      "cell_type": "markdown",
      "metadata": {
        "id": "HdsPA6SnyfBP"
      },
      "source": [
        "torchvision model tuning\n",
        "------------------------------\n",
        "\n",
        "In this task you will have to run all the steps of the lab and save final model weights into `final_model.pt` file, which you will have to submit as the result of your work into Coursera Lab environment by clicking Submit Assignment button.\n",
        "\n",
        "Part of the steps are complete, others will require you to do simple excercises.\n"
      ]
    },
    {
      "cell_type": "markdown",
      "metadata": {
        "id": "EQo04hGeyfBR"
      },
      "source": [
        "https://pytorch.org/docs/stable/torchvision/models.html - models trained on ImageNet\n",
        "\n",
        "First we get the pre-trained model and then use feature extraction for final layers training.\n",
        "\n",
        "Steps:\n",
        "-  get data\n",
        "-  init pre-trained model\n",
        "-  add new head layer, change output shape for desired dataset\n",
        "-  define how we train our model (update only final layers or all)\n",
        "-  train\n"
      ]
    },
    {
      "cell_type": "code",
      "metadata": {
        "id": "2_golg5tyfBS"
      },
      "source": [
        "from __future__ import print_function, division\n",
        "\n",
        "import time\n",
        "import os\n",
        "import copy\n",
        "\n",
        "import numpy as np\n",
        "import matplotlib.pyplot as plt\n",
        "\n",
        "import torch\n",
        "import torch.nn as nn\n",
        "import torch.optim as optim\n",
        "\n",
        "import torchvision\n",
        "from torchvision import datasets, models, transforms"
      ],
      "execution_count": null,
      "outputs": []
    },
    {
      "cell_type": "markdown",
      "metadata": {
        "id": "jvCirGXNyfBb"
      },
      "source": [
        "Data\n",
        "------\n",
        "\n",
        "We will use *hymenoptera_data*: https://download.pytorch.org/tutorial/hymenoptera_data.zip.\n",
        "It has 2 classes - bees and ants.\n",
        "To get data we will use class ImageFolder - https://pytorch.org/docs/stable/torchvision/datasets.html#torchvision.datasets.ImageFolder\n",
        "\n",
        "As a model we take vgg11_bn - VGG11 trained with batch normalization\n",
        "\n",
        "Other params:\n",
        "batch_size - size of the batch, num_classes - amount of different classes in data, num_epochs - how many epochs to train for, finetune - flag to determine if we train only last layers or the whole model\n",
        "\n",
        "\n"
      ]
    },
    {
      "cell_type": "code",
      "metadata": {
        "id": "OEH1_3YYgGjE",
        "colab": {
          "base_uri": "https://localhost:8080/"
        },
        "outputId": "e78a702e-b705-4111-9ebe-3ad353e826fd"
      },
      "source": [
        "! wget https://download.pytorch.org/tutorial/hymenoptera_data.zip\n",
        "! mkdir data\n",
        "! unzip hymenoptera_data.zip"
      ],
      "execution_count": null,
      "outputs": [
        {
          "output_type": "stream",
          "text": [
            "--2021-08-11 07:32:48--  https://download.pytorch.org/tutorial/hymenoptera_data.zip\n",
            "Resolving download.pytorch.org (download.pytorch.org)... 52.222.158.70, 52.222.158.75, 52.222.158.43, ...\n",
            "Connecting to download.pytorch.org (download.pytorch.org)|52.222.158.70|:443... connected.\n",
            "HTTP request sent, awaiting response... 200 OK\n",
            "Length: 47286322 (45M) [application/zip]\n",
            "Saving to: ‘hymenoptera_data.zip.2’\n",
            "\n",
            "hymenoptera_data.zi 100%[===================>]  45.10M   119MB/s    in 0.4s    \n",
            "\n",
            "2021-08-11 07:32:48 (119 MB/s) - ‘hymenoptera_data.zip.2’ saved [47286322/47286322]\n",
            "\n",
            "mkdir: cannot create directory ‘data’: File exists\n",
            "Archive:  hymenoptera_data.zip\n",
            "replace hymenoptera_data/train/ants/0013035.jpg? [y]es, [n]o, [A]ll, [N]one, [r]ename: "
          ],
          "name": "stdout"
        }
      ]
    },
    {
      "cell_type": "code",
      "metadata": {
        "id": "ehENWHPBgWck",
        "colab": {
          "base_uri": "https://localhost:8080/"
        },
        "outputId": "8df89dcb-cb38-4520-9659-357e95e0b03d"
      },
      "source": [
        "! mv hymenoptera_data data/\n",
        "! ls ./data"
      ],
      "execution_count": null,
      "outputs": [
        {
          "output_type": "stream",
          "text": [
            "mv: cannot move 'hymenoptera_data' to 'data/hymenoptera_data': Directory not empty\n",
            "hymenoptera_data\n"
          ],
          "name": "stdout"
        }
      ]
    },
    {
      "cell_type": "code",
      "metadata": {
        "id": "LE8OgQadyfBj"
      },
      "source": [
        "data_dir = \"./data/hymenoptera_data\" # path to data\n",
        "num_classes = 2                      # amount of classes in new data\n",
        "\n",
        "batch_size = 8                       # data batch size\n",
        "num_epochs = 5                       # epochs count\n",
        "feature_extract = True               # should we train with feature extraction (last layers fine tuning)"
      ],
      "execution_count": null,
      "outputs": []
    },
    {
      "cell_type": "markdown",
      "metadata": {
        "id": "h578K9e1kwsQ"
      },
      "source": [
        "Model training\n",
        "---------------\n",
        "\n",
        "And helper for layers params setup"
      ]
    },
    {
      "cell_type": "code",
      "metadata": {
        "id": "reg1vQMdyfB4"
      },
      "source": [
        "def train_model(model, dataloaders, criterion, optimizer, num_epochs=25):\n",
        "    start = time.time()\n",
        "    _hist = []\n",
        "    best_model = copy.deepcopy(model.state_dict())\n",
        "    best_acc = 0.0\n",
        "\n",
        "    for epoch in range(num_epochs):\n",
        "        print('Epoch {}/{}'.format(epoch, num_epochs - 1))\n",
        "\n",
        "        for phase in ['train', 'val']:\n",
        "            model.train() if phase == 'train' else model.eval()\n",
        "            _loss, _acc = 0.0, 0\n",
        "\n",
        "            for inputs, labels in dataloaders_dict[phase]:\n",
        "                inputs = inputs.to(device)\n",
        "                labels = labels.to(device)\n",
        "\n",
        "                optimizer.zero_grad()\n",
        "\n",
        "                with torch.set_grad_enabled(phase == 'train'):\n",
        "                    outputs = model(inputs)\n",
        "                    loss = criterion(outputs, labels)\n",
        "\n",
        "                    _, preds = torch.max(outputs, 1)\n",
        "\n",
        "                    if phase == 'train':\n",
        "                        loss.backward()\n",
        "                        optimizer.step()\n",
        "\n",
        "                _loss += loss.item() * inputs.size(0)\n",
        "                _acc += torch.sum(preds == labels.data)\n",
        "\n",
        "            epoch_loss = _loss / len(dataloaders_dict[phase].dataset)\n",
        "            epoch_acc = _acc.double() / len(dataloaders_dict[phase].dataset)\n",
        "\n",
        "            print('{} Loss: {:.6f} Acc: {:.6f}'.format(phase, epoch_loss, epoch_acc))\n",
        "\n",
        "            if phase == 'val':\n",
        "                _hist.append(epoch_acc)\n",
        "                if epoch_acc > best_acc:\n",
        "                  best_acc = epoch_acc\n",
        "                  best_model = copy.deepcopy(model.state_dict())\n",
        "\n",
        "    time_elapsed = time.time() - start\n",
        "    print('Training finished: {:.0f}m {:.0f}s'.format(time_elapsed // 60, time_elapsed % 60))\n",
        "    print('Validation: best score Accuracy: {:6f}'.format(best_acc))\n",
        "\n",
        "    model.load_state_dict(best_model)\n",
        "    return model, _hist\n",
        "\n",
        "\n",
        "def set_requires_grad(model, feature_extract):\n",
        "    if feature_extract:\n",
        "        for param in model.parameters():\n",
        "            param.requires_grad = False"
      ],
      "execution_count": null,
      "outputs": []
    },
    {
      "cell_type": "markdown",
      "metadata": {
        "id": "8t_IfO5UyfEa"
      },
      "source": [
        "Model init and update\n",
        "-----------------------------------\n",
        "\n",
        "For more details - https://pytorch.org/docs/stable/torchvision/models.html\n",
        "\n",
        "In this block we change model's final layer. It is hard to automate this step, as each model has its own characteristics. Last layer of CNN model (usually fully conntected) has the same amount of outputs as the dataset classes. All models in torchvision are trained on Imagenet, so the size of the final layer is 1000.\n",
        "\n",
        "Our goal - get the final layer to have the same inputs amount and change amount of outputs to satisfy the requirements of new dataset.\n",
        "\n",
        "Important notice to distinguish retraining and feature extraction (final layers training, finetuning): in the last case we want to update only final layer (layers), meaning we ignore gradients calculation for the previous layers, in order to do so we set `required_grad=False` parameter of the layers. By default, the parameter is `True` (including newly created layer, but we do want to update it, that is why we do not set that param for the new layer).\n",
        "\n",
        "VGG\n",
        "---\n",
        "\n",
        "More details about the model - https://arxiv.org/pdf/1409.1556.pdf\n",
        "\n",
        "In torchvision library there is 8 versions of pre-trained VGG model with different size and batch-normalization usage. We will use VGG-11 with batch-normalization.\n",
        "\n",
        "In model description we can see: classifier (model's head) includes final layer - Linear with 4096 input params and 1000 outputs:.\n",
        "```\n",
        "   (classifier): Sequential(\n",
        "       ...\n",
        "       (6): Linear(in_features=4096, out_features=1000, bias=True)\n",
        "    )\n",
        "```\n",
        "We can change it by using following code:\n",
        "\n",
        "`model.classifier[6] = nn.Linear(4096,num_classes)`\n",
        "\n",
        "We update sixth (last) layer in classifier block of model's layers sequence."
      ]
    },
    {
      "cell_type": "code",
      "metadata": {
        "id": "XxwNe4UTES29"
      },
      "source": [
        "def set_requires_grad(model, feature_extract):\n",
        "    if feature_extract:\n",
        "      for param in model.parameters():\n",
        "            param.requires_grad = False"
      ],
      "execution_count": null,
      "outputs": []
    },
    {
      "cell_type": "code",
      "metadata": {
        "id": "wCLS9IwryfEa",
        "colab": {
          "base_uri": "https://localhost:8080/"
        },
        "outputId": "6ce4631e-a0be-4a00-bc98-e196dae8574d"
      },
      "source": [
        "def initialize_model(num_classes, feature_extract, use_pretrained=True):\n",
        "    model_ft = models.vgg11_bn(pretrained=use_pretrained)\n",
        "\n",
        "    set_requires_grad(model_ft, feature_extract)\n",
        "\n",
        "    num_ftrs = model_ft.classifier[6].in_features\n",
        "\n",
        "    #\n",
        "    #\n",
        "    # PUT CODE TO REPLACE LAYER HERE\n",
        "    #\n",
        "    #\n",
        "\n",
        "    input_size = 4096\n",
        "    model_ft.classifier[6] = nn.Linear(input_size,num_classes)\n",
        "\n",
        "    return model_ft, input_size\n",
        "\n",
        "model_ft, input_size = initialize_model(num_classes, feature_extract, use_pretrained=True)\n",
        "print(model_ft)"
      ],
      "execution_count": null,
      "outputs": [
        {
          "output_type": "stream",
          "text": [
            "VGG(\n",
            "  (features): Sequential(\n",
            "    (0): Conv2d(3, 64, kernel_size=(3, 3), stride=(1, 1), padding=(1, 1))\n",
            "    (1): BatchNorm2d(64, eps=1e-05, momentum=0.1, affine=True, track_running_stats=True)\n",
            "    (2): ReLU(inplace=True)\n",
            "    (3): MaxPool2d(kernel_size=2, stride=2, padding=0, dilation=1, ceil_mode=False)\n",
            "    (4): Conv2d(64, 128, kernel_size=(3, 3), stride=(1, 1), padding=(1, 1))\n",
            "    (5): BatchNorm2d(128, eps=1e-05, momentum=0.1, affine=True, track_running_stats=True)\n",
            "    (6): ReLU(inplace=True)\n",
            "    (7): MaxPool2d(kernel_size=2, stride=2, padding=0, dilation=1, ceil_mode=False)\n",
            "    (8): Conv2d(128, 256, kernel_size=(3, 3), stride=(1, 1), padding=(1, 1))\n",
            "    (9): BatchNorm2d(256, eps=1e-05, momentum=0.1, affine=True, track_running_stats=True)\n",
            "    (10): ReLU(inplace=True)\n",
            "    (11): Conv2d(256, 256, kernel_size=(3, 3), stride=(1, 1), padding=(1, 1))\n",
            "    (12): BatchNorm2d(256, eps=1e-05, momentum=0.1, affine=True, track_running_stats=True)\n",
            "    (13): ReLU(inplace=True)\n",
            "    (14): MaxPool2d(kernel_size=2, stride=2, padding=0, dilation=1, ceil_mode=False)\n",
            "    (15): Conv2d(256, 512, kernel_size=(3, 3), stride=(1, 1), padding=(1, 1))\n",
            "    (16): BatchNorm2d(512, eps=1e-05, momentum=0.1, affine=True, track_running_stats=True)\n",
            "    (17): ReLU(inplace=True)\n",
            "    (18): Conv2d(512, 512, kernel_size=(3, 3), stride=(1, 1), padding=(1, 1))\n",
            "    (19): BatchNorm2d(512, eps=1e-05, momentum=0.1, affine=True, track_running_stats=True)\n",
            "    (20): ReLU(inplace=True)\n",
            "    (21): MaxPool2d(kernel_size=2, stride=2, padding=0, dilation=1, ceil_mode=False)\n",
            "    (22): Conv2d(512, 512, kernel_size=(3, 3), stride=(1, 1), padding=(1, 1))\n",
            "    (23): BatchNorm2d(512, eps=1e-05, momentum=0.1, affine=True, track_running_stats=True)\n",
            "    (24): ReLU(inplace=True)\n",
            "    (25): Conv2d(512, 512, kernel_size=(3, 3), stride=(1, 1), padding=(1, 1))\n",
            "    (26): BatchNorm2d(512, eps=1e-05, momentum=0.1, affine=True, track_running_stats=True)\n",
            "    (27): ReLU(inplace=True)\n",
            "    (28): MaxPool2d(kernel_size=2, stride=2, padding=0, dilation=1, ceil_mode=False)\n",
            "  )\n",
            "  (avgpool): AdaptiveAvgPool2d(output_size=(7, 7))\n",
            "  (classifier): Sequential(\n",
            "    (0): Linear(in_features=25088, out_features=4096, bias=True)\n",
            "    (1): ReLU(inplace=True)\n",
            "    (2): Dropout(p=0.5, inplace=False)\n",
            "    (3): Linear(in_features=4096, out_features=4096, bias=True)\n",
            "    (4): ReLU(inplace=True)\n",
            "    (5): Dropout(p=0.5, inplace=False)\n",
            "    (6): Linear(in_features=4096, out_features=2, bias=True)\n",
            "  )\n",
            ")\n"
          ],
          "name": "stdout"
        }
      ]
    },
    {
      "cell_type": "code",
      "metadata": {
        "id": "GXDX6tpRo0y0"
      },
      "source": [
        "model_ft = models.vgg11_bn(pretrained=True)"
      ],
      "execution_count": null,
      "outputs": []
    },
    {
      "cell_type": "markdown",
      "metadata": {
        "id": "BAqawD0tyfEe"
      },
      "source": [
        "Data loader\n",
        "---------\n",
        "\n",
        "Now knowing input data params we can init data loader.\n",
        "Important notice: models are trained with normalization values, details - https://pytorch.org/docs/master/torchvision/models.html\n",
        "\n",
        "\n"
      ]
    },
    {
      "cell_type": "code",
      "metadata": {
        "id": "Z4L9ykOoyfEl",
        "colab": {
          "base_uri": "https://localhost:8080/"
        },
        "outputId": "81691381-ae12-4230-9ac4-f73ad12e12ce"
      },
      "source": [
        "# Data normalization\n",
        "input_size = 224\n",
        "data_transforms = {\n",
        "    'train': transforms.Compose([\n",
        "        transforms.RandomResizedCrop(input_size),\n",
        "        transforms.RandomHorizontalFlip(),\n",
        "        transforms.ToTensor(),\n",
        "        transforms.Normalize([0.485, 0.456, 0.406], [0.229, 0.224, 0.225])\n",
        "    ]),\n",
        "    'val': transforms.Compose([\n",
        "        transforms.Resize(input_size),\n",
        "        transforms.CenterCrop(input_size),\n",
        "        transforms.ToTensor(),\n",
        "        transforms.Normalize([0.485, 0.456, 0.406], [0.229, 0.224, 0.225])\n",
        "    ]),\n",
        "}\n",
        "\n",
        "image_datasets = {\n",
        "    x: datasets.ImageFolder(os.path.join(data_dir, x),\n",
        "                            data_transforms[x])\n",
        "    for x in ['train', 'val']\n",
        "}\n",
        "dataloaders_dict = {\n",
        "    x: torch.utils.data.DataLoader(image_datasets[x], batch_size=batch_size,\n",
        "                                   shuffle=True, num_workers=4)\n",
        "    for x in ['train', 'val']\n",
        "}\n",
        "\n",
        "device = torch.device(\"cuda:0\" if torch.cuda.is_available() else \"cpu\")"
      ],
      "execution_count": null,
      "outputs": [
        {
          "output_type": "stream",
          "text": [
            "/usr/local/lib/python3.7/dist-packages/torch/utils/data/dataloader.py:481: UserWarning: This DataLoader will create 4 worker processes in total. Our suggested max number of worker in current system is 2, which is smaller than what this DataLoader is going to create. Please be aware that excessive worker creation might get DataLoader running slow or even freeze, lower the worker number to avoid potential slowness/freeze if necessary.\n",
            "  cpuset_checked))\n"
          ],
          "name": "stderr"
        }
      ]
    },
    {
      "cell_type": "code",
      "metadata": {
        "id": "E9icPwY5eUDs"
      },
      "source": [
        "x = 'train'\n",
        "d = datasets.ImageFolder(os.path.join(data_dir, x), data_transforms[x])"
      ],
      "execution_count": null,
      "outputs": []
    },
    {
      "cell_type": "code",
      "metadata": {
        "colab": {
          "base_uri": "https://localhost:8080/"
        },
        "id": "FWohqM9lfUHd",
        "outputId": "a483363a-25a4-4954-e657-01dd2fb396ac"
      },
      "source": [
        "class_names = d.classes\n",
        "\n",
        "type(class_names)"
      ],
      "execution_count": null,
      "outputs": [
        {
          "output_type": "execute_result",
          "data": {
            "text/plain": [
              "list"
            ]
          },
          "metadata": {
            "tags": []
          },
          "execution_count": 62
        }
      ]
    },
    {
      "cell_type": "markdown",
      "metadata": {
        "id": "jIoLgvHTyfEu"
      },
      "source": [
        "Init optimizer\n",
        "--------------------\n",
        "\n",
        "Now we have model and data, last thing left is to create optimizer, which will update only required params. We already specified `required_grad` param before.\n",
        "\n",
        "We have to pass those (and only those) params into SGD for optimization\n",
        "\n"
      ]
    },
    {
      "cell_type": "code",
      "metadata": {
        "id": "tgc222EXyfEu",
        "colab": {
          "base_uri": "https://localhost:8080/"
        },
        "outputId": "b5468e1d-6bd9-42cc-ae73-affabff58e91"
      },
      "source": [
        "model_ft = model_ft.to(device)\n",
        "\n",
        "params_to_update = model_ft.parameters() # all params by default\n",
        "print(\"Params to update while training:\")\n",
        "\n",
        "if feature_extract:\n",
        "    # only last layer, update the list\n",
        "    params_to_update = []\n",
        "    for name,param in model_ft.named_parameters():\n",
        "        if param.requires_grad == True:\n",
        "            params_to_update.append(param)\n",
        "            print(\"\\t\",name)\n",
        "else:\n",
        "    # all params, just output\n",
        "    for name, param in model_ft.named_parameters():\n",
        "        if param.requires_grad == True:\n",
        "            print(\"\\t\",name)\n",
        "\n",
        "optimizer_ft = optim.SGD(params_to_update, lr=0.002, momentum=0.9)"
      ],
      "execution_count": null,
      "outputs": [
        {
          "output_type": "stream",
          "text": [
            "Params to update while training:\n",
            "\t features.0.weight\n",
            "\t features.0.bias\n",
            "\t features.1.weight\n",
            "\t features.1.bias\n",
            "\t features.4.weight\n",
            "\t features.4.bias\n",
            "\t features.5.weight\n",
            "\t features.5.bias\n",
            "\t features.8.weight\n",
            "\t features.8.bias\n",
            "\t features.9.weight\n",
            "\t features.9.bias\n",
            "\t features.11.weight\n",
            "\t features.11.bias\n",
            "\t features.12.weight\n",
            "\t features.12.bias\n",
            "\t features.15.weight\n",
            "\t features.15.bias\n",
            "\t features.16.weight\n",
            "\t features.16.bias\n",
            "\t features.18.weight\n",
            "\t features.18.bias\n",
            "\t features.19.weight\n",
            "\t features.19.bias\n",
            "\t features.22.weight\n",
            "\t features.22.bias\n",
            "\t features.23.weight\n",
            "\t features.23.bias\n",
            "\t features.25.weight\n",
            "\t features.25.bias\n",
            "\t features.26.weight\n",
            "\t features.26.bias\n",
            "\t classifier.0.weight\n",
            "\t classifier.0.bias\n",
            "\t classifier.3.weight\n",
            "\t classifier.3.bias\n",
            "\t classifier.6.weight\n",
            "\t classifier.6.bias\n"
          ],
          "name": "stdout"
        }
      ]
    },
    {
      "cell_type": "markdown",
      "metadata": {
        "id": "6QiVtDcRyfEz"
      },
      "source": [
        "Training and validation\n",
        "--------------------------------\n",
        "\n",
        "Now we have to determine loss function and start training process for specified amount of epochs. CPU learning might require some time (depending on the model), and learning rate could be optimized as well (as it is not optimal by default).\n",
        "\n",
        "\n"
      ]
    },
    {
      "cell_type": "code",
      "metadata": {
        "id": "a17i9JUxyfE0"
      },
      "source": [
        "# loss function\n",
        "criterion = nn.CrossEntropyLoss()\n",
        "\n",
        "# training\n",
        "# TODO: call train_model will all required params:\n",
        "\n",
        "#model_ft, hist = None, None # train_model(...)"
      ],
      "execution_count": null,
      "outputs": []
    },
    {
      "cell_type": "code",
      "metadata": {
        "colab": {
          "base_uri": "https://localhost:8080/"
        },
        "id": "yD7x3Hp5a55t",
        "outputId": "77e56c19-897f-4750-f438-88897556a81e"
      },
      "source": [
        "dataloaders_dict['train']"
      ],
      "execution_count": null,
      "outputs": [
        {
          "output_type": "execute_result",
          "data": {
            "text/plain": [
              "<torch.utils.data.dataloader.DataLoader at 0x7f13bc20ae10>"
            ]
          },
          "metadata": {
            "tags": []
          },
          "execution_count": 65
        }
      ]
    },
    {
      "cell_type": "code",
      "metadata": {
        "id": "U1LpRuDjX-9U"
      },
      "source": [
        "def train_model(model, criterion, optimizer, scheduler, num_epochs=25):\n",
        "    since = time.time()\n",
        "\n",
        "    best_model_wts = copy.deepcopy(model.state_dict())\n",
        "    best_acc = 0.0\n",
        "\n",
        "    for epoch in range(num_epochs):\n",
        "        print('Epoch {}/{}'.format(epoch, num_epochs - 1))\n",
        "        print('-' * 10)\n",
        "\n",
        "        # Each epoch has a training and validation phase\n",
        "        for phase in ['train', 'val']:\n",
        "            if phase == 'train':\n",
        "                scheduler.step()\n",
        "                model.train()  # Set model to training mode\n",
        "            else:\n",
        "                model.eval()   # Set model to evaluate mode\n",
        "\n",
        "            running_loss = 0.0\n",
        "            running_corrects = 0\n",
        "\n",
        "            # Iterate over data.\n",
        "            for inputs, labels in dataloaders_dict[phase]:\n",
        "                inputs = inputs.to(device)\n",
        "                labels = labels.to(device)\n",
        "\n",
        "                # zero the parameter gradients\n",
        "                optimizer.zero_grad()\n",
        "\n",
        "                # forward\n",
        "                # track history if only in train\n",
        "                with torch.set_grad_enabled(phase == 'train'):\n",
        "                    outputs = model(inputs)\n",
        "                    _, preds = torch.max(outputs, 1)\n",
        "                    loss = criterion(outputs, labels)\n",
        "\n",
        "                    # backward + optimize only if in training phase\n",
        "                    if phase == 'train':\n",
        "                        loss.backward()\n",
        "                        optimizer.step()\n",
        "\n",
        "                # statistics\n",
        "                running_loss += loss.item() * inputs.size(0)\n",
        "                running_corrects += torch.sum(preds == labels.data)\n",
        "\n",
        "            epoch_loss = running_loss / len(dataloaders_dict[phase].dataset)\n",
        "            epoch_acc = running_corrects.double() / len(dataloaders_dict[phase].dataset)\n",
        "\n",
        "            print('{} Loss: {:.4f} Acc: {:.4f}'.format(\n",
        "                phase, epoch_loss, epoch_acc))\n",
        "\n",
        "            # deep copy the model\n",
        "            if phase == 'val' and epoch_acc > best_acc:\n",
        "                best_acc = epoch_acc\n",
        "                best_model_wts = copy.deepcopy(model.state_dict())\n",
        "\n",
        "        print()\n",
        "\n",
        "    time_elapsed = time.time() - since\n",
        "    print('Training complete in {:.0f}m {:.0f}s'.format(\n",
        "        time_elapsed // 60, time_elapsed % 60))\n",
        "    print('Best val Acc: {:4f}'.format(best_acc))\n",
        "\n",
        "    # load best model weights\n",
        "    model.load_state_dict(best_model_wts)\n",
        "\n",
        "def imshow(inp, title=None):\n",
        "    inp = inp.numpy().transpose((1, 2, 0))\n",
        "    mean = np.array([0.485, 0.456, 0.406])\n",
        "    std = np.array([0.229, 0.224, 0.225])\n",
        "    inp = std * inp + mean\n",
        "    inp = np.clip(inp, 0, 1)\n",
        "    plt.imshow(inp)\n",
        "    if title is not None:\n",
        "        plt.title(title)\n",
        "    plt.pause(0.001)  # pause a bit so that plots are updated\n",
        "\n",
        "def visualize_model(model, num_images=6):\n",
        "    was_training = model.training\n",
        "    model.eval()\n",
        "    images_so_far = 0\n",
        "    fig = plt.figure()\n",
        "\n",
        "    with torch.no_grad():\n",
        "        for i, (inputs, labels) in enumerate(dataloaders_dict['val']):\n",
        "            inputs = inputs.to(device)\n",
        "            labels = labels.to(device)\n",
        "\n",
        "            outputs = model(inputs)\n",
        "            _, preds = torch.max(outputs, 1)\n",
        "\n",
        "            for j in range(inputs.size()[0]):\n",
        "                images_so_far += 1\n",
        "                ax = plt.subplot(num_images//2, 2, images_so_far)\n",
        "                ax.axis('off')\n",
        "                ax.set_title('predicted: {}'.format(class_names[preds[j].item()]))\n",
        "                imshow(inputs.cpu().data[j])\n",
        "\n",
        "                if images_so_far == num_images:\n",
        "                    model.train(mode=was_training)\n",
        "                    return\n",
        "        model.train(mode=was_training)"
      ],
      "execution_count": null,
      "outputs": []
    },
    {
      "cell_type": "code",
      "metadata": {
        "id": "FVH2SInmYJjU",
        "colab": {
          "base_uri": "https://localhost:8080/"
        },
        "outputId": "0a26b051-fe7e-400a-bd9f-1bc76e305c8e"
      },
      "source": [
        "from torch.optim import lr_scheduler\n",
        "\n",
        "#model_ft = model_ft.to(device)\n",
        "\n",
        "#criterion = nn.CrossEntropyLoss()\n",
        "\n",
        "\n",
        "#optimizer_ft = optim.SGD(model_ft.parameters(), lr=0.001, momentum=0.9)\n",
        "\n",
        "\n",
        "exp_lr_scheduler = lr_scheduler.StepLR(optimizer_ft, step_size=7, gamma=0.1)\n",
        "\n",
        "\n",
        "train_model(model_ft, criterion, optimizer_ft, exp_lr_scheduler, num_epochs=25)\n",
        "\n",
        "\n",
        "\n",
        "torch.save(model_ft.state_dict(), 'final_model.pt')\n"
      ],
      "execution_count": null,
      "outputs": [
        {
          "output_type": "stream",
          "text": [
            "Epoch 0/24\n",
            "----------\n"
          ],
          "name": "stdout"
        },
        {
          "output_type": "stream",
          "text": [
            "/usr/local/lib/python3.7/dist-packages/torch/optim/lr_scheduler.py:134: UserWarning: Detected call of `lr_scheduler.step()` before `optimizer.step()`. In PyTorch 1.1.0 and later, you should call them in the opposite order: `optimizer.step()` before `lr_scheduler.step()`.  Failure to do this will result in PyTorch skipping the first value of the learning rate schedule. See more details at https://pytorch.org/docs/stable/optim.html#how-to-adjust-learning-rate\n",
            "  \"https://pytorch.org/docs/stable/optim.html#how-to-adjust-learning-rate\", UserWarning)\n",
            "/usr/local/lib/python3.7/dist-packages/torch/utils/data/dataloader.py:481: UserWarning: This DataLoader will create 4 worker processes in total. Our suggested max number of worker in current system is 2, which is smaller than what this DataLoader is going to create. Please be aware that excessive worker creation might get DataLoader running slow or even freeze, lower the worker number to avoid potential slowness/freeze if necessary.\n",
            "  cpuset_checked))\n"
          ],
          "name": "stderr"
        },
        {
          "output_type": "stream",
          "text": [
            "train Loss: 2.4291 Acc: 0.5984\n",
            "val Loss: 0.7136 Acc: 0.7712\n",
            "\n",
            "Epoch 1/24\n",
            "----------\n",
            "train Loss: 0.9905 Acc: 0.6598\n",
            "val Loss: 0.4869 Acc: 0.7712\n",
            "\n",
            "Epoch 2/24\n",
            "----------\n",
            "train Loss: 0.5107 Acc: 0.7664\n",
            "val Loss: 0.4471 Acc: 0.8301\n",
            "\n",
            "Epoch 3/24\n",
            "----------\n",
            "train Loss: 0.3451 Acc: 0.8361\n",
            "val Loss: 0.3413 Acc: 0.9020\n",
            "\n",
            "Epoch 4/24\n",
            "----------\n",
            "train Loss: 0.3761 Acc: 0.8443\n",
            "val Loss: 0.4989 Acc: 0.8170\n",
            "\n",
            "Epoch 5/24\n",
            "----------\n",
            "train Loss: 0.3373 Acc: 0.8566\n",
            "val Loss: 0.7398 Acc: 0.7582\n",
            "\n",
            "Epoch 6/24\n",
            "----------\n",
            "train Loss: 0.2540 Acc: 0.8934\n",
            "val Loss: 0.3280 Acc: 0.8693\n",
            "\n",
            "Epoch 7/24\n",
            "----------\n",
            "train Loss: 0.2771 Acc: 0.8893\n",
            "val Loss: 0.3275 Acc: 0.8824\n",
            "\n",
            "Epoch 8/24\n",
            "----------\n",
            "train Loss: 0.1969 Acc: 0.9180\n",
            "val Loss: 0.3130 Acc: 0.8824\n",
            "\n",
            "Epoch 9/24\n",
            "----------\n",
            "train Loss: 0.1937 Acc: 0.9262\n",
            "val Loss: 0.3327 Acc: 0.8889\n",
            "\n",
            "Epoch 10/24\n",
            "----------\n",
            "train Loss: 0.2409 Acc: 0.9016\n",
            "val Loss: 0.3257 Acc: 0.8889\n",
            "\n",
            "Epoch 11/24\n",
            "----------\n",
            "train Loss: 0.1997 Acc: 0.9098\n",
            "val Loss: 0.3116 Acc: 0.8954\n",
            "\n",
            "Epoch 12/24\n",
            "----------\n",
            "train Loss: 0.1573 Acc: 0.9344\n",
            "val Loss: 0.2908 Acc: 0.8824\n",
            "\n",
            "Epoch 13/24\n",
            "----------\n",
            "train Loss: 0.1824 Acc: 0.9262\n",
            "val Loss: 0.2867 Acc: 0.8889\n",
            "\n",
            "Epoch 14/24\n",
            "----------\n",
            "train Loss: 0.1720 Acc: 0.9303\n",
            "val Loss: 0.2752 Acc: 0.8824\n",
            "\n",
            "Epoch 15/24\n",
            "----------\n",
            "train Loss: 0.1909 Acc: 0.9426\n",
            "val Loss: 0.2956 Acc: 0.8954\n",
            "\n",
            "Epoch 16/24\n",
            "----------\n",
            "train Loss: 0.1359 Acc: 0.9590\n",
            "val Loss: 0.3090 Acc: 0.8889\n",
            "\n",
            "Epoch 17/24\n",
            "----------\n",
            "train Loss: 0.1611 Acc: 0.9344\n",
            "val Loss: 0.2897 Acc: 0.8889\n",
            "\n",
            "Epoch 18/24\n",
            "----------\n",
            "train Loss: 0.1862 Acc: 0.9139\n",
            "val Loss: 0.2804 Acc: 0.8824\n",
            "\n",
            "Epoch 19/24\n",
            "----------\n",
            "train Loss: 0.1730 Acc: 0.9385\n",
            "val Loss: 0.2719 Acc: 0.8889\n",
            "\n",
            "Epoch 20/24\n",
            "----------\n",
            "train Loss: 0.1606 Acc: 0.9303\n",
            "val Loss: 0.2734 Acc: 0.8954\n",
            "\n",
            "Epoch 21/24\n",
            "----------\n",
            "train Loss: 0.1991 Acc: 0.9098\n",
            "val Loss: 0.2763 Acc: 0.8889\n",
            "\n",
            "Epoch 22/24\n",
            "----------\n",
            "train Loss: 0.2633 Acc: 0.8893\n",
            "val Loss: 0.2807 Acc: 0.8954\n",
            "\n",
            "Epoch 23/24\n",
            "----------\n",
            "train Loss: 0.1579 Acc: 0.9344\n",
            "val Loss: 0.2897 Acc: 0.8889\n",
            "\n",
            "Epoch 24/24\n",
            "----------\n",
            "train Loss: 0.2236 Acc: 0.8975\n",
            "val Loss: 0.2762 Acc: 0.8824\n",
            "\n",
            "Training complete in 4m 5s\n",
            "Best val Acc: 0.901961\n"
          ],
          "name": "stdout"
        }
      ]
    },
    {
      "cell_type": "code",
      "metadata": {
        "colab": {
          "base_uri": "https://localhost:8080/",
          "height": 637
        },
        "id": "n1HNz7NzcZ9o",
        "outputId": "d311fd66-57b6-440a-f860-71d556858b70"
      },
      "source": [
        "visualize_model(model_ft)"
      ],
      "execution_count": null,
      "outputs": [
        {
          "output_type": "stream",
          "text": [
            "/usr/local/lib/python3.7/dist-packages/torch/utils/data/dataloader.py:481: UserWarning: This DataLoader will create 4 worker processes in total. Our suggested max number of worker in current system is 2, which is smaller than what this DataLoader is going to create. Please be aware that excessive worker creation might get DataLoader running slow or even freeze, lower the worker number to avoid potential slowness/freeze if necessary.\n",
            "  cpuset_checked))\n"
          ],
          "name": "stderr"
        },
        {
          "output_type": "display_data",
          "data": {
            "image/png": "[encoded data removed]",
            "text/plain": [
              "<Figure size 432x288 with 1 Axes>"
            ]
          },
          "metadata": {
            "tags": [],
            "needs_background": "light"
          }
        },
        {
          "output_type": "display_data",
          "data": {
            "image/png": "[encoded data removed]",
            "text/plain": [
              "<Figure size 432x288 with 1 Axes>"
            ]
          },
          "metadata": {
            "tags": [],
            "needs_background": "light"
          }
        },
        {
          "output_type": "display_data",
          "data": {
            "image/png": "[encoded data removed]",
            "text/plain": [
              "<Figure size 432x288 with 1 Axes>"
            ]
          },
          "metadata": {
            "tags": [],
            "needs_background": "light"
          }
        },
        {
          "output_type": "display_data",
          "data": {
            "image/png": "[encoded data removed]",
            "text/plain": [
              "<Figure size 432x288 with 1 Axes>"
            ]
          },
          "metadata": {
            "tags": [],
            "needs_background": "light"
          }
        },
        {
          "output_type": "display_data",
          "data": {
            "image/png": "[encoded data removed]",
            "text/plain": [
              "<Figure size 432x288 with 1 Axes>"
            ]
          },
          "metadata": {
            "tags": [],
            "needs_background": "light"
          }
        },
        {
          "output_type": "display_data",
          "data": {
            "image/png": "[encoded data removed]",
            "text/plain": [
              "<Figure size 432x288 with 1 Axes>"
            ]
          },
          "metadata": {
            "tags": [],
            "needs_background": "light"
          }
        }
      ]
    },
    {
      "cell_type": "markdown",
      "metadata": {
        "id": "6HOVWVsHUhn8"
      },
      "source": [
        "Save resulting model weights"
      ]
    },
    {
      "cell_type": "code",
      "metadata": {
        "id": "dyx18Pu8Uje8"
      },
      "source": [
        "torch.save(model_ft.state_dict(), 'final_model1.pt')"
      ],
      "execution_count": null,
      "outputs": []
    },
    {
      "cell_type": "markdown",
      "metadata": {
        "id": "Q0ibZjstiIyn"
      },
      "source": [
        "Saved file can be found in directory menu on the left in Google Colab interface."
      ]
    },
    {
      "cell_type": "markdown",
      "metadata": {
        "id": "ujb4cf_2o0y3"
      },
      "source": [
        "<div class=\"alert alert-warning\">\n",
        "\n",
        "Save `final_model.pt` file from Google Colab to your computer and than upload it to the Coursera Lab environment. When finish downloading, click \"Submit Assignment\" in this notebook.\n",
        "\n",
        "![image.png](attachment:image.png)\n",
        "\n",
        "</div>"
      ]
    },
    {
      "cell_type": "code",
      "metadata": {
        "id": "iWsnMAuoo0y3"
      },
      "source": [],
      "execution_count": null,
      "outputs": []
    }
  ]
}